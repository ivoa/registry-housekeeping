{
 "cells": [
  {
   "cell_type": "code",
   "execution_count": 1,
   "id": "51bb638b-d529-416c-99b3-104e4f914a92",
   "metadata": {
    "jupyter": {
     "source_hidden": true
    }
   },
   "outputs": [],
   "source": [
    "import os\n",
    "#os.environ['IVOA_REGISTRY']=\"http://vao.stsci.edu/RegTAP/TapService.aspx\"\n",
    "\n",
    "import pyvo as vo\n",
    "import warnings\n",
    "# There are a number of relatively unimportant warnings that show up, so for now, suppress them:\n",
    "warnings.filterwarnings(\"ignore\", module=\"astropy.nddata.blocks.*\")\n",
    "warnings.filterwarnings(\"ignore\", module=\"pyvo.utils.xml.*\")\n",
    "warnings.filterwarnings(\"ignore\", module=\"urllib3.connectionpool.*\")\n",
    "\n",
    "#T Dower said:  \" ForRegTAP, the preferred URL is now \n",
    "#  https://mast.stsci.edu/vo-tap/api/v0.1/registry. \n",
    "#  OAI-PMH is still on the old system.\"\n",
    "navo_new_regtap = vo.dal.TAPService('https://mast.stsci.edu/vo-tap/api/v0.1/registry')\n",
    "navo_old_regtap = vo.dal.TAPService('https://vao.stsci.edu/RegTAP/TapService.aspx')\n",
    "gavo_regtap = vo.dal.TAPService('https://dc.zah.uni-heidelberg.de/__system__/tap/run')\n",
    "euvo_regtap = vo.dal.TAPService('https://registry.euro-vo.org/regtap/tap')\n",
    "\n",
    "from pyvo import registry\n",
    "from astropy.coordinates import SkyCoord"
   ]
  },
  {
   "cell_type": "markdown",
   "id": "d6fec61b-1468-436f-9b96-0f74272e902d",
   "metadata": {},
   "source": [
    "# Registry Spring Cleaning notebook\n",
    "\n",
    "Following up on Markus' [Confessions of a Registry Janitor](https://blog.g-vo.org/registry-a-janitor-speaks-out.html), I propose some regular checks of the metadata.  We already have checks of the validity of services, for instance, in the Operations group weather reports.  This would be compolementary."
   ]
  },
  {
   "cell_type": "markdown",
   "id": "9551317a-581d-44ef-9932-ad6ebd64bddd",
   "metadata": {
    "jp-MarkdownHeadingCollapsed": true
   },
   "source": [
    "## Check 1:  spot check numbers between different registries"
   ]
  },
  {
   "cell_type": "markdown",
   "id": "3045051d-4653-412e-8386-ef82a9cdc7af",
   "metadata": {},
   "source": [
    "What's the best way to get the current registries?  Testing one of them seems circular.  But the [RofR](https://rofr.ivoa.net) is still pointing to the old NAVO RegTAP.  OTOH, there's a bug in the new one.  "
   ]
  },
  {
   "cell_type": "code",
   "execution_count": 2,
   "id": "59561216-a04a-45c2-85a0-f055910d369b",
   "metadata": {
    "scrolled": true
   },
   "outputs": [
    {
     "name": "stdout",
     "output_type": "stream",
     "text": [
      "            ivoid              ...\n",
      "------------------------------ ...\n",
      "        ivo://aip.gavo.org/tap ...\n",
      "ivo://archive.stsci.edu/regtap ...\n",
      "      ivo://esavo/registry/tap ...\n",
      "         ivo://org.gavo.dc/tap ...\n",
      "                ivo://purx/tap ...\n"
     ]
    }
   ],
   "source": [
    "result = registry.search(datamodel=\"regtap\").to_table()\n",
    "print(result['ivoid','access_urls'])"
   ]
  },
  {
   "cell_type": "code",
   "execution_count": 3,
   "id": "1bfaa767-48d0-4db9-a333-eb4f342b5258",
   "metadata": {},
   "outputs": [],
   "source": [
    "def compare( query ):\n",
    "    # Currently \n",
    "    #navo_regtap = vo.dal.TAPService('https://vao.stsci.edu/RegTAP/TapService.aspx')\n",
    "    #navo_new_regtap = vo.dal.TAPService('https://mast.stsci.edu/vo-tap/api/v0.1/registry')\n",
    "    navo_regtap = vo.dal.TAPService('https://mast.stsci.edu/vo-tap/api/v0.1/registry')\n",
    "    gavo_regtap = vo.dal.TAPService('https://dc.zah.uni-heidelberg.de/__system__/tap/run')\n",
    "    euvo_regtap = vo.dal.TAPService('https://registry.euro-vo.org/regtap/tap')\n",
    "    sets=[]\n",
    "    for name,regtap in [('NAVO',navo_regtap),('GAVO',gavo_regtap),(\"EUVO\",euvo_regtap)]:\n",
    "        try:\n",
    "            sias = regtap.search(query)\n",
    "            print(f\"{name} RegTAP finds {len(sias)}\")\n",
    "            #strings=sias.to_table()['ivoid'] + ' \"'+ sias.to_table()['cap_description']+'\"'\n",
    "            sets.append( set(sias.to_table()['ivoid'].data) )\n",
    "        except Exception as e:\n",
    "            print(f\"{name} RegTAP gives error: {e}\")\n",
    "    print(\"Unique to NAVO:\")\n",
    "    print(sets[0].difference(sets[1],sets[2]))\n",
    "    print(\"Unique to GAVO:\")\n",
    "    print(sets[1].difference(sets[0],sets[2]))\n",
    "    print(\"Unique to EUVO:\")\n",
    "    print(sets[2].difference(sets[0],sets[1]))\n",
    "\n",
    "    print(\"Missing from NAVO but in both of the others:\")\n",
    "    print( (sets[1] & sets[2]) - sets[0] )\n",
    "    print(\"Missing from GAVO but in both of the others:\")\n",
    "    print( (sets[0] & sets[2]) - sets[1] )\n",
    "    print(\"Missing from EUVO but in both of the others:\")\n",
    "    print( (sets[0] & sets[1]) - sets[2] )\n",
    "\n",
    "    print(\"Anything not in all three\")\n",
    "    print( (sets[0] | sets[1] | sets[2]) - (sets[0] & sets[1] & sets[2]) )\n",
    "\n",
    "    return(sets)"
   ]
  },
  {
   "cell_type": "code",
   "execution_count": 4,
   "id": "6f02a728-cf8b-4106-8a37-c7742a2301a8",
   "metadata": {},
   "outputs": [
    {
     "name": "stdout",
     "output_type": "stream",
     "text": [
      "NAVO RegTAP finds 477\n",
      "GAVO RegTAP finds 477\n",
      "EUVO RegTAP finds 474\n",
      "Unique to NAVO:\n",
      "{'ivo://nasa.heasarc/skyview/planck030', 'ivo://irsa.ipac/spitzer/images/level1', 'ivo://vopdc.obspm/dfbs', 'ivo://irsa.ipac/spitzer/images/level2', 'ivo://irsa.ipac/dss/images', 'ivo://org.gavo.dc/maidanak/res/rawframes/rawframes'}\n",
      "Unique to GAVO:\n",
      "{'ivo://org.gavo.dc/lswscans/res/positions/siap'}\n",
      "Unique to EUVO:\n",
      "set()\n",
      "Missing from NAVO but in both of the others:\n",
      "{'ivo://org.gavo.dc/dasch/q/im', 'ivo://fai.kz/maksutov_50_telescope/q/i', 'ivo://fai.kz/schmidt_telescope_lc/q/i', 'ivo://iucaa/crts/siap', 'ivo://cxc.harvard.edu/cscr2.1.siap'}\n",
      "Missing from GAVO but in both of the others:\n",
      "{'ivo://irsa.ipac/herschel/images/z0mgs_dust'}\n",
      "Missing from EUVO but in both of the others:\n",
      "{'ivo://vopdc.obspm/gepi/vopsat/esor', 'ivo://vopdc.obspm/gepi/vopsat', 'ivo://vopdc.obspm/gepi/vopsat/srcj'}\n",
      "Anything not in all three\n",
      "{'ivo://org.gavo.dc/dasch/q/im', 'ivo://vopdc.obspm/gepi/vopsat/srcj', 'ivo://vopdc.obspm/gepi/vopsat', 'ivo://nasa.heasarc/skyview/planck030', 'ivo://irsa.ipac/spitzer/images/level1', 'ivo://vopdc.obspm/gepi/vopsat/esor', 'ivo://irsa.ipac/herschel/images/z0mgs_dust', 'ivo://vopdc.obspm/dfbs', 'ivo://irsa.ipac/spitzer/images/level2', 'ivo://fai.kz/maksutov_50_telescope/q/i', 'ivo://fai.kz/schmidt_telescope_lc/q/i', 'ivo://iucaa/crts/siap', 'ivo://org.gavo.dc/lswscans/res/positions/siap', 'ivo://cxc.harvard.edu/cscr2.1.siap', 'ivo://irsa.ipac/dss/images', 'ivo://org.gavo.dc/maidanak/res/rawframes/rawframes'}\n"
     ]
    }
   ],
   "source": [
    "sets = compare(\"select * from rr.capability where standard_id like 'ivo://ivoa.net/std/sia%'\")"
   ]
  },
  {
   "cell_type": "code",
   "execution_count": 5,
   "id": "739467c7-c156-45be-bdb6-1bb91e62f1d0",
   "metadata": {
    "scrolled": true
   },
   "outputs": [
    {
     "name": "stdout",
     "output_type": "stream",
     "text": [
      "NAVO RegTAP finds 26\n",
      "GAVO RegTAP finds 637\n",
      "EUVO RegTAP finds 576\n",
      "Unique to NAVO:\n",
      "set()\n",
      "Unique to GAVO:\n",
      "{'ivo://cds/p/dm/simbad-biblio/pub-dates/2022', 'ivo://cds/p/vphas/dr4/u', 'ivo://cds/p/act-planck/dr4dr6/map_healpix_u', 'ivo://cds/p/planckrevised/co21', 'ivo://cds/p/co-dame-2022', 'ivo://cds/p/skymapper/dr4/g', 'ivo://cds/p/dm/simbad-biblio/pub-dates/2021', 'ivo://cds/p/act-planck/dr4dr6/f090', 'ivo://cds/p/ast3ii/dr1', 'ivo://cds/p/denis/i', 'ivo://cds/p/vphas/dr4/halpha', 'ivo://cds/p/fds/dr1/r', 'ivo://cds/p/euclid/ero/nisp.h', 'ivo://cds/p/jwst/f444w', 'ivo://cds/p/vphas/dr4/color', 'ivo://cds/p/vphas/dr4/g', 'ivo://cds/p/planckrevised/co32', 'ivo://cds/p/jwst/f200w', 'ivo://cds/p/dm/flux-rp/i/355/gaiadr3', 'ivo://cds/p/galacticnucleus/dr1/color', 'ivo://cds/p/act-planck/dr4dr6/f220', 'ivo://cds/p/jwst/f150w', 'ivo://cds/p/jwst/f212n', 'ivo://cds/p/euclid/ero/nisp.j', 'ivo://cds/p/act-planck/dr4dr6/color_mw', 'ivo://cds/p/act-planck/dr4dr6/map_healpix_b', 'ivo://cds/p/jwst/open', 'ivo://cds/p/euclid/ero/color', 'ivo://cds/p/euclid/q1/nisp.y', 'ivo://cds/p/kids/dr5/color-ug', 'ivo://cds/p/euclid/ero/firstimages', 'ivo://cds/p/hst/phat/color', 'ivo://cds/p/fds/dr1/color', 'ivo://cds/p/fds/dr1/u', 'ivo://cds/p/euclid/q1/color', 'ivo://cds/p/jwst/f210m', 'ivo://cds/p/euclid/ero/vis', 'ivo://cds/p/act-planck/dr4dr6/f090/pointsource', 'ivo://cds/p/visions/dr2/ks', 'ivo://cds/p/fds/dr1/i', 'ivo://cds/p/kids/dr5/color-gri', 'ivo://cds/p/kidz/dr5/color-ug', 'ivo://cds/p/ast3ii/dr1/deep', 'ivo://cds/p/act-planck/dr4dr6/map_healpix_q', 'ivo://cds/p/jwst/epo', 'ivo://cds/p/euclid/q1/vis', 'ivo://cds/p/kidz/dr5/color-gri', 'ivo://cds/p/jwst/f480m', 'ivo://cds/p/act-planck/dr4dr6/color_cmb', 'ivo://cds/p/euclid/ero/nisp.y', 'ivo://cds/p/euclid/q1/nisp.h', 'ivo://cds/p/fds/dr1/g', 'ivo://cds/p/desi-legacy-surveys/dr10/i', 'ivo://cds/p/desi-legacy-surveys/dr10/z', 'ivo://cds/p/act-planck/dr4dr6/f150', 'ivo://cds/p/planckrevised/co10', 'ivo://cds/p/euclid/q1/nisp.j', 'ivo://cds/p/visions/dr2/color', 'ivo://cds/p/vphas/dr4/i', 'ivo://cds/p/act-planck/dr4dr6/map_healpix_e', 'ivo://cds/p/desi-legacy-surveys/dr10/r'}\n",
      "Unique to EUVO:\n",
      "set()\n",
      "Missing from NAVO but in both of the others:\n",
      "{'ivo://cds/p/dm/simbad-biblio/pub-dates/2015', 'ivo://cds.vizier/v/147', 'ivo://cds/p/vista/vvv/dr4/j', 'ivo://cds/p/planck/r2/lfi070', 'ivo://cds/p/hla/j', 'ivo://cds/p/hst/palpha_c', 'ivo://cds.vizier/i/345', 'ivo://cds/p/mama/posse', 'ivo://cds/p/io/galileo-ssi-1km', 'ivo://cds/p/decaps/dr2/y', 'ivo://cds/p/allwise/w3', 'ivo://cds/p/decals/dr5/g', 'ivo://cds/p/moon/jsc2007e045375', 'ivo://cds/p/venus/magellan/c3-mdir-clrtopo-6600m-color', 'ivo://cds/p/panstarrs/dr1/color-i-r-g', 'ivo://cds/p/hst/y', 'ivo://cds/p/dm/simbad-biblio/otypes/nebula', 'ivo://cds/p/galaxycounts/2mpz/003-004', 'ivo://cds/p/cfhtls/w/color/ugi', 'ivo://cds/p/sdss9/color', 'ivo://cds/p/3d-dust-bayestar19', 'ivo://cds/p/mars/tes-thermal-inertia', 'ivo://cds/p/dm/simbad-biblio/pub-dates/1996', 'ivo://cds/p/hst/uv', 'ivo://cds/p/hla/oiii', 'ivo://cds/p/thor/continuum/color', 'ivo://cds/p/mellinger/color', 'ivo://cds/p/planck/r2/hfi545', 'ivo://cds/p/ultravista/h', 'ivo://cds/p/hst/r', 'ivo://cds/p/dm/flux-rp/i/345/gaia2', 'ivo://cds/p/planck/r2/hfi353', 'ivo://cds/p/planck/r2/hfi/color', 'ivo://cds/p/hst/widev', 'ivo://cds/p/galexgr6/ais/fuv', 'ivo://cds/p/planck/r2/lfi030', 'ivo://cds.vizier/i/337', 'ivo://cds/p/hst/goods/v', 'ivo://cds/p/quijote/dr1/mfi/i/11ghz', 'ivo://cds/p/planck/r3/lfi/color', 'ivo://cds/p/venus/magellan/microwave-emissivity-4641m', 'ivo://cds/p/planck/r3/hfi143', 'ivo://cds.vizier/i/317', 'ivo://cds/p/hst/u', 'ivo://cds/p/scuba/450em', 'ivo://cds.vizier/ii/348', 'ivo://cds/p/hst/phat/f475w', 'ivo://cds/p/dss2/nir', 'ivo://cds/p/sumss', 'ivo://cds/p/dm/flux-g/i/355/gaiadr3', 'ivo://cds/p/wmap/ka/9yr', 'ivo://cds/p/triton/voyager2-600m', 'ivo://cds.vizier/i/319', 'ivo://cds/p/iris/color', 'ivo://cds/p/dss2/color', 'ivo://cds/p/hla/h2o', 'ivo://cds/p/hst/goods/b', 'ivo://cds/p/hla/sdssr', 'ivo://cds/p/scuba2/850em', 'ivo://cds/p/skymapper-color-irg', 'ivo://cds/p/intgal/60', 'ivo://cds/p/wise/wssa/12um', 'ivo://cds/p/decaps/dr2/z', 'ivo://cds/p/egret/dif/2000-4000', 'ivo://cds/p/intgal/color', 'ivo://cds/p/hsc/dr2/wide/y', 'ivo://cds/p/mars/mgs-tes-dust', 'ivo://cds/p/dm/simbad-biblio/pub-dates/2009', 'ivo://cds/p/vista/vvv/dr4/y', 'ivo://cds/p/des-dr1/z', 'ivo://cds/p/mars/themis-day-100m-v12', 'ivo://cds/p/galaxycounts/2mpz/007-01', 'ivo://cds/p/hla/v', 'ivo://cds/p/act/dr4/f150', 'ivo://cds/p/hscla/2016/g', 'ivo://cds/p/dm/flux-color-rp-g-bp/i/345/gaia2', 'ivo://cds.vizier/i/340', 'ivo://cds/p/dm/simbad-biblio/pub-dates/2020', 'ivo://cds/p/ganymede/voyagergalileo-ssi-1km', 'ivo://cds/p/dm/simbad-biblio/otypes/galaxy', 'ivo://cds/p/dm/simbad-biblio/pub-dates/1999', 'ivo://cds/p/moon/clementine-750nm-118m', 'ivo://cds/p/haslam408/v2', 'ivo://cds/p/decaps/dr2/r', 'ivo://cds/p/hst/phat/f110w', 'ivo://cds.vizier/ii/367', 'ivo://cds/p/2mass6x/j', 'ivo://cds/p/hst-programs/3d-dash', 'ivo://cds/p/ztf/dr7/g', 'ivo://cds/p/panstarrs/dr1/g', 'ivo://cds/p/matlas/i', 'ivo://cds/p/dm/simbad-biblio/pub-dates/1930-1940', 'ivo://cds/p/spitzer/color', 'ivo://cds/p/sdss9/r', 'ivo://cds/p/rhea/cassini-pia12803', 'ivo://cds.vizier/i/259', 'ivo://cds/p/hgps/flux', 'ivo://cds/p/neowiser/w1', 'ivo://cds/p/dm/simbad-biblio/pub-dates/1970-1975', 'ivo://cds/p/hst/phat/f275w', 'ivo://cds/p/egret/dif/300-500', 'ivo://cds/p/hst/goods/color', 'ivo://cds/p/dm/simbad-biblio/pub-dates/1940-1945', 'ivo://cds/p/cfhtls/w/g', 'ivo://cds/p/mimas/cassini-pia17214', 'ivo://cds/p/msx/c', 'ivo://cds/p/egret/dif/500-1000', 'ivo://cds/p/spitzer/irac3', 'ivo://cds/p/act_planck/dr5/f150', 'ivo://cds/p/atlasgal', 'ivo://cds.vizier/i/327', 'ivo://cds/p/hla/co', 'ivo://cds/p/dm/simbad-biblio/pub-dates/2008', 'ivo://cds/p/akari/fis/widel', 'ivo://cds/p/iphas/dr2/r', 'ivo://cds/p/dm/simbad-biblio/pub-dates/2014', 'ivo://cds/p/hla/hbeta', 'ivo://cds/p/dm/simbad-biblio/otypes/x', 'ivo://cds/p/shs', 'ivo://cds/p/cfhtls/d/z', 'ivo://cds/p/mama/colorej', 'ivo://cds/p/des-dr2/colorirg', 'ivo://cds/p/venus/magellan/topography-4641m', 'ivo://cds/p/dm/flux-bp/i/345/gaia2', 'ivo://cds/p/rass', 'ivo://cds/p/quijote/dr1/mfi/i/13ghz', 'ivo://cds.vizier/v/139', 'ivo://cds/p/decaps/dr1/g', 'ivo://cds/p/wmap/k/9yr', 'ivo://cds/p/iapetus/cassini-pia18436', 'ivo://cds/p/vista/vvv/dr4/h/disk', 'ivo://cds/p/tess/2yr', 'ivo://cds/p/galaxycounts/2mpz/001-002', 'ivo://cds/c/dm/simbad-biblio/pub-dates/1970-now', 'ivo://cds/p/wenss', 'ivo://cds/p/hsc/dr2/wide/i', 'ivo://cds/p/dm/simbad-biblio/pub-dates/1965-1970', 'ivo://cds.vizier/ii/341', 'ivo://cds/p/venus/magellan/c3-mdir-2025m', 'ivo://cds.vizier/vi/145', 'ivo://cds/p/des-dr2/g', 'ivo://cds/p/neowiser/w2', 'ivo://cds/p/hscla/2016/r', 'ivo://cds/p/pluto/newhorizons-jul2017-300m', 'ivo://cds/p/jupiter/pia07782', 'ivo://cds/p/jwst/stephans-quintet/miri', 'ivo://cds/p/act/dr5/f90', 'ivo://cds/p/mars/mola-color', 'ivo://cds/p/skymapper-r', 'ivo://cds/p/skymapper-g', 'ivo://cds/p/akari/fis/n60', 'ivo://cds.vizier/ii/293', 'ivo://cds/p/cfhtls/w/i', 'ivo://cds/p/vista/viking/j', 'ivo://cds/p/earth/bluemarble', 'ivo://cds/p/hsc/dr2/deep/r', 'ivo://cds/p/atlasgal/apexplanck', 'ivo://cds/p/act_planck/dr4/f090', 'ivo://cds/p/quijote/dr1/mfi/p/11ghz', 'ivo://cds/p/act/dr4/f090', 'ivo://cds.vizier/i/322a', 'ivo://cds/p/titan/iss-p19658-4km', 'ivo://cds/p/2mass6x/h', 'ivo://cds/p/planck/r2/hfi857', 'ivo://cds/p/spitzer/irac2', 'ivo://cds/p/dm/simbad-biblio/pub-dates/2010', 'ivo://cds.vizier/i/252', 'ivo://cds/c/cgps-hi', 'ivo://cds/p/unwise/w1', 'ivo://cds/p/intgal/35', 'ivo://cds/p/rosatwfc/f1', 'ivo://cds/p/titan/sar-hisar-128ppd', 'ivo://cds/p/vista/viking/k', 'ivo://cds/p/quijote/dr1/mfi/i/19ghz', 'ivo://cds/p/quest-for-the-missing-dust/spire500', 'ivo://cds/p/msx/a', 'ivo://cds/p/hst/wideuv', 'ivo://cds/p/iphas/dr2/halpha', 'ivo://cds/p/dm/flux-bp/i/355/gaiadr3', 'ivo://cds/p/hst/co', 'ivo://cds/p/desi-legacy-surveys/dr10/g', 'ivo://cds/p/dm/simbad-biblio/pub-dates/1980-1985', 'ivo://cds/p/egret/dif/4000-10000', 'ivo://cds/p/des-dr1/i', 'ivo://cds/c/califa/v500/dr2', 'ivo://cds/p/hst/h2o', 'ivo://cds/p/shassa/sm', 'ivo://cds/p/ztf/dr7/r', 'ivo://cds.vizier/i/360', 'ivo://cds/p/dm/simbad-biblio/pub-dates/1900-1910', 'ivo://cds/p/hla/sdssg', 'ivo://cds/p/cfhtls/w/u', 'ivo://cds/p/hst/nii', 'ivo://cds/p/vista/viking/y', 'ivo://cds/p/haslam408', 'ivo://cds/c/mopra/12co', 'ivo://cds.vizier/v/165', 'ivo://cds/p/tethys/cassini-pia18439', 'ivo://cds/p/sdss9/i', 'ivo://cds/p/hla/i', 'ivo://cds.vizier/iv/38', 'ivo://cds/p/dm/simbad-biblio/pub-dates/2003', 'ivo://cds/p/vtss/ha', 'ivo://cds.vizier/ii/363', 'ivo://cds/p/jwst/first-images', 'ivo://cds/p/msx/color', 'ivo://cds/p/hla/h', 'ivo://cds/p/dm/simbad-biblio/pub-dates/1910-1920', 'ivo://cds/p/ultravista/y', 'ivo://cds/p/hla/sdssz', 'ivo://cds/p/des-dr2/y', 'ivo://cds/p/hst/oiii', 'ivo://cds/p/hst/palpha', 'ivo://cds.vizier/b/denis', 'ivo://cds/p/planck/r2/lfi/color', 'ivo://cds/p/hsc/dr2/wide/r', 'ivo://cds/p/vlssr', 'ivo://cds/p/skymapper-i', 'ivo://cds/p/2mass/k', 'ivo://cds/p/dm/simbad-biblio/pub-dates/1998', 'ivo://cds/p/des-dr2/r', 'ivo://cds/p/scuba/850emi', 'ivo://cds/p/planck/r2/hfi217', 'ivo://cds/p/dm/simbad-biblio/pub-dates/2001', 'ivo://cds/p/dm/radial-velocity/i/355/gaiadr3', 'ivo://cds/p/hsc/dr2/deep/g', 'ivo://cds/p/quest-for-the-missing-dust/spire350', 'ivo://cds/p/mars/pan-stimson', 'ivo://cds/p/quijote/dr1/mfi/p/13ghz', 'ivo://cds/p/planck/r3/hfi353', 'ivo://cds/p/hgps/significance', 'ivo://cds.vizier/ii/349', 'ivo://cds/p/dm/i/355/gaiadr3', 'ivo://cds/p/thor/continuum/1690', 'ivo://cds/p/allwise/w4', 'ivo://cds/p/hst/j', 'ivo://cds/p/desi-legacy-surveys/dr10/color', 'ivo://cds/p/mars/mgs-mola-dem', 'ivo://cds/p/europa/voyager-galileossi-500m', 'ivo://cds/p/oberon/voyager', 'ivo://cds/p/planck/r3/lfi30', 'ivo://cds/p/des-dr2/z', 'ivo://cds/p/skymapper-u', 'ivo://cds/p/intgal/80', 'ivo://cds/p/dione/cassini-pia12577', 'ivo://cds/p/hla/uv', 'ivo://cds/p/decals/dr3/color', 'ivo://cds/p/nvss', 'ivo://cds/p/egret/dif/70-100', 'ivo://cds/p/decaps/dr2/g', 'ivo://cds/p/mars/mro-ctx', 'ivo://cds/p/vtss/hacc', 'ivo://cds/p/2mass/j', 'ivo://cds.vizier/i/312', 'ivo://cds/p/planck/r2/cmb', 'ivo://cds.vizier/i/339', 'ivo://cds/p/mars/themis-day-100m', 'ivo://cds/p/spitzer/irac1', 'ivo://cds/p/wise/w1', 'ivo://cds/p/des-dr1/colorirg', 'ivo://cds/p/quijote/dr1/mfi/p/19ghz', 'ivo://cds.vizier/ii/371', 'ivo://cds/c/mopra/c18o', 'ivo://cds/p/hst/goods/i', 'ivo://cds/p/jwst/deep-field-smac0723/nircam', 'ivo://cds/p/co', 'ivo://cds/p/allwise/color', 'ivo://cds/p/spitzer/mips1', 'ivo://cds/p/matlas/g', 'ivo://cds/p/planck/r2/hfi100', 'ivo://cds/p/hst/v', 'ivo://cds/p/hscla/2016/y', 'ivo://cds/p/msx/d', 'ivo://cds/p/dm/simbad-biblio/otypes/hii', 'ivo://cds/p/thor/hi', 'ivo://cds/c/hi4pi/hi', 'ivo://cds/p/hst/b', 'ivo://cds.vizier/i/324', 'ivo://cds/p/shassa/h', 'ivo://cds/p/hla/u', 'ivo://cds/p/planck/r3/hfi217', 'ivo://cds/p/thor/continuum/1950', 'ivo://cds/p/dm/simbad-biblio/pub-dates/2004', 'ivo://cds/p/dm/simbad-biblio/pub-dates/1945-1950', 'ivo://cds/p/jwst/stephans-quintet/nircam+miri', 'ivo://cds/p/sdss9/z', 'ivo://cds.vizier/i/355', 'ivo://cds/p/akari/fis/wides', 'ivo://cds/p/hst/h', 'ivo://cds/p/isophot/170', 'ivo://cds/p/act2/dr4/cmb', 'ivo://cds/p/thor/continuum/1310', 'ivo://cds/p/planck/r3/hfi857', 'ivo://cds/p/sdss9/color-alt', 'ivo://cds/p/hsc/dr2/deep/y', 'ivo://cds/p/dm/simbad-biblio/pub-dates/2019', 'ivo://cds/p/meerkat/galactic-centre-1284mhz-stokesi', 'ivo://cds/p/vistaorion/color', 'ivo://cds/p/hst/sdssr', 'ivo://cds/p/hsc/dr2/deep/color-i-r-g', 'ivo://cds/p/des-dr1/y', 'ivo://cds/p/hst/other', 'ivo://cds.vizier/ii/312', 'ivo://cds/p/fermi/4', 'ivo://cds/p/hst/phat/f814w', 'ivo://cds/p/hsc/dr2/wide/color-i-r-g', 'ivo://cds/p/mars/themis-color', 'ivo://cds/p/des-dr1/r', 'ivo://cds/p/spitzer/mips3', 'ivo://cds/p/moon/lroc-wac-100m', 'ivo://cds/p/dm/flux-rp/i/350/gaiaedr3', 'ivo://cds.vizier/i/284', 'ivo://cds/p/dm/simbad-biblio/pub-dates/2012', 'ivo://cds/p/hla/wideuv', 'ivo://cds.vizier/i/254', 'ivo://cds/p/egret/dif/1000-2000', 'ivo://cds/p/ultravista/j', 'ivo://cds.vizier/ii/360', 'ivo://cds/p/dm/simbad-biblio/otypes/infrared', 'ivo://cds/p/dss2/red', 'ivo://cds/p/skymapper-z', 'ivo://cds/p/hla/palpha_c', 'ivo://cds/p/hla/siii', 'ivo://cds/p/wmap/w/9yr', 'ivo://cds/p/hst/phat/f336w', 'ivo://cds/p/decaps/dr2/i', 'ivo://cds/p/unwise/color-w2-w1w2-w1', 'ivo://cds.vizier/i/329', 'ivo://cds/p/2mass/h', 'ivo://cds/p/dm/simbad-biblio/pub-dates/1985-1990', 'ivo://cds/p/dm/flux-bp/i/350/gaiaedr3', 'ivo://cds/p/mars/express286545', 'ivo://cds/p/sdss9/u', 'ivo://cds/p/mars/themis-ir-night-100m-v14', 'ivo://cds/p/wmap/v/9yr', 'ivo://cds/p/dm/simbad-biblio/pub-dates/1994', 'ivo://cds/p/hi4pi/nhi', 'ivo://cds/p/wise/w3', 'ivo://cds/p/cfhtls/d/r', 'ivo://cds/p/enceladus/cassini-110m', 'ivo://cds/p/hla/halpha', 'ivo://cds/p/miranda/voyager', 'ivo://cds/p/mars/pan-pia20284', 'ivo://cds/p/quijote/dr1/mfi/i/17ghz', 'ivo://cds/p/planck/r3/lfi70', 'ivo://cds/p/skymapper-v', 'ivo://cds/p/dm/flux-g/i/345/gaia2', 'ivo://cds/p/dm/simbad-biblio/otypes/radio', 'ivo://cds/c/galfahi/narrow/dr2', 'ivo://cds.vizier/i/305', 'ivo://cds/p/dm/simbad-biblio/pub-dates/1995', 'ivo://cds.vizier/i/271', 'ivo://cds/p/cfhtls/d/u', 'ivo://cds/p/mercury/messenger-mdis-loi-166m', 'ivo://cds/p/wmap/q/9yr', 'ivo://cds.vizier/ii/364', 'ivo://cds/p/mars/viking-mdim21-color', 'ivo://cds/p/matlas/color', 'ivo://cds/p/ztf/dr7/color', 'ivo://cds/p/matlas/r', 'ivo://cds/p/rosatwfc/color', 'ivo://cds.vizier/i/320', 'ivo://cds/p/allwise/w2', 'ivo://cds/p/vista/vvv/dr4/h/bulge', 'ivo://cds/p/egret/dif/50-70', 'ivo://cds/p/dm/simbad-biblio/pub-dates/2017', 'ivo://cds/p/finkbeiner', 'ivo://cds/p/ultravista/color/ksjy', 'ivo://cds/p/jwst/carina-nebula/nircam', 'ivo://cds/p/2mass/color', 'ivo://cds/p/scuba2/450em', 'ivo://cds/p/dm/simbad-biblio/otypes/star', 'ivo://cds/p/akari/fis/color', 'ivo://cds/p/hst/halpha', 'ivo://cds/p/hla/widev', 'ivo://cds/p/hst/phat/f160w', 'ivo://cds/p/neowiser/color', 'ivo://cds/p/dm/simbad-biblio/pub-dates/2002', 'ivo://cds/p/hst/hbeta', 'ivo://cds/p/venus/magellan/meterscaleslope-4641m', 'ivo://cds/p/hsc/dr2/wide/z', 'ivo://cds/p/hst/oii', 'ivo://cds/p/hst/siii', 'ivo://cds/p/jpspr1', 'ivo://cds/c/galfahi/narrow', 'ivo://cds/p/wise/w4', 'ivo://cds/p/egret/dif/150-300', 'ivo://cds/p/vista/viking/z', 'ivo://cds/p/dm/radial-velocity/i/345/gaia2', 'ivo://cds.vizier/ii/328', 'ivo://cds/p/dm/simbad-biblio/otypes/uv', 'ivo://cds/p/2mass6x/color', 'ivo://cds.vizier/ii/358', 'ivo://cds/p/galexgr6_7/fuv', 'ivo://cds/p/planck/r3/hfi545', 'ivo://cds/p/hst/sdssz', 'ivo://cds/p/planck/r2/hfi143', 'ivo://cds/p/egret/inf100', 'ivo://cds/p/hst/goods/z', 'ivo://cds/p/galaxycounts/2mpz/0001-001', 'ivo://cds/p/cfhtls/w/r', 'ivo://cds.vizier/i/354', 'ivo://cds.vizier/ii/351', 'ivo://cds/p/hla/r', 'ivo://cds/p/act_planck/dr5/f90', 'ivo://cds/p/planck/r3/hfi100', 'ivo://cds/p/shassa/du', 'ivo://cds/p/dm/simbad-biblio/pub-dates/1975-1980', 'ivo://cds/p/galaxycounts/2mpz/005-007', 'ivo://cds/p/mars/themis-night-100m', 'ivo://cds/p/dm/simbad-biblio/pub-dates/1850-1900', 'ivo://cds/p/jwst/cartwheel/nircam+miri', 'ivo://cds/p/dm/i/350/gaiaedr3', 'ivo://cds/p/planck/r2/lfi044', 'ivo://cds/p/dm/simbad-biblio/pub-dates/1950-1955', 'ivo://cds/c/mopra/13co', 'ivo://cds/p/hsc/dr2/deep/i', 'ivo://cds/p/ultravista/color/yjks', 'ivo://cds.vizier/ii/246', 'ivo://cds/p/quijote/dr1/mfi/p/17ghz', 'ivo://cds/p/act_planck/dr5/f220', 'ivo://cds/p/ultravista/ks', 'ivo://cds/p/spitzer/mips2', 'ivo://cds/p/dm/simbad-biblio/pub-dates/2007', 'ivo://cds/p/dm/simbad-biblio/pub-dates/2011', 'ivo://cds/p/vista/vvv/dr4/colorjyz', 'ivo://cds/p/spitzer/irac4', 'ivo://cds/p/decaps/dr1/color', 'ivo://cds/c/manga', 'ivo://cds/p/akari/fis/n160', 'ivo://cds/p/hla/b', 'ivo://cds/p/dm/simbad-biblio/pub-dates/2006', 'ivo://cds/c/hipass', 'ivo://cds/p/callisto/voyager-galileo-simp-1km', 'ivo://cds.vizier/ii/350', 'ivo://cds/p/egret/dif/30-50', 'ivo://cds/p/galaxycounts/2mpz/004-005', 'ivo://cds/p/dm/flux-color-rp-g-bp/i/355/gaiadr3', 'ivo://cds/p/ztf/dr7/i', 'ivo://cds/p/jwst/southern-ring-nebula/nircam', 'ivo://cds/p/hsc/dr2/wide/g', 'ivo://cds.vizier/i/358', 'ivo://cds/p/act/dr5/f220', 'ivo://cds.vizier/ii/294', 'ivo://cds/p/hsc/dr2/deep/z', 'ivo://cds/p/fermi/color', 'ivo://cds/p/hst/i', 'ivo://cds/p/quest-for-the-missing-dust/spire250', 'ivo://cds/p/moon/lroc-wac-gld100-118m', 'ivo://cds/p/panstarrs/dr1/i', 'ivo://cds/p/ultravista/nb118', 'ivo://cds/p/moon/geological-map', 'ivo://cds/p/vista/vvv/dr4/z', 'ivo://cds/p/hla/palpha', 'ivo://cds/p/galaxycounts/2mpz/002-003', 'ivo://cds/p/panstarrs/dr1/color-z-zg-g', 'ivo://cds/p/cfhtls/d/g', 'ivo://cds.vizier/ii/347', 'ivo://cds/p/dm/simbad-biblio/allobjects', 'ivo://cds/p/panstarrs/dr1/r', 'ivo://cds/p/galexgr6_7/color', 'ivo://cds/p/hi', 'ivo://cds/p/allwise/w1', 'ivo://cds/p/titania/voyager', 'ivo://cds/p/planck/r3/hfi/color', 'ivo://cds/p/fermi/5', 'ivo://cds/p/dm/flux-g/i/350/gaiaedr3', 'ivo://cds/p/hla/y', 'ivo://cds/p/hst/epo', 'ivo://cds/p/dm/simbad-biblio/pub-dates/1991', 'ivo://cds/p/dm/simbad-biblio/pub-dates/1920-1930', 'ivo://cds/p/moon/kaguya-evening-v04-474m', 'ivo://cds/p/dm/simbad-biblio/pub-dates/2016', 'ivo://cds/c/mopra/c17o', 'ivo://cds/p/galexgr6/ais/nuv', 'ivo://cds/p/cfhtls/d/color/ugi', 'ivo://cds/p/panstarrs/dr1/y', 'ivo://cds/p/thor/continuum/1820', 'ivo://cds/p/dm/simbad-biblio/pub-dates/1997', 'ivo://cds/p/msx/e', 'ivo://cds/p/umbriel/voyager', 'ivo://cds/p/hst/sdssg', 'ivo://cds/p/galexgr6/ais/color', 'ivo://cds.vizier/vi/137', 'ivo://cds/p/hla/oii', 'ivo://cds/p/fermi/3', 'ivo://cds/p/des-dr2/i', 'ivo://cds/p/2mass6x/k', 'ivo://cds/p/meerkat/galactic-centre-spectral-index', 'ivo://cds/p/sun/euvi-aia304-2012', 'ivo://cds/p/dm/i/345/gaia2', 'ivo://cds/p/charon/newhorizon-pia19866', 'ivo://cds/p/decaps/dr2/color', 'ivo://cds/p/quest-for-the-missing-dust/pacs160', 'ivo://cds/p/egret/sup100', 'ivo://cds/p/dm/simbad-biblio/pub-dates/2013', 'ivo://cds/p/planck/r3/cmb', 'ivo://cds/p/mars/tes-albedo', 'ivo://cds.vizier/ii/281', 'ivo://cds/p/unwise/w2', 'ivo://cds/p/mars/pan-perseverance-pia24422', 'ivo://cds/p/shassa/fl', 'ivo://cds/p/mars/mola-roughness', 'ivo://cds/p/act_planck/dr4/f150', 'ivo://cds/p/quest-for-the-missing-dust/pacs100', 'ivo://cds/p/neptune/voyager2', 'ivo://cds/p/thor/continuum/1440', 'ivo://cds/p/mama/srcj', 'ivo://cds/p/cfhtls/d/i', 'ivo://cds/p/dm/simbad-biblio/pub-dates/1992', 'ivo://cds/p/hscla/2016/i', 'ivo://cds/p/des-dr1/g', 'ivo://cds.vizier/ii/365', 'ivo://cds/p/scuba/850em', 'ivo://cds.vizier/ii/336', 'ivo://cds/p/dm/simbad-biblio/pub-dates/2000', 'ivo://cds/p/wise/w2', 'ivo://cds/p/dm/simbad-biblio/otypes/other', 'ivo://cds/p/dm/vizmine', 'ivo://cds/p/eso/epo', 'ivo://cds/p/dm/simbad-biblio/pub-dates/2005', 'ivo://cds.vizier/ii/343', 'ivo://cds/p/hla/nii', 'ivo://cds/p/egret/dif/100-150', 'ivo://cds/p/coronelli', 'ivo://cds/p/dm/flux-color-rp-g-bp/i/350/gaiaedr3', 'ivo://cds/p/cohrs', 'ivo://cds/p/dm/simbad-biblio/pub-dates/1955-1960', 'ivo://cds/c/muse-m42', 'ivo://cds/p/ariel/voyager', 'ivo://cds/p/dss2/blue', 'ivo://cds/p/galexgr6_7/nuv', 'ivo://cds.vizier/i/350', 'ivo://cds/p/dm/simbad-biblio/pub-dates/1993', 'ivo://cds/p/dm/simbad-biblio/pub-dates/2018', 'ivo://cds/p/cfhtls/w/z', 'ivo://cds/c/galfahi/wide/dr2', 'ivo://cds/p/iphas/dr2/i', 'ivo://cds/p/sdss9/g', 'ivo://cds/p/planck/r3/lfi44', 'ivo://cds/p/rosatwfc/f2', 'ivo://cds/p/dm/simbad-biblio/pub-dates/1960-1965', 'ivo://cds/p/decals/dr5/r', 'ivo://cds/p/decals/dr5/color', 'ivo://cds/p/vista/viking/h', 'ivo://cds/p/hscla/2016/z', 'ivo://cds/p/thor/continuum/1060', 'ivo://cds/p/panstarrs/dr1/z', 'ivo://cds/p/act/dr5/f150'}\n",
      "Missing from GAVO but in both of the others:\n",
      "set()\n",
      "Missing from EUVO but in both of the others:\n",
      "set()\n",
      "Anything not in all three\n",
      "{'ivo://cds/p/dm/simbad-biblio/pub-dates/2015', 'ivo://cds/p/act-planck/dr4dr6/map_healpix_u', 'ivo://cds.vizier/v/147', 'ivo://cds/p/planckrevised/co21', 'ivo://cds/p/vista/vvv/dr4/j', 'ivo://cds/p/hla/j', 'ivo://cds/p/planck/r2/lfi070', 'ivo://cds/p/hst/palpha_c', 'ivo://cds.vizier/i/345', 'ivo://cds/p/mama/posse', 'ivo://cds/p/io/galileo-ssi-1km', 'ivo://cds/p/decaps/dr2/y', 'ivo://cds/p/allwise/w3', 'ivo://cds/p/decals/dr5/g', 'ivo://cds/p/act-planck/dr4dr6/f090', 'ivo://cds/p/moon/jsc2007e045375', 'ivo://cds/p/venus/magellan/c3-mdir-clrtopo-6600m-color', 'ivo://cds/p/fds/dr1/r', 'ivo://cds/p/panstarrs/dr1/color-i-r-g', 'ivo://cds/p/hst/y', 'ivo://cds/p/dm/simbad-biblio/otypes/nebula', 'ivo://cds/p/galaxycounts/2mpz/003-004', 'ivo://cds/p/cfhtls/w/color/ugi', 'ivo://cds/p/galacticnucleus/dr1/color', 'ivo://cds/p/sdss9/color', 'ivo://cds/p/3d-dust-bayestar19', 'ivo://cds/p/jwst/f150w', 'ivo://cds/p/mars/tes-thermal-inertia', 'ivo://cds/p/dm/simbad-biblio/pub-dates/1996', 'ivo://cds/p/hst/uv', 'ivo://cds/p/hla/oiii', 'ivo://cds/p/thor/continuum/color', 'ivo://cds/p/euclid/ero/firstimages', 'ivo://cds/p/mellinger/color', 'ivo://cds/p/planck/r2/hfi545', 'ivo://cds/p/ultravista/h', 'ivo://cds/p/hst/r', 'ivo://cds/p/dm/flux-rp/i/345/gaia2', 'ivo://cds/p/planck/r2/hfi353', 'ivo://cds/p/planck/r2/hfi/color', 'ivo://cds/p/hst/widev', 'ivo://cds/p/galexgr6/ais/fuv', 'ivo://cds/p/planck/r2/lfi030', 'ivo://cds.vizier/i/337', 'ivo://cds/p/hst/goods/v', 'ivo://cds/p/ast3ii/dr1/deep', 'ivo://cds/p/act-planck/dr4dr6/map_healpix_q', 'ivo://cds/p/quijote/dr1/mfi/i/11ghz', 'ivo://cds/p/planck/r3/lfi/color', 'ivo://cds/p/venus/magellan/microwave-emissivity-4641m', 'ivo://cds/p/kidz/dr5/color-gri', 'ivo://cds/p/planck/r3/hfi143', 'ivo://cds/p/hst/u', 'ivo://cds.vizier/i/317', 'ivo://cds/p/scuba/450em', 'ivo://cds/p/dss2/nir', 'ivo://cds/p/hst/phat/f475w', 'ivo://cds/p/sumss', 'ivo://cds/p/dm/flux-g/i/355/gaiadr3', 'ivo://cds.vizier/ii/348', 'ivo://cds/p/jwst/f480m', 'ivo://cds/p/wmap/ka/9yr', 'ivo://cds/p/triton/voyager2-600m', 'ivo://cds/p/desi-legacy-surveys/dr10/z', 'ivo://cds.vizier/i/319', 'ivo://cds/p/iris/color', 'ivo://cds/p/dss2/color', 'ivo://cds/p/hla/h2o', 'ivo://cds/p/hst/goods/b', 'ivo://cds/p/hla/sdssr', 'ivo://cds/p/scuba2/850em', 'ivo://cds/p/skymapper-color-irg', 'ivo://cds/p/wise/wssa/12um', 'ivo://cds/p/intgal/60', 'ivo://cds/p/desi-legacy-surveys/dr10/r', 'ivo://cds/p/decaps/dr2/z', 'ivo://cds/p/intgal/color', 'ivo://cds/p/egret/dif/2000-4000', 'ivo://cds/p/hsc/dr2/wide/y', 'ivo://cds/p/mars/mgs-tes-dust', 'ivo://cds/p/dm/simbad-biblio/pub-dates/2009', 'ivo://cds/p/vista/vvv/dr4/y', 'ivo://cds/p/des-dr1/z', 'ivo://cds/p/mars/themis-day-100m-v12', 'ivo://cds/p/galaxycounts/2mpz/007-01', 'ivo://cds/p/hla/v', 'ivo://cds/p/act/dr4/f150', 'ivo://cds/p/hscla/2016/g', 'ivo://cds/p/dm/flux-color-rp-g-bp/i/345/gaia2', 'ivo://cds.vizier/i/340', 'ivo://cds/p/dm/simbad-biblio/pub-dates/2020', 'ivo://cds/p/ganymede/voyagergalileo-ssi-1km', 'ivo://cds/p/dm/simbad-biblio/otypes/galaxy', 'ivo://cds/p/dm/simbad-biblio/pub-dates/1999', 'ivo://cds/p/moon/clementine-750nm-118m', 'ivo://cds/p/haslam408/v2', 'ivo://cds/p/decaps/dr2/r', 'ivo://cds/p/hst/phat/f110w', 'ivo://cds.vizier/ii/367', 'ivo://cds/p/2mass6x/j', 'ivo://cds/p/hst-programs/3d-dash', 'ivo://cds/p/ztf/dr7/g', 'ivo://cds/p/panstarrs/dr1/g', 'ivo://cds/p/matlas/i', 'ivo://cds/p/dm/simbad-biblio/pub-dates/1930-1940', 'ivo://cds/p/spitzer/color', 'ivo://cds/p/act-planck/dr4dr6/color_mw', 'ivo://cds/p/sdss9/r', 'ivo://cds/p/rhea/cassini-pia12803', 'ivo://cds.vizier/i/259', 'ivo://cds/p/hgps/flux', 'ivo://cds/p/neowiser/w1', 'ivo://cds/p/dm/simbad-biblio/pub-dates/1970-1975', 'ivo://cds/p/hst/phat/f275w', 'ivo://cds/p/egret/dif/300-500', 'ivo://cds/p/hst/goods/color', 'ivo://cds/p/dm/simbad-biblio/pub-dates/1940-1945', 'ivo://cds/p/cfhtls/w/g', 'ivo://cds/p/mimas/cassini-pia17214', 'ivo://cds/p/msx/c', 'ivo://cds/p/egret/dif/500-1000', 'ivo://cds/p/spitzer/irac3', 'ivo://cds/p/act_planck/dr5/f150', 'ivo://cds/p/atlasgal', 'ivo://cds.vizier/i/327', 'ivo://cds/p/hla/co', 'ivo://cds/p/dm/simbad-biblio/pub-dates/2008', 'ivo://cds/p/akari/fis/widel', 'ivo://cds/p/iphas/dr2/r', 'ivo://cds/p/dm/simbad-biblio/pub-dates/2014', 'ivo://cds/p/hla/hbeta', 'ivo://cds/p/dm/simbad-biblio/otypes/x', 'ivo://cds/p/shs', 'ivo://cds/p/cfhtls/d/z', 'ivo://cds/p/mama/colorej', 'ivo://cds/p/des-dr2/colorirg', 'ivo://cds/p/venus/magellan/topography-4641m', 'ivo://cds/p/dm/flux-bp/i/345/gaia2', 'ivo://cds/p/rass', 'ivo://cds/p/quijote/dr1/mfi/i/13ghz', 'ivo://cds/p/act-planck/dr4dr6/color_cmb', 'ivo://cds.vizier/v/139', 'ivo://cds/p/decaps/dr1/g', 'ivo://cds/p/wmap/k/9yr', 'ivo://cds/p/iapetus/cassini-pia18436', 'ivo://cds/p/vista/vvv/dr4/h/disk', 'ivo://cds/p/tess/2yr', 'ivo://cds/p/galaxycounts/2mpz/001-002', 'ivo://cds/c/dm/simbad-biblio/pub-dates/1970-now', 'ivo://cds/p/wenss', 'ivo://cds/p/hsc/dr2/wide/i', 'ivo://cds/p/planckrevised/co10', 'ivo://cds/p/dm/simbad-biblio/pub-dates/1965-1970', 'ivo://cds.vizier/ii/341', 'ivo://cds/p/venus/magellan/c3-mdir-2025m', 'ivo://cds.vizier/vi/145', 'ivo://cds/p/des-dr2/g', 'ivo://cds/p/neowiser/w2', 'ivo://cds/p/hscla/2016/r', 'ivo://cds/p/pluto/newhorizons-jul2017-300m', 'ivo://cds/p/jupiter/pia07782', 'ivo://cds/p/jwst/stephans-quintet/miri', 'ivo://cds/p/act/dr5/f90', 'ivo://cds/p/mars/mola-color', 'ivo://cds/p/skymapper-r', 'ivo://cds/p/skymapper-g', 'ivo://cds/p/akari/fis/n60', 'ivo://cds/p/cfhtls/w/i', 'ivo://cds.vizier/ii/293', 'ivo://cds/p/vista/viking/j', 'ivo://cds/p/earth/bluemarble', 'ivo://cds/p/hsc/dr2/deep/r', 'ivo://cds/p/vphas/dr4/halpha', 'ivo://cds/p/atlasgal/apexplanck', 'ivo://cds/p/act_planck/dr4/f090', 'ivo://cds/p/quijote/dr1/mfi/p/11ghz', 'ivo://cds/p/act/dr4/f090', 'ivo://cds.vizier/i/322a', 'ivo://cds/p/titan/iss-p19658-4km', 'ivo://cds/p/jwst/f444w', 'ivo://cds/p/2mass6x/h', 'ivo://cds/p/planck/r2/hfi857', 'ivo://cds/p/spitzer/irac2', 'ivo://cds/p/dm/simbad-biblio/pub-dates/2010', 'ivo://cds/c/cgps-hi', 'ivo://cds.vizier/i/252', 'ivo://cds/p/euclid/ero/nisp.j', 'ivo://cds/p/unwise/w1', 'ivo://cds/p/intgal/35', 'ivo://cds/p/rosatwfc/f1', 'ivo://cds/p/titan/sar-hisar-128ppd', 'ivo://cds/p/euclid/ero/color', 'ivo://cds/p/vista/viking/k', 'ivo://cds/p/quijote/dr1/mfi/i/19ghz', 'ivo://cds/p/quest-for-the-missing-dust/spire500', 'ivo://cds/p/msx/a', 'ivo://cds/p/hst/wideuv', 'ivo://cds/p/iphas/dr2/halpha', 'ivo://cds/p/dm/flux-bp/i/355/gaiadr3', 'ivo://cds/p/hst/co', 'ivo://cds/p/desi-legacy-surveys/dr10/g', 'ivo://cds/p/dm/simbad-biblio/pub-dates/1980-1985', 'ivo://cds/p/egret/dif/4000-10000', 'ivo://cds/p/des-dr1/i', 'ivo://cds/c/califa/v500/dr2', 'ivo://cds/p/kidz/dr5/color-ug', 'ivo://cds/p/hst/h2o', 'ivo://cds/p/shassa/sm', 'ivo://cds/p/ztf/dr7/r', 'ivo://cds.vizier/i/360', 'ivo://cds/p/dm/simbad-biblio/pub-dates/1900-1910', 'ivo://cds/p/hla/sdssg', 'ivo://cds/p/cfhtls/w/u', 'ivo://cds/p/hst/nii', 'ivo://cds/p/vista/viking/y', 'ivo://cds/p/haslam408', 'ivo://cds/c/mopra/12co', 'ivo://cds.vizier/v/165', 'ivo://cds/p/tethys/cassini-pia18439', 'ivo://cds/p/sdss9/i', 'ivo://cds/p/euclid/q1/nisp.j', 'ivo://cds/p/hla/i', 'ivo://cds/p/dm/simbad-biblio/pub-dates/2003', 'ivo://cds/p/act-planck/dr4dr6/map_healpix_e', 'ivo://cds.vizier/iv/38', 'ivo://cds/p/vtss/ha', 'ivo://cds.vizier/ii/363', 'ivo://cds/p/jwst/first-images', 'ivo://cds/p/msx/color', 'ivo://cds/p/hla/h', 'ivo://cds/p/co-dame-2022', 'ivo://cds/p/dm/simbad-biblio/pub-dates/1910-1920', 'ivo://cds/p/ultravista/y', 'ivo://cds/p/hla/sdssz', 'ivo://cds/p/des-dr2/y', 'ivo://cds/p/hst/oiii', 'ivo://cds/p/hst/palpha', 'ivo://cds.vizier/b/denis', 'ivo://cds/p/planck/r2/lfi/color', 'ivo://cds/p/hsc/dr2/wide/r', 'ivo://cds/p/vlssr', 'ivo://cds/p/skymapper-i', 'ivo://cds/p/2mass/k', 'ivo://cds/p/dm/simbad-biblio/pub-dates/1998', 'ivo://cds/p/des-dr2/r', 'ivo://cds/p/scuba/850emi', 'ivo://cds/p/planck/r2/hfi217', 'ivo://cds/p/dm/simbad-biblio/pub-dates/2001', 'ivo://cds/p/dm/radial-velocity/i/355/gaiadr3', 'ivo://cds/p/hsc/dr2/deep/g', 'ivo://cds/p/quest-for-the-missing-dust/spire350', 'ivo://cds/p/mars/pan-stimson', 'ivo://cds/p/quijote/dr1/mfi/p/13ghz', 'ivo://cds/p/planck/r3/hfi353', 'ivo://cds/p/vphas/dr4/g', 'ivo://cds/p/hgps/significance', 'ivo://cds.vizier/ii/349', 'ivo://cds/p/dm/i/355/gaiadr3', 'ivo://cds/p/thor/continuum/1690', 'ivo://cds/p/allwise/w4', 'ivo://cds/p/hst/j', 'ivo://cds/p/desi-legacy-surveys/dr10/color', 'ivo://cds/p/act-planck/dr4dr6/map_healpix_b', 'ivo://cds/p/jwst/open', 'ivo://cds/p/mars/mgs-mola-dem', 'ivo://cds/p/europa/voyager-galileossi-500m', 'ivo://cds/p/oberon/voyager', 'ivo://cds/p/planck/r3/lfi30', 'ivo://cds/p/des-dr2/z', 'ivo://cds/p/skymapper-u', 'ivo://cds/p/euclid/q1/nisp.y', 'ivo://cds/p/intgal/80', 'ivo://cds/p/dione/cassini-pia12577', 'ivo://cds/p/hla/uv', 'ivo://cds/p/decals/dr3/color', 'ivo://cds/p/nvss', 'ivo://cds/p/egret/dif/70-100', 'ivo://cds/p/decaps/dr2/g', 'ivo://cds/p/mars/mro-ctx', 'ivo://cds/p/vtss/hacc', 'ivo://cds/p/2mass/j', 'ivo://cds.vizier/i/312', 'ivo://cds/p/planck/r2/cmb', 'ivo://cds/p/mars/themis-day-100m', 'ivo://cds.vizier/i/339', 'ivo://cds/p/spitzer/irac1', 'ivo://cds/p/wise/w1', 'ivo://cds/p/des-dr1/colorirg', 'ivo://cds/p/quijote/dr1/mfi/p/19ghz', 'ivo://cds.vizier/ii/371', 'ivo://cds/c/mopra/c18o', 'ivo://cds/p/hst/goods/i', 'ivo://cds/p/jwst/deep-field-smac0723/nircam', 'ivo://cds/p/euclid/ero/nisp.y', 'ivo://cds/p/co', 'ivo://cds/p/allwise/color', 'ivo://cds/p/spitzer/mips1', 'ivo://cds/p/matlas/g', 'ivo://cds/p/planck/r2/hfi100', 'ivo://cds/p/hst/v', 'ivo://cds/p/hscla/2016/y', 'ivo://cds/p/msx/d', 'ivo://cds/p/dm/simbad-biblio/otypes/hii', 'ivo://cds/p/thor/hi', 'ivo://cds/c/hi4pi/hi', 'ivo://cds/p/hst/b', 'ivo://cds.vizier/i/324', 'ivo://cds/p/visions/dr2/color', 'ivo://cds/p/shassa/h', 'ivo://cds/p/hla/u', 'ivo://cds/p/planck/r3/hfi217', 'ivo://cds/p/dm/simbad-biblio/pub-dates/2004', 'ivo://cds/p/thor/continuum/1950', 'ivo://cds/p/dm/simbad-biblio/pub-dates/1945-1950', 'ivo://cds/p/jwst/stephans-quintet/nircam+miri', 'ivo://cds/p/sdss9/z', 'ivo://cds.vizier/i/355', 'ivo://cds/p/akari/fis/wides', 'ivo://cds/p/hst/h', 'ivo://cds/p/isophot/170', 'ivo://cds/p/act2/dr4/cmb', 'ivo://cds/p/thor/continuum/1310', 'ivo://cds/p/planck/r3/hfi857', 'ivo://cds/p/sdss9/color-alt', 'ivo://cds/p/hsc/dr2/deep/y', 'ivo://cds/p/dm/simbad-biblio/pub-dates/2019', 'ivo://cds/p/meerkat/galactic-centre-1284mhz-stokesi', 'ivo://cds/p/ast3ii/dr1', 'ivo://cds/p/vistaorion/color', 'ivo://cds/p/hst/sdssr', 'ivo://cds/p/hsc/dr2/deep/color-i-r-g', 'ivo://cds/p/des-dr1/y', 'ivo://cds/p/hst/other', 'ivo://cds/p/vphas/dr4/color', 'ivo://cds/p/fermi/4', 'ivo://cds.vizier/ii/312', 'ivo://cds/p/hst/phat/f814w', 'ivo://cds/p/hsc/dr2/wide/color-i-r-g', 'ivo://cds/p/mars/themis-color', 'ivo://cds/p/des-dr1/r', 'ivo://cds/p/spitzer/mips3', 'ivo://cds/p/moon/lroc-wac-100m', 'ivo://cds/p/dm/flux-rp/i/350/gaiaedr3', 'ivo://cds.vizier/i/284', 'ivo://cds/p/dm/simbad-biblio/pub-dates/2012', 'ivo://cds/p/hla/wideuv', 'ivo://cds.vizier/i/254', 'ivo://cds/p/egret/dif/1000-2000', 'ivo://cds/p/ultravista/j', 'ivo://cds/p/dm/simbad-biblio/otypes/infrared', 'ivo://cds.vizier/ii/360', 'ivo://cds/p/dss2/red', 'ivo://cds/p/skymapper-z', 'ivo://cds/p/hla/palpha_c', 'ivo://cds/p/hla/siii', 'ivo://cds/p/wmap/w/9yr', 'ivo://cds/p/euclid/ero/vis', 'ivo://cds/p/hst/phat/f336w', 'ivo://cds/p/visions/dr2/ks', 'ivo://cds/p/decaps/dr2/i', 'ivo://cds/p/unwise/color-w2-w1w2-w1', 'ivo://cds.vizier/i/329', 'ivo://cds/p/2mass/h', 'ivo://cds/p/dm/simbad-biblio/pub-dates/1985-1990', 'ivo://cds/p/dm/flux-bp/i/350/gaiaedr3', 'ivo://cds/p/mars/express286545', 'ivo://cds/p/sdss9/u', 'ivo://cds/p/mars/themis-ir-night-100m-v14', 'ivo://cds/p/wmap/v/9yr', 'ivo://cds/p/dm/simbad-biblio/pub-dates/1994', 'ivo://cds/p/hi4pi/nhi', 'ivo://cds/p/wise/w3', 'ivo://cds/p/fds/dr1/g', 'ivo://cds/p/cfhtls/d/r', 'ivo://cds/p/enceladus/cassini-110m', 'ivo://cds/p/hla/halpha', 'ivo://cds/p/miranda/voyager', 'ivo://cds/p/mars/pan-pia20284', 'ivo://cds/p/quijote/dr1/mfi/i/17ghz', 'ivo://cds/p/planck/r3/lfi70', 'ivo://cds/p/skymapper-v', 'ivo://cds/p/dm/flux-g/i/345/gaia2', 'ivo://cds/p/dm/simbad-biblio/otypes/radio', 'ivo://cds/c/galfahi/narrow/dr2', 'ivo://cds.vizier/i/305', 'ivo://cds/p/dm/simbad-biblio/pub-dates/1995', 'ivo://cds/p/mercury/messenger-mdis-loi-166m', 'ivo://cds/p/cfhtls/d/u', 'ivo://cds.vizier/i/271', 'ivo://cds/p/wmap/q/9yr', 'ivo://cds.vizier/ii/364', 'ivo://cds/p/mars/viking-mdim21-color', 'ivo://cds/p/matlas/color', 'ivo://cds/p/ztf/dr7/color', 'ivo://cds/p/matlas/r', 'ivo://cds/p/rosatwfc/color', 'ivo://cds.vizier/i/320', 'ivo://cds/p/allwise/w2', 'ivo://cds/p/vista/vvv/dr4/h/bulge', 'ivo://cds/p/egret/dif/50-70', 'ivo://cds/p/dm/simbad-biblio/pub-dates/2017', 'ivo://cds/p/finkbeiner', 'ivo://cds/p/ultravista/color/ksjy', 'ivo://cds/p/jwst/carina-nebula/nircam', 'ivo://cds/p/2mass/color', 'ivo://cds/p/scuba2/450em', 'ivo://cds/p/dm/simbad-biblio/otypes/star', 'ivo://cds/p/akari/fis/color', 'ivo://cds/p/planckrevised/co32', 'ivo://cds/p/hst/halpha', 'ivo://cds/p/hla/widev', 'ivo://cds/p/hst/phat/f160w', 'ivo://cds/p/jwst/f212n', 'ivo://cds/p/neowiser/color', 'ivo://cds/p/dm/simbad-biblio/pub-dates/2002', 'ivo://cds/p/hst/hbeta', 'ivo://cds/p/venus/magellan/meterscaleslope-4641m', 'ivo://cds/p/hsc/dr2/wide/z', 'ivo://cds/p/hst/phat/color', 'ivo://cds/p/hst/oii', 'ivo://cds/p/hst/siii', 'ivo://cds/p/jpspr1', 'ivo://cds/c/galfahi/narrow', 'ivo://cds/p/wise/w4', 'ivo://cds/p/egret/dif/150-300', 'ivo://cds/p/fds/dr1/u', 'ivo://cds/p/vista/viking/z', 'ivo://cds/p/dm/radial-velocity/i/345/gaia2', 'ivo://cds/p/dm/simbad-biblio/otypes/uv', 'ivo://cds.vizier/ii/328', 'ivo://cds/p/2mass6x/color', 'ivo://cds.vizier/ii/358', 'ivo://cds/p/act-planck/dr4dr6/f090/pointsource', 'ivo://cds/p/galexgr6_7/fuv', 'ivo://cds/p/planck/r3/hfi545', 'ivo://cds/p/hst/sdssz', 'ivo://cds/p/fds/dr1/i', 'ivo://cds/p/kids/dr5/color-gri', 'ivo://cds/p/planck/r2/hfi143', 'ivo://cds/p/egret/inf100', 'ivo://cds/p/hst/goods/z', 'ivo://cds/p/jwst/epo', 'ivo://cds/p/galaxycounts/2mpz/0001-001', 'ivo://cds/p/cfhtls/w/r', 'ivo://cds.vizier/i/354', 'ivo://cds/p/hla/r', 'ivo://cds/p/act_planck/dr5/f90', 'ivo://cds/p/planck/r3/hfi100', 'ivo://cds.vizier/ii/351', 'ivo://cds/p/shassa/du', 'ivo://cds/p/dm/simbad-biblio/pub-dates/1975-1980', 'ivo://cds/p/galaxycounts/2mpz/005-007', 'ivo://cds/p/mars/themis-night-100m', 'ivo://cds/p/dm/simbad-biblio/pub-dates/1850-1900', 'ivo://cds/p/jwst/cartwheel/nircam+miri', 'ivo://cds/p/dm/i/350/gaiaedr3', 'ivo://cds/p/planck/r2/lfi044', 'ivo://cds/p/dm/simbad-biblio/pub-dates/1950-1955', 'ivo://cds/c/mopra/13co', 'ivo://cds/p/act-planck/dr4dr6/f150', 'ivo://cds/p/hsc/dr2/deep/i', 'ivo://cds/p/ultravista/color/yjks', 'ivo://cds.vizier/ii/246', 'ivo://cds/p/dm/simbad-biblio/pub-dates/2022', 'ivo://cds/p/vphas/dr4/u', 'ivo://cds/p/quijote/dr1/mfi/p/17ghz', 'ivo://cds/p/act_planck/dr5/f220', 'ivo://cds/p/ultravista/ks', 'ivo://cds/p/spitzer/mips2', 'ivo://cds/p/dm/simbad-biblio/pub-dates/2007', 'ivo://cds/p/dm/simbad-biblio/pub-dates/2011', 'ivo://cds/p/skymapper/dr4/g', 'ivo://cds/p/vista/vvv/dr4/colorjyz', 'ivo://cds/p/spitzer/irac4', 'ivo://cds/p/decaps/dr1/color', 'ivo://cds/c/manga', 'ivo://cds/p/akari/fis/n160', 'ivo://cds/p/hla/b', 'ivo://cds/p/dm/simbad-biblio/pub-dates/2006', 'ivo://cds/c/hipass', 'ivo://cds/p/callisto/voyager-galileo-simp-1km', 'ivo://cds/p/egret/dif/30-50', 'ivo://cds.vizier/ii/350', 'ivo://cds/p/galaxycounts/2mpz/004-005', 'ivo://cds/p/dm/flux-color-rp-g-bp/i/355/gaiadr3', 'ivo://cds/p/ztf/dr7/i', 'ivo://cds/p/jwst/southern-ring-nebula/nircam', 'ivo://cds/p/hsc/dr2/wide/g', 'ivo://cds.vizier/i/358', 'ivo://cds/p/act/dr5/f220', 'ivo://cds.vizier/ii/294', 'ivo://cds/p/hsc/dr2/deep/z', 'ivo://cds/p/fermi/color', 'ivo://cds/p/hst/i', 'ivo://cds/p/quest-for-the-missing-dust/spire250', 'ivo://cds/p/moon/lroc-wac-gld100-118m', 'ivo://cds/p/panstarrs/dr1/i', 'ivo://cds/p/ultravista/nb118', 'ivo://cds/p/moon/geological-map', 'ivo://cds/p/fds/dr1/color', 'ivo://cds/p/vista/vvv/dr4/z', 'ivo://cds/p/hla/palpha', 'ivo://cds/p/galaxycounts/2mpz/002-003', 'ivo://cds/p/panstarrs/dr1/color-z-zg-g', 'ivo://cds/p/cfhtls/d/g', 'ivo://cds.vizier/ii/347', 'ivo://cds/p/jwst/f210m', 'ivo://cds/p/dm/simbad-biblio/allobjects', 'ivo://cds/p/panstarrs/dr1/r', 'ivo://cds/p/galexgr6_7/color', 'ivo://cds/p/hi', 'ivo://cds/p/allwise/w1', 'ivo://cds/p/titania/voyager', 'ivo://cds/p/planck/r3/hfi/color', 'ivo://cds/p/fermi/5', 'ivo://cds/p/dm/flux-g/i/350/gaiaedr3', 'ivo://cds/p/hla/y', 'ivo://cds/p/euclid/q1/vis', 'ivo://cds/p/hst/epo', 'ivo://cds/p/dm/simbad-biblio/pub-dates/1991', 'ivo://cds/p/dm/simbad-biblio/pub-dates/1920-1930', 'ivo://cds/p/moon/kaguya-evening-v04-474m', 'ivo://cds/p/dm/simbad-biblio/pub-dates/2016', 'ivo://cds/c/mopra/c17o', 'ivo://cds/p/galexgr6/ais/nuv', 'ivo://cds/p/cfhtls/d/color/ugi', 'ivo://cds/p/panstarrs/dr1/y', 'ivo://cds/p/thor/continuum/1820', 'ivo://cds/p/dm/simbad-biblio/pub-dates/1997', 'ivo://cds/p/msx/e', 'ivo://cds/p/euclid/q1/nisp.h', 'ivo://cds/p/umbriel/voyager', 'ivo://cds/p/desi-legacy-surveys/dr10/i', 'ivo://cds/p/hst/sdssg', 'ivo://cds/p/galexgr6/ais/color', 'ivo://cds.vizier/vi/137', 'ivo://cds/p/hla/oii', 'ivo://cds/p/fermi/3', 'ivo://cds/p/des-dr2/i', 'ivo://cds/p/2mass6x/k', 'ivo://cds/p/meerkat/galactic-centre-spectral-index', 'ivo://cds/p/sun/euvi-aia304-2012', 'ivo://cds/p/dm/i/345/gaia2', 'ivo://cds/p/charon/newhorizon-pia19866', 'ivo://cds/p/dm/simbad-biblio/pub-dates/2021', 'ivo://cds/p/decaps/dr2/color', 'ivo://cds/p/quest-for-the-missing-dust/pacs160', 'ivo://cds/p/egret/sup100', 'ivo://cds/p/dm/simbad-biblio/pub-dates/2013', 'ivo://cds/p/denis/i', 'ivo://cds/p/planck/r3/cmb', 'ivo://cds/p/mars/tes-albedo', 'ivo://cds/p/unwise/w2', 'ivo://cds.vizier/ii/281', 'ivo://cds/p/mars/pan-perseverance-pia24422', 'ivo://cds/p/euclid/ero/nisp.h', 'ivo://cds/p/shassa/fl', 'ivo://cds/p/mars/mola-roughness', 'ivo://cds/p/act_planck/dr4/f150', 'ivo://cds/p/quest-for-the-missing-dust/pacs100', 'ivo://cds/p/neptune/voyager2', 'ivo://cds/p/thor/continuum/1440', 'ivo://cds/p/mama/srcj', 'ivo://cds/p/jwst/f200w', 'ivo://cds/p/cfhtls/d/i', 'ivo://cds/p/dm/flux-rp/i/355/gaiadr3', 'ivo://cds/p/dm/simbad-biblio/pub-dates/1992', 'ivo://cds/p/hscla/2016/i', 'ivo://cds/p/des-dr1/g', 'ivo://cds.vizier/ii/365', 'ivo://cds/p/act-planck/dr4dr6/f220', 'ivo://cds/p/scuba/850em', 'ivo://cds.vizier/ii/336', 'ivo://cds/p/dm/simbad-biblio/pub-dates/2000', 'ivo://cds/p/wise/w2', 'ivo://cds/p/dm/simbad-biblio/otypes/other', 'ivo://cds/p/kids/dr5/color-ug', 'ivo://cds/p/dm/vizmine', 'ivo://cds/p/eso/epo', 'ivo://cds/p/dm/simbad-biblio/pub-dates/2005', 'ivo://cds/p/euclid/q1/color', 'ivo://cds/p/hla/nii', 'ivo://cds.vizier/ii/343', 'ivo://cds/p/egret/dif/100-150', 'ivo://cds/p/coronelli', 'ivo://cds/p/dm/flux-color-rp-g-bp/i/350/gaiaedr3', 'ivo://cds/p/cohrs', 'ivo://cds/p/dm/simbad-biblio/pub-dates/1955-1960', 'ivo://cds/c/muse-m42', 'ivo://cds/p/ariel/voyager', 'ivo://cds/p/dss2/blue', 'ivo://cds/p/galexgr6_7/nuv', 'ivo://cds.vizier/i/350', 'ivo://cds/p/dm/simbad-biblio/pub-dates/1993', 'ivo://cds/p/dm/simbad-biblio/pub-dates/2018', 'ivo://cds/p/cfhtls/w/z', 'ivo://cds/c/galfahi/wide/dr2', 'ivo://cds/p/iphas/dr2/i', 'ivo://cds/p/sdss9/g', 'ivo://cds/p/planck/r3/lfi44', 'ivo://cds/p/rosatwfc/f2', 'ivo://cds/p/dm/simbad-biblio/pub-dates/1960-1965', 'ivo://cds/p/decals/dr5/r', 'ivo://cds/p/decals/dr5/color', 'ivo://cds/p/vista/viking/h', 'ivo://cds/p/hscla/2016/z', 'ivo://cds/p/vphas/dr4/i', 'ivo://cds/p/thor/continuum/1060', 'ivo://cds/p/panstarrs/dr1/z', 'ivo://cds/p/act/dr5/f150'}\n"
     ]
    }
   ],
   "source": [
    "sets = compare(\"select * from rr.capability where standard_id like 'ivo://ivoa.net/std/hips%'\")"
   ]
  },
  {
   "cell_type": "code",
   "execution_count": 6,
   "id": "2b731364-b586-4184-b85f-2d8c1b1cdd53",
   "metadata": {
    "scrolled": true
   },
   "outputs": [
    {
     "name": "stdout",
     "output_type": "stream",
     "text": [
      "NAVO RegTAP finds 1987\n",
      "GAVO RegTAP finds 1956\n",
      "EUVO RegTAP finds 1980\n",
      "Unique to NAVO:\n",
      "{'ivo://irsa.ipac/euclid/catalogs/mercat', 'ivo://sao.ru/dsa-cats/wsdb', 'ivo://astron.nl/hetdex/lotss-dr1-raw/cone'}\n",
      "Unique to GAVO:\n",
      "set()\n",
      "Unique to EUVO:\n",
      "{'ivo://astronet.ru/cas/wise'}\n",
      "Missing from NAVO but in both of the others:\n",
      "{'ivo://kasi_vo/nsvs/cs', 'ivo://cds.simbad/scs', 'ivo://cxc.harvard.edu/cscr2.1', 'ivo://wfau.roe.ac.uk/glimpse-dsa', 'ivo://au.csiro/psrda/atnf_pulsar.scs'}\n",
      "Missing from GAVO but in both of the others:\n",
      "{'ivo://astronet.ru/cas/ucac2', 'ivo://astronet.ru/cas/sdssdr7-field', 'ivo://astronet.ru/cas/sdssdr5-photoobjall', 'ivo://astronet.ru/cas/tycho2-suppl_2', 'ivo://astronet.ru/cas/ucac4', 'ivo://astronet.ru/cas/twomass-xsc', 'ivo://astronet.ru/cas/ucac3', 'ivo://astronet.ru/cas/gsc2_3_2', 'ivo://au.csiro/psrda/atnf_pulsar_scs', 'ivo://astronet.ru/cas/gaiadr2-gaia_source', 'ivo://astronet.ru/cas/tycho2-suppl_1', 'ivo://astronet.ru/cas/sdssdr6-phototag', 'ivo://astronet.ru/cas/sdssdr6-photoprofile', 'ivo://astronet.ru/cas/gsc1_2', 'ivo://astronet.ru/cas/sdssdr7-specphotoall', 'ivo://astronet.ru/cas/sdssdr6-photoobjall', 'ivo://astronet.ru/cas/sdssdr7-phototag', 'ivo://irsa.ipac/herschel/catalogs/z0mgs_dust', 'ivo://astronet.ru/cas/usnob1', 'ivo://astronet.ru/cas/sdssdr5-phototag', 'ivo://astronet.ru/cas/usnoa2', 'ivo://astronet.ru/cas/galah_dr2', 'ivo://astronet.ru/cas/sdssdr7-sppparams', 'ivo://astronet.ru/cas/xmm2p', 'ivo://astronet.ru/cas/sdssdr7-specobjall', 'ivo://astronet.ru/cas/tycho2', 'ivo://astronet.ru/cas/sdssdr7-photoobjall', 'ivo://astronet.ru/cas/nomad', 'ivo://astronet.ru/cas/twomass-psc', 'ivo://astronet.ru/cas/denis'}\n",
      "Missing from EUVO but in both of the others:\n",
      "{'ivo://vopdc.obspm/imcce/skybot', 'ivo://vopdc.obspm/luth/exoplanet'}\n",
      "Anything not in all three\n",
      "{'ivo://astronet.ru/cas/ucac2', 'ivo://vopdc.obspm/imcce/skybot', 'ivo://astronet.ru/cas/sdssdr7-field', 'ivo://astronet.ru/cas/wise', 'ivo://astronet.ru/cas/sdssdr5-photoobjall', 'ivo://astronet.ru/cas/tycho2-suppl_2', 'ivo://astronet.ru/cas/ucac4', 'ivo://wfau.roe.ac.uk/glimpse-dsa', 'ivo://astronet.ru/cas/twomass-xsc', 'ivo://astronet.ru/cas/ucac3', 'ivo://astronet.ru/cas/gsc2_3_2', 'ivo://au.csiro/psrda/atnf_pulsar_scs', 'ivo://irsa.ipac/euclid/catalogs/mercat', 'ivo://astronet.ru/cas/tycho2-suppl_1', 'ivo://astronet.ru/cas/gaiadr2-gaia_source', 'ivo://astronet.ru/cas/sdssdr6-phototag', 'ivo://astronet.ru/cas/sdssdr6-photoprofile', 'ivo://vopdc.obspm/luth/exoplanet', 'ivo://astronet.ru/cas/gsc1_2', 'ivo://sao.ru/dsa-cats/wsdb', 'ivo://au.csiro/psrda/atnf_pulsar.scs', 'ivo://astronet.ru/cas/sdssdr7-specphotoall', 'ivo://astronet.ru/cas/sdssdr6-photoobjall', 'ivo://kasi_vo/nsvs/cs', 'ivo://astronet.ru/cas/sdssdr7-phototag', 'ivo://astron.nl/hetdex/lotss-dr1-raw/cone', 'ivo://irsa.ipac/herschel/catalogs/z0mgs_dust', 'ivo://astronet.ru/cas/usnob1', 'ivo://astronet.ru/cas/sdssdr5-phototag', 'ivo://cds.simbad/scs', 'ivo://cxc.harvard.edu/cscr2.1', 'ivo://astronet.ru/cas/usnoa2', 'ivo://astronet.ru/cas/galah_dr2', 'ivo://astronet.ru/cas/sdssdr7-sppparams', 'ivo://astronet.ru/cas/xmm2p', 'ivo://astronet.ru/cas/sdssdr7-specobjall', 'ivo://astronet.ru/cas/tycho2', 'ivo://astronet.ru/cas/sdssdr7-photoobjall', 'ivo://astronet.ru/cas/nomad', 'ivo://astronet.ru/cas/twomass-psc', 'ivo://astronet.ru/cas/denis'}\n"
     ]
    }
   ],
   "source": [
    "sets = compare(\"select * from rr.capability where standard_id like 'ivo://ivoa.net/std/cone%' and ivoid not like '%vizier%'\")"
   ]
  },
  {
   "cell_type": "markdown",
   "id": "a69e1109-f3c1-4272-b0ed-19be0ad2d251",
   "metadata": {},
   "source": [
    "The hard part is then looking at those and understanding why.  What other information would we want to look at?"
   ]
  },
  {
   "cell_type": "markdown",
   "id": "03188b37-e4e2-494e-b7a4-90c2d7eb2271",
   "metadata": {},
   "source": [
    "## Check 2:  UCDs "
   ]
  },
  {
   "cell_type": "markdown",
   "id": "7e5b4f02-894b-4850-93d3-b9dc20254252",
   "metadata": {
    "jp-MarkdownHeadingCollapsed": true
   },
   "source": [
    "#### Look at all UCDs in the Registry"
   ]
  },
  {
   "cell_type": "code",
   "execution_count": 7,
   "id": "34ba1cf7-8519-41e3-9a97-488b09222e5b",
   "metadata": {
    "scrolled": true
   },
   "outputs": [
    {
     "name": "stdout",
     "output_type": "stream",
     "text": [
      "Found 79 invalid UCDs\n",
      "  The top 10 bad UCD values by number of instances are\n",
      "                         : 254736\n",
      "??                       : 30342\n",
      "vox:image_filesize       : 138\n",
      "????                     : 70\n",
      "vox:image_mjdateobs      : 59\n",
      "image?                   : 49\n",
      "vox:bandpass_id          : 47\n",
      "vox:bandpass_hilimit     : 39\n",
      "vox:bandpass_lolimit     : 39\n",
      "vox:bandpass_refvalue    : 39\n"
     ]
    }
   ],
   "source": [
    "from astropy.io.votable.ucd import check_ucd\n",
    "query=\"\"\"\n",
    "  select distinct ucd, count(*) as cnt\n",
    "  from rr.table_column \n",
    "  group by ucd \n",
    "  order by cnt desc\n",
    "  \"\"\"\n",
    "result = gavo_regtap.search(query)\n",
    "\n",
    "all_ucds = result.to_table()\n",
    "invalid_ucds = []\n",
    "for i,u in enumerate(all_ucds['ucd'].data):\n",
    "    if not check_ucd(u):\n",
    "        invalid_ucds.append((u,all_ucds['cnt'][i]))\n",
    "print(f\"Found {len(invalid_ucds)} invalid UCDs\")\n",
    "print(f\"  The top 10 bad UCD values by number of instances are\")\n",
    "x=[print(f\"{c[0]:25}: {c[1]}\") for c in invalid_ucds[0:10] ]"
   ]
  },
  {
   "cell_type": "markdown",
   "id": "65410245-2714-48ec-b079-2bf379497b60",
   "metadata": {},
   "source": [
    "Note that the numbers of \"??\" and \"????\" have not changed since [Markus' post in 2023](https://blog.g-vo.org/registry-a-janitor-speaks-out.html)"
   ]
  },
  {
   "cell_type": "code",
   "execution_count": 8,
   "id": "f662c0df-e1c3-4f06-851b-a27051dec2ce",
   "metadata": {
    "scrolled": true
   },
   "outputs": [
    {
     "name": "stdout",
     "output_type": "stream",
     "text": [
      "Found 935 that are not valid under UCD1+ controlled vocabulary\n",
      "  The top 10 bad UCD values by number of instances are\n",
      "                         : 254736\n",
      "??                       : 30342\n",
      "error                    : 13825\n",
      "code_misc                : 8538\n",
      "phot_mag                 : 6291\n",
      "fit_param                : 4505\n",
      "obs.field                : 4334\n",
      "number                   : 3090\n",
      "id_number                : 2694\n",
      "phot_intensity_adu       : 2512\n"
     ]
    },
    {
     "data": {
      "text/plain": [
       "[None, None, None, None, None, None, None, None, None, None]"
      ]
     },
     "execution_count": 8,
     "metadata": {},
     "output_type": "execute_result"
    }
   ],
   "source": [
    "invalid_ucds_cv = []\n",
    "for i,u in enumerate(all_ucds['ucd'].data):\n",
    "    if not check_ucd(u,check_controlled_vocabulary=True):\n",
    "        invalid_ucds_cv.append((u,all_ucds['cnt'][i]))\n",
    "print(f\"Found {len(invalid_ucds_cv)} that are not valid under UCD1+ controlled vocabulary\")\n",
    "print(f\"  The top 10 bad UCD values by number of instances are\")\n",
    "[print(f\"{c[0]:25}: {c[1]}\") for c in invalid_ucds_cv[0:10] ]"
   ]
  },
  {
   "cell_type": "markdown",
   "id": "1df1cd72-5b41-485b-b718-1ab3d3957775",
   "metadata": {
    "jp-MarkdownHeadingCollapsed": true
   },
   "source": [
    "#### UCDs at different publishers"
   ]
  },
  {
   "cell_type": "markdown",
   "id": "6c0f74d2-579e-410a-bb91-cd43a5519c67",
   "metadata": {},
   "source": [
    "Getting the publishers with the most resources in the Registry excluding Vizier.  Let's check those.  "
   ]
  },
  {
   "cell_type": "code",
   "execution_count": 9,
   "id": "6d603705-38a6-4fcd-b9dc-5accc893ad20",
   "metadata": {
    "scrolled": true
   },
   "outputs": [
    {
     "data": {
      "text/html": [
       "<div><i>Table length=10</i>\n",
       "<table id=\"table4533783632\" class=\"table-striped table-bordered table-condensed\">\n",
       "<thead><tr><th>role_ivoid</th><th>cnt</th><th>role_name</th></tr></thead>\n",
       "<thead><tr><th>object</th><th>int32</th><th>object</th></tr></thead>\n",
       "<tr><td>ivo://nasa.heasarc/asd</td><td>1091</td><td>NASA/GSFC HEASARC</td></tr>\n",
       "<tr><td>ivo://irsa.ipac/irsa</td><td>563</td><td>NASA/IPAC Infrared Science Archive</td></tr>\n",
       "<tr><td></td><td>244</td><td>The GAVO DC team</td></tr>\n",
       "<tr><td></td><td>217</td><td>Planetary Data System</td></tr>\n",
       "<tr><td>ivo://wfau.roe.ac.uk</td><td>123</td><td>WFAU, Institute for Astronomy, University of Edinburgh</td></tr>\n",
       "<tr><td>ivo://archive.stsci.edu/stsci-arc</td><td>96</td><td>Space Telescope Science Institute Archive</td></tr>\n",
       "<tr><td>ivo://svo.cab</td><td>71</td><td>SVO CAB</td></tr>\n",
       "<tr><td>ivo://noirlab.edu</td><td>65</td><td>NSF NOIRLab Astro Data Lab Team</td></tr>\n",
       "<tr><td></td><td>57</td><td>Paris Astronomical Data Centre</td></tr>\n",
       "<tr><td></td><td>36</td><td>ASTRON</td></tr>\n",
       "</table></div>"
      ],
      "text/plain": [
       "<Table length=10>\n",
       "            role_ivoid            ...\n",
       "              object              ...\n",
       "--------------------------------- ...\n",
       "           ivo://nasa.heasarc/asd ...\n",
       "             ivo://irsa.ipac/irsa ...\n",
       "                                  ...\n",
       "                                  ...\n",
       "             ivo://wfau.roe.ac.uk ...\n",
       "ivo://archive.stsci.edu/stsci-arc ...\n",
       "                    ivo://svo.cab ...\n",
       "                ivo://noirlab.edu ...\n",
       "                                  ...\n",
       "                                  ..."
      ]
     },
     "execution_count": 9,
     "metadata": {},
     "output_type": "execute_result"
    }
   ],
   "source": [
    "publishers = gavo_regtap.search(\"\"\"\n",
    "    select distinct role_ivoid, count(*) as cnt , role_name\n",
    "    from rr.res_role \n",
    "    where base_role = 'publisher' and role_name != 'CDS'\n",
    "    group by role_ivoid, role_name\n",
    "    order by cnt desc\n",
    "    \"\"\").to_table()[0:10]\n",
    "publishers"
   ]
  },
  {
   "cell_type": "markdown",
   "id": "5e857d43-7b18-41a4-bb12-08bbf2ff40d0",
   "metadata": {},
   "source": [
    "Adding from in person attendees:"
   ]
  },
  {
   "cell_type": "code",
   "execution_count": null,
   "id": "533e5c41-4eed-4e6c-9a75-5e5afb00234c",
   "metadata": {},
   "outputs": [],
   "source": []
  },
  {
   "cell_type": "code",
   "execution_count": 10,
   "id": "acd9a91c-a21a-4ef9-89e1-bc86af9ab0a5",
   "metadata": {},
   "outputs": [
    {
     "data": {
      "text/html": [
       "<div><i>Table length=17</i>\n",
       "<table id=\"table4449492304\" class=\"table-striped table-bordered table-condensed\">\n",
       "<thead><tr><th>role_ivoid</th><th>cnt</th><th>role_name</th></tr></thead>\n",
       "<thead><tr><th>object</th><th>int32</th><th>object</th></tr></thead>\n",
       "<tr><td>ivo://nasa.heasarc/asd</td><td>1091</td><td>NASA/GSFC HEASARC</td></tr>\n",
       "<tr><td>ivo://irsa.ipac/irsa</td><td>563</td><td>NASA/IPAC Infrared Science Archive</td></tr>\n",
       "<tr><td></td><td>244</td><td>The GAVO DC team</td></tr>\n",
       "<tr><td></td><td>217</td><td>Planetary Data System</td></tr>\n",
       "<tr><td>ivo://wfau.roe.ac.uk</td><td>123</td><td>WFAU, Institute for Astronomy, University of Edinburgh</td></tr>\n",
       "<tr><td>ivo://archive.stsci.edu/stsci-arc</td><td>96</td><td>Space Telescope Science Institute Archive</td></tr>\n",
       "<tr><td>ivo://svo.cab</td><td>71</td><td>SVO CAB</td></tr>\n",
       "<tr><td>ivo://noirlab.edu</td><td>65</td><td>NSF NOIRLab Astro Data Lab Team</td></tr>\n",
       "<tr><td></td><td>57</td><td>Paris Astronomical Data Centre</td></tr>\n",
       "<tr><td></td><td>36</td><td>ASTRON</td></tr>\n",
       "<tr><td>ivo://eso.org</td><td>3</td><td>European Southern Observatory</td></tr>\n",
       "<tr><td></td><td>1</td><td>The staff at the PDS-PPI VO server</td></tr>\n",
       "<tr><td>ivo://ned.ipac/ned</td><td>8</td><td>NASA/IPAC Extragalactic Database</td></tr>\n",
       "<tr><td>ivo://china-vo</td><td>24</td><td>Chinese Virtual Observatory</td></tr>\n",
       "<tr><td>ivo://cxc.harvard.edu/cxo</td><td>9</td><td>\\nChandra X-ray Observatory\\n</td></tr>\n",
       "<tr><td>ivo://ia2.inaf.it</td><td>4</td><td>IA2</td></tr>\n",
       "<tr><td></td><td>1</td><td>PADC</td></tr>\n",
       "</table></div>"
      ],
      "text/plain": [
       "<Table length=17>\n",
       "            role_ivoid            ...\n",
       "              object              ...\n",
       "--------------------------------- ...\n",
       "           ivo://nasa.heasarc/asd ...\n",
       "             ivo://irsa.ipac/irsa ...\n",
       "                                  ...\n",
       "                                  ...\n",
       "             ivo://wfau.roe.ac.uk ...\n",
       "ivo://archive.stsci.edu/stsci-arc ...\n",
       "                    ivo://svo.cab ...\n",
       "                ivo://noirlab.edu ...\n",
       "                                  ...\n",
       "                                  ...\n",
       "                    ivo://eso.org ...\n",
       "                                  ...\n",
       "               ivo://ned.ipac/ned ...\n",
       "                   ivo://china-vo ...\n",
       "        ivo://cxc.harvard.edu/cxo ...\n",
       "                ivo://ia2.inaf.it ...\n",
       "                                  ..."
      ]
     },
     "execution_count": 10,
     "metadata": {},
     "output_type": "execute_result"
    }
   ],
   "source": [
    "from astropy.table import Table, vstack\n",
    "\n",
    "inperson = \"\"\"\\\n",
    "ESO, PDS, AAS, NED, China-VO, INFN, \\\n",
    "CfA, CXC, Rubin, INAF, PADC, \\\n",
    "Hyderabad, UCLA \\\n",
    "\"\"\".split(', ')\n",
    "\n",
    "for institute in inperson:\n",
    "    query=f\"\"\" \n",
    "    select distinct role_ivoid, count(*) as cnt , role_name\n",
    "    from rr.res_role \n",
    "    where base_role = 'publisher' and role_name != 'CDS'\n",
    "    and ( role_ivoid ilike '%{institute}%' or role_name ilike '%{institute}%' )\n",
    "    group by role_ivoid, role_name\n",
    "    order by cnt desc\n",
    "    \"\"\"\n",
    "    r=gavo_regtap.search(query).to_table()\n",
    "    if len(r) > 0:\n",
    "        publishers=vstack([publishers, r[0]])\n",
    "publishers"
   ]
  },
  {
   "cell_type": "code",
   "execution_count": 11,
   "id": "71477dea-1399-4ed6-8fcd-b90e84efaa4f",
   "metadata": {
    "scrolled": true
   },
   "outputs": [],
   "source": [
    "## Helper function to grab metadata, group it by publisher, \n",
    "##   and look for invalid values, print a summary\n",
    "def validate_publishers(query, publist, badvallist, label, quiet=False):\n",
    "    import pandas as pd #  Handy functions\n",
    "    warnings.filterwarnings(\"ignore\", message=\".*This pattern is interpreted as a regular expression.*\")\n",
    "    for i,p in enumerate([pp.strip() for pp in publist['role_name'].data]):\n",
    "        #  Look at all the metadata from this publisher\n",
    "        if not quiet: print(f\"\\nlooking at publisher {p}\")\n",
    "        try: \n",
    "            results = gavo_regtap.search(query.replace(\"xxxx\",p))\n",
    "        except Exception as e:\n",
    "            print(f\"    Encountered exception {e} during query on publisher {p}\")\n",
    "            continue\n",
    "        if len(results) != 0 and not quiet:  \n",
    "            print(f\"    publisher {p} publishes {len(results)} distinct values of {label}\")\n",
    "        elif not quiet: \n",
    "            print(f\"    publisher {p} publishes no such metadata (?)\")\n",
    "            continue #  ?\n",
    "\n",
    "        ##  \n",
    "        df = pd.DataFrame(data={\n",
    "            label:results.to_table()[label].data.data,\n",
    "            \"cnt\":results.to_table()['cnt'].data.data\n",
    "        })\n",
    "        pcount = 0\n",
    "        for c in badvallist:  #  invalid_ucds or invalid_ucds_cv (this is huge)\n",
    "            #  c is a tuple of the string and the count\n",
    "            if c[0]=='':  \n",
    "                matches = df[label].astype(str).str.len() == 0\n",
    "            elif '?' in c[0]:\n",
    "                matches = df[label].str.contains(\"?\",regex=False)\n",
    "            else:\n",
    "                matches = df[label] == c[0]\n",
    "            cnt = df[matches]['cnt'].sum() # should only be one \n",
    "            if cnt == 0:  \n",
    "                continue\n",
    "            print(f\"    value '{c[0]}' used {cnt} times\")\n",
    "            pcount += 1\n",
    "            if pcount > 10:  break"
   ]
  },
  {
   "cell_type": "code",
   "execution_count": 12,
   "id": "2b62d4d0-20e6-40b0-b7d3-0bd882ca2f46",
   "metadata": {
    "scrolled": true
   },
   "outputs": [
    {
     "name": "stdout",
     "output_type": "stream",
     "text": [
      "\n",
      "looking at publisher NASA/GSFC HEASARC\n",
      "    publisher NASA/GSFC HEASARC publishes 2451 distinct values of ucd\n",
      "    value '' used 8596 times\n",
      "\n",
      "looking at publisher NASA/IPAC Infrared Science Archive\n",
      "    publisher NASA/IPAC Infrared Science Archive publishes no such metadata (?)\n",
      "\n",
      "looking at publisher The GAVO DC team\n",
      "    publisher The GAVO DC team publishes 830 distinct values of ucd\n",
      "    value '' used 1373 times\n",
      "    value 'vox:image_filesize' used 44 times\n",
      "    value 'vox:image_mjdateobs' used 2 times\n",
      "\n",
      "looking at publisher Planetary Data System\n",
      "    publisher Planetary Data System publishes 41 distinct values of ucd\n",
      "    value '' used 2604 times\n",
      "\n",
      "looking at publisher WFAU, Institute for Astronomy, University of Edinburgh\n",
      "    publisher WFAU, Institute for Astronomy, University of Edinburgh publishes 855 distinct values of ucd\n",
      "    value '' used 301789 times\n",
      "    value '??' used 60549 times\n",
      "    value '????' used 60549 times\n",
      "    value 'image?' used 60549 times\n",
      "    value '???' used 60549 times\n",
      "    value 'pos_eq_cart_x?' used 60549 times\n",
      "    value 'pos_eq_cart_y?' used 60549 times\n",
      "    value 'pos_eq_cart_z?' used 60549 times\n",
      "    value 'class_star/galaxy' used 30 times\n",
      "    value 'error_???' used 60549 times\n",
      "    value 'meta.id,meta.main' used 10 times\n",
      "\n",
      "looking at publisher Space Telescope Science Institute Archive\n",
      "    publisher Space Telescope Science Institute Archive publishes no such metadata (?)\n",
      "\n",
      "looking at publisher SVO CAB\n",
      "    publisher SVO CAB publishes no such metadata (?)\n",
      "\n",
      "looking at publisher NSF NOIRLab Astro Data Lab Team\n",
      "    publisher NSF NOIRLab Astro Data Lab Team publishes no such metadata (?)\n",
      "\n",
      "looking at publisher Paris Astronomical Data Centre\n",
      "    publisher Paris Astronomical Data Centre publishes 400 distinct values of ucd\n",
      "    value '' used 966 times\n",
      "    value 'vox:image_filesize' used 16 times\n",
      "    value 'stat.error;stat.min;time.epoch;' used 16 times\n",
      "    value 'stat.error;stat.min;phys.mass;' used 8 times\n",
      "    value 'stat.error;stat.min;phys.albedo;' used 4 times\n",
      "    value 'stat.error;stat.min;phys.size.radius;' used 4 times\n",
      "    value 'stat.error;stat.min;pos.distance;' used 4 times\n",
      "    value 'stat.error;stat.min;pos.posang;' used 4 times\n",
      "    value 'stat.error;stat.min;spect.dopplerveloc;' used 4 times\n",
      "    value 'stat.error;stat.min;src.impactparam;' used 4 times\n",
      "    value 'stat.error;stat.min;src.orbital.eccentricity;' used 4 times\n",
      "\n",
      "looking at publisher ASTRON\n",
      "    publisher ASTRON publishes 123 distinct values of ucd\n",
      "    value '' used 1601 times\n",
      "    value 'vox:image_filesize' used 46 times\n",
      "    value 'vox:image_mjdateobs' used 44 times\n",
      "    value 'vox:bandpass_id' used 44 times\n",
      "    value 'vox:bandpass_hilimit' used 44 times\n",
      "    value 'vox:bandpass_lolimit' used 44 times\n",
      "    value 'vox:bandpass_refvalue' used 44 times\n",
      "    value 'vox:bandpass_unit' used 44 times\n",
      "    value 'vox:image_naxes' used 44 times\n",
      "    value 'vox:image_naxis' used 44 times\n",
      "    value 'vox:image_pixflags' used 44 times\n",
      "\n",
      "looking at publisher European Southern Observatory\n",
      "    publisher European Southern Observatory publishes 890 distinct values of ucd\n",
      "    value '' used 414 times\n",
      "    value 'meta.id;' used 3 times\n",
      "    value 'phot.mag;em.ir.j;' used 2 times\n",
      "    value 'phot.mag;em.ir.k;' used 2 times\n",
      "    value 'phot.mag;em.ir;' used 2 times\n",
      "\n",
      "looking at publisher The staff at the PDS-PPI VO server\n",
      "    publisher The staff at the PDS-PPI VO server publishes no such metadata (?)\n",
      "\n",
      "looking at publisher NASA/IPAC Extragalactic Database\n",
      "    publisher NASA/IPAC Extragalactic Database publishes no such metadata (?)\n",
      "\n",
      "looking at publisher Chinese Virtual Observatory\n",
      "    publisher Chinese Virtual Observatory publishes no such metadata (?)\n",
      "\n",
      "looking at publisher Chandra X-ray Observatory\n",
      "    publisher Chandra X-ray Observatory publishes no such metadata (?)\n",
      "\n",
      "looking at publisher IA2\n",
      "    publisher IA2 publishes 201 distinct values of ucd\n",
      "    value '' used 1031 times\n",
      "    value 'vox:image_filesize' used 2 times\n",
      "    value 'meta.id;meta.main;' used 2 times\n",
      "    value 'pos.eq.dec;meta.main;' used 2 times\n",
      "    value 'pos.eq.ra;meta.main;' used 2 times\n",
      "    value 'spect.line.eqwidth;em.line.hdelta;' used 2 times\n",
      "    value 'src.morph.type;' used 2 times\n",
      "\n",
      "looking at publisher PADC\n",
      "    publisher PADC publishes 394 distinct values of ucd\n",
      "    value '' used 882 times\n",
      "    value 'vox:image_filesize' used 10 times\n",
      "    value 'stat.error;stat.min;time.epoch;' used 8 times\n",
      "    value 'stat.error;stat.min;phys.mass;' used 4 times\n",
      "    value 'stat.error;stat.min;phys.albedo;' used 2 times\n",
      "    value 'stat.error;stat.min;phys.size.radius;' used 2 times\n",
      "    value 'stat.error;stat.min;pos.distance;' used 2 times\n",
      "    value 'stat.error;stat.min;pos.posang;' used 2 times\n",
      "    value 'stat.error;stat.min;spect.dopplerveloc;' used 2 times\n",
      "    value 'stat.error;stat.min;src.impactparam;' used 2 times\n",
      "    value 'stat.error;stat.min;src.orbital.eccentricity;' used 2 times\n"
     ]
    }
   ],
   "source": [
    "query = f\"\"\"\n",
    "        select ucd, count(*) as cnt from ( rr.res_role natural join rr.table_column )\n",
    "        where role_name = 'xxxx'\n",
    "        group by ucd \n",
    "        \"\"\"\n",
    "validate_publishers( query, publishers, invalid_ucds, \"ucd\")"
   ]
  },
  {
   "cell_type": "code",
   "execution_count": 13,
   "id": "fd650b1c-4d18-4688-8159-81802d1027f1",
   "metadata": {
    "scrolled": true
   },
   "outputs": [
    {
     "name": "stdout",
     "output_type": "stream",
     "text": [
      "\n",
      "looking at publisher NASA/GSFC HEASARC\n",
      "    publisher NASA/GSFC HEASARC publishes 2451 distinct values of ucd\n",
      "    value '' used 8596 times\n",
      "\n",
      "looking at publisher NASA/IPAC Infrared Science Archive\n",
      "    publisher NASA/IPAC Infrared Science Archive publishes no such metadata (?)\n",
      "\n",
      "looking at publisher The GAVO DC team\n",
      "    publisher The GAVO DC team publishes 830 distinct values of ucd\n",
      "    value '' used 1373 times\n",
      "    value 'vox:image_filesize' used 44 times\n",
      "    value 'vox:image_mjdateobs' used 2 times\n",
      "    value 'eq.pos.ra' used 8 times\n",
      "    value 'eq.pos.dec' used 4 times\n",
      "\n",
      "looking at publisher Planetary Data System\n",
      "    publisher Planetary Data System publishes 41 distinct values of ucd\n",
      "    value '' used 2604 times\n",
      "\n",
      "looking at publisher WFAU, Institute for Astronomy, University of Edinburgh\n",
      "    publisher WFAU, Institute for Astronomy, University of Edinburgh publishes 855 distinct values of ucd\n",
      "    value '' used 301789 times\n",
      "    value '??' used 60549 times\n",
      "    value 'error' used 25260 times\n",
      "    value 'code_misc' used 14690 times\n",
      "    value 'phot_mag' used 11522 times\n",
      "    value 'fit_param' used 4830 times\n",
      "    value 'obs.field' used 5634 times\n",
      "    value 'number' used 5323 times\n",
      "    value 'id_number' used 4842 times\n",
      "    value 'phot_intensity_adu' used 4592 times\n",
      "    value 'instr.fov;instr.pixel' used 2 times\n",
      "\n",
      "looking at publisher Space Telescope Science Institute Archive\n",
      "    publisher Space Telescope Science Institute Archive publishes no such metadata (?)\n",
      "\n",
      "looking at publisher SVO CAB\n",
      "    publisher SVO CAB publishes no such metadata (?)\n",
      "\n",
      "looking at publisher NSF NOIRLab Astro Data Lab Team\n",
      "    publisher NSF NOIRLab Astro Data Lab Team publishes no such metadata (?)\n",
      "\n",
      "looking at publisher Paris Astronomical Data Centre\n",
      "    publisher Paris Astronomical Data Centre publishes 400 distinct values of ucd\n",
      "    value '' used 966 times\n",
      "    value 'vox:image_filesize' used 16 times\n",
      "    value 'stat.error;phot.mag;em.uv.fuv' used 3 times\n",
      "    value 'stat.error;stat.min;time.epoch;' used 16 times\n",
      "    value 'stat.error;stat.min;phys.mass;' used 8 times\n",
      "    value 'phot.mag;em.uv.fuv' used 3 times\n",
      "    value 'arith.factor;em.uv.fuv' used 3 times\n",
      "    value 'phot.mag;em.uv.nuv' used 3 times\n",
      "    value 'stat.error;phot.mag;em.uv.nuv' used 3 times\n",
      "    value 'stat.error;stat.min;phys.albedo;' used 4 times\n",
      "    value 'stat.error;stat.min;phys.size.radius;' used 4 times\n",
      "\n",
      "looking at publisher ASTRON\n",
      "    publisher ASTRON publishes 123 distinct values of ucd\n",
      "    value '' used 1601 times\n",
      "    value 'pos_eq_ra_main' used 35 times\n",
      "    value 'pos_eq_dec_main' used 35 times\n",
      "    value 'inst_id' used 44 times\n",
      "    value 'vox:image_filesize' used 46 times\n",
      "    value 'vox:image_mjdateobs' used 44 times\n",
      "    value 'vox:bandpass_id' used 44 times\n",
      "    value 'vox:bandpass_hilimit' used 44 times\n",
      "    value 'vox:bandpass_lolimit' used 44 times\n",
      "    value 'vox:bandpass_refvalue' used 44 times\n",
      "    value 'vox:bandpass_unit' used 44 times\n",
      "\n",
      "looking at publisher European Southern Observatory\n",
      "    publisher European Southern Observatory publishes 890 distinct values of ucd\n",
      "    value '' used 414 times\n",
      "    value 'obs.field' used 1 times\n",
      "    value 'obs.image' used 1 times\n",
      "    value 'meta.code;spect.index;stat.error' used 35 times\n",
      "    value 'phot.flux;spect.line;stat.error' used 15 times\n",
      "    value 'spect.line.eqwidth;stat.error' used 15 times\n",
      "    value 'meta.code;meta.number' used 10 times\n",
      "    value 'em.ir.h' used 9 times\n",
      "    value 'em.ir.k' used 9 times\n",
      "    value 'em.ir.j' used 9 times\n",
      "    value 'meta.file' used 2 times\n",
      "\n",
      "looking at publisher The staff at the PDS-PPI VO server\n",
      "    publisher The staff at the PDS-PPI VO server publishes no such metadata (?)\n",
      "\n",
      "looking at publisher NASA/IPAC Extragalactic Database\n",
      "    publisher NASA/IPAC Extragalactic Database publishes no such metadata (?)\n",
      "\n",
      "looking at publisher Chinese Virtual Observatory\n",
      "    publisher Chinese Virtual Observatory publishes no such metadata (?)\n",
      "\n",
      "looking at publisher Chandra X-ray Observatory\n",
      "    publisher Chandra X-ray Observatory publishes no such metadata (?)\n",
      "\n",
      "looking at publisher IA2\n",
      "    publisher IA2 publishes 201 distinct values of ucd\n",
      "    value '' used 1031 times\n",
      "    value 'pos_eq_ra_main' used 2 times\n",
      "    value 'pos_eq_dec_main' used 2 times\n",
      "    value 'vox:image_filesize' used 2 times\n",
      "    value 'stat.error;phot.mag;em.uv.fuv' used 2 times\n",
      "    value 'phot.mag;em.uv.fuv' used 2 times\n",
      "    value 'phot.mag;em.opt.g' used 6 times\n",
      "    value 'phot.mag;em.opt.z' used 6 times\n",
      "    value 'phot.mag;em.uv.nuv' used 2 times\n",
      "    value 'stat.error;phot.mag;em.uv.nuv' used 2 times\n",
      "    value 'phot.color;em.opt.i;em.opt.z' used 6 times\n",
      "\n",
      "looking at publisher PADC\n",
      "    publisher PADC publishes 394 distinct values of ucd\n",
      "    value '' used 882 times\n",
      "    value 'vox:image_filesize' used 10 times\n",
      "    value 'stat.error;phot.mag;em.uv.fuv' used 2 times\n",
      "    value 'stat.error;stat.min;time.epoch;' used 8 times\n",
      "    value 'stat.error;stat.min;phys.mass;' used 4 times\n",
      "    value 'phot.mag;em.uv.fuv' used 2 times\n",
      "    value 'arith.factor;em.uv.fuv' used 2 times\n",
      "    value 'phot.mag;em.uv.nuv' used 2 times\n",
      "    value 'stat.error;phot.mag;em.uv.nuv' used 2 times\n",
      "    value 'stat.error;stat.min;phys.albedo;' used 2 times\n",
      "    value 'stat.error;stat.min;phys.size.radius;' used 2 times\n"
     ]
    }
   ],
   "source": [
    "query = f\"\"\"\n",
    "        select ucd, count(*) as cnt from ( rr.res_role natural join rr.table_column )\n",
    "        where role_name = 'xxxx'\n",
    "        group by ucd \n",
    "        \"\"\"\n",
    "validate_publishers( query, publishers, invalid_ucds_cv, \"ucd\")"
   ]
  },
  {
   "cell_type": "code",
   "execution_count": 14,
   "id": "68c22cc5-ca1a-4365-87f1-868737d2665d",
   "metadata": {},
   "outputs": [
    {
     "name": "stdout",
     "output_type": "stream",
     "text": [
      "Found 935 that are not valid under UCD1+ controlled vocabulary\n",
      "  The top 10 bad UCD values by number of instances are\n",
      "                         : 254736\n",
      "??                       : 30342\n",
      "error                    : 13825\n",
      "code_misc                : 8538\n",
      "phot_mag                 : 6291\n",
      "fit_param                : 4505\n",
      "obs.field                : 4334\n",
      "number                   : 3090\n",
      "id_number                : 2694\n",
      "phot_intensity_adu       : 2512\n"
     ]
    }
   ],
   "source": [
    "culprits = []\n",
    "for i,u in enumerate(all_ucds['ucd'].data):\n",
    "    if not check_ucd(u,check_controlled_vocabulary=True):\n",
    "        culprits.append((u,all_ucds['cnt'][i]))\n",
    "print(f\"Found {len(culprits)} that are not valid under UCD1+ controlled vocabulary\")\n",
    "print(f\"  The top 10 bad UCD values by number of instances are\")\n",
    "x=[print(f\"{c[0]:25}: {c[1]}\") for c in culprits[0:10] ]"
   ]
  },
  {
   "cell_type": "markdown",
   "id": "34eb4d24-33be-493e-925f-470e23120b97",
   "metadata": {
    "jp-MarkdownHeadingCollapsed": true
   },
   "source": [
    "## Check 3:  authors"
   ]
  },
  {
   "cell_type": "code",
   "execution_count": 15,
   "id": "d86c296e-a30b-4c41-8eae-341d424abce3",
   "metadata": {},
   "outputs": [
    {
     "name": "stderr",
     "output_type": "stream",
     "text": [
      "/Users/tjaffe/miniforge3/envs/navo-env/lib/python3.11/site-packages/pyvo/dal/query.py:341: DALOverflowWarning: Partial result set. Potential causes MAXREC, async storage space, etc.\n",
      "  warn(\"Partial result set. Potential causes MAXREC, async storage space, etc.\",\n"
     ]
    },
    {
     "data": {
      "text/html": [
       "<div><i>Table length=20000</i>\n",
       "<table id=\"table13299077200\" class=\"table-striped table-bordered table-condensed\">\n",
       "<thead><tr><th>role_name</th><th>cnt</th></tr></thead>\n",
       "<thead><tr><th>object</th><th>int32</th></tr></thead>\n",
       "<tr><td>Lagrange A.-M.,Langlois M.</td><td>1</td></tr>\n",
       "<tr><td>Burstein D.,Bohlin R.C.</td><td>1</td></tr>\n",
       "<tr><td>DAVILA H.</td><td>1</td></tr>\n",
       "<tr><td>Dumusque X.,Fulton B.J.</td><td>1</td></tr>\n",
       "<tr><td>Queloz D.,Rauer H.</td><td>1</td></tr>\n",
       "<tr><td>Hillwig T.C.</td><td>7</td></tr>\n",
       "<tr><td>Ranadive P.</td><td>1</td></tr>\n",
       "<tr><td>Lalitha S.</td><td>9</td></tr>\n",
       "<tr><td>Moriarty-Schieven G.</td><td>6</td></tr>\n",
       "<tr><td>...</td><td>...</td></tr>\n",
       "<tr><td>Papovich C.</td><td>39</td></tr>\n",
       "<tr><td>Celik O.</td><td>5</td></tr>\n",
       "<tr><td>Della Gaspera A.,El-issami M.</td><td>1</td></tr>\n",
       "<tr><td>Markakis C.</td><td>2</td></tr>\n",
       "<tr><td>Dempsey J.T.</td><td>4</td></tr>\n",
       "<tr><td>Williams B.,Vogt F.P.A.</td><td>1</td></tr>\n",
       "<tr><td>Pavlenko Y.,Martin E.L.</td><td>1</td></tr>\n",
       "<tr><td>Marino R. A.</td><td>1</td></tr>\n",
       "<tr><td>Boller Th.</td><td>1</td></tr>\n",
       "<tr><td>Sparks W.M.</td><td>1</td></tr>\n",
       "</table></div>"
      ],
      "text/plain": [
       "<Table length=20000>\n",
       "          role_name            cnt \n",
       "            object            int32\n",
       "----------------------------- -----\n",
       "   Lagrange A.-M.,Langlois M.     1\n",
       "      Burstein D.,Bohlin R.C.     1\n",
       "                    DAVILA H.     1\n",
       "      Dumusque X.,Fulton B.J.     1\n",
       "           Queloz D.,Rauer H.     1\n",
       "                 Hillwig T.C.     7\n",
       "                  Ranadive P.     1\n",
       "                   Lalitha S.     9\n",
       "         Moriarty-Schieven G.     6\n",
       "                          ...   ...\n",
       "                  Papovich C.    39\n",
       "                     Celik O.     5\n",
       "Della Gaspera A.,El-issami M.     1\n",
       "                  Markakis C.     2\n",
       "                 Dempsey J.T.     4\n",
       "      Williams B.,Vogt F.P.A.     1\n",
       "      Pavlenko Y.,Martin E.L.     1\n",
       "                 Marino R. A.     1\n",
       "                   Boller Th.     1\n",
       "                  Sparks W.M.     1"
      ]
     },
     "execution_count": 15,
     "metadata": {},
     "output_type": "execute_result"
    }
   ],
   "source": [
    "query = f\"\"\"\n",
    "    select distinct role_name, count(*) as cnt \n",
    "    from rr.res_role \n",
    "    where base_role = 'creator' \n",
    "    group by role_name\n",
    "    \"\"\"\n",
    "gavo_regtap.search(query).to_table()"
   ]
  },
  {
   "cell_type": "markdown",
   "id": "e07b9a38-1faa-4f26-ac89-2f10771bbc85",
   "metadata": {},
   "source": [
    "Have\n",
    "* Last F.\n",
    "* Last F., Last2 F.\n",
    "* Last, F.\n",
    "* F. Last, Last2. F.\n",
    "\n",
    "At least where there are commas they are used to separate two authors, rather than \"Last, F\" or something."
   ]
  },
  {
   "cell_type": "code",
   "execution_count": 16,
   "id": "9c78f8ac-77e1-4b79-86cf-b93f6f9be85e",
   "metadata": {
    "scrolled": true
   },
   "outputs": [
    {
     "name": "stderr",
     "output_type": "stream",
     "text": [
      "/Users/tjaffe/miniforge3/envs/navo-env/lib/python3.11/site-packages/pyvo/dal/query.py:341: DALOverflowWarning: Partial result set. Potential causes MAXREC, async storage space, etc.\n",
      "  warn(\"Partial result set. Potential causes MAXREC, async storage space, etc.\",\n"
     ]
    },
    {
     "data": {
      "text/html": [
       "<div><i>Table length=20000</i>\n",
       "<table id=\"table13303188432\" class=\"table-striped table-bordered table-condensed\">\n",
       "<thead><tr><th>role_name</th><th>cnt</th></tr></thead>\n",
       "<thead><tr><th>object</th><th>int32</th></tr></thead>\n",
       "<tr><td>Lagrange A.-M.,Langlois M.</td><td>1</td></tr>\n",
       "<tr><td>Burstein D.,Bohlin R.C.</td><td>1</td></tr>\n",
       "<tr><td>DAVILA H.</td><td>1</td></tr>\n",
       "<tr><td>Dumusque X.,Fulton B.J.</td><td>1</td></tr>\n",
       "<tr><td>Queloz D.,Rauer H.</td><td>1</td></tr>\n",
       "<tr><td>Hillwig T.C.</td><td>7</td></tr>\n",
       "<tr><td>Ranadive P.</td><td>1</td></tr>\n",
       "<tr><td>Lalitha S.</td><td>9</td></tr>\n",
       "<tr><td>Moriarty-Schieven G.</td><td>6</td></tr>\n",
       "<tr><td>...</td><td>...</td></tr>\n",
       "<tr><td>Papovich C.</td><td>39</td></tr>\n",
       "<tr><td>Celik O.</td><td>5</td></tr>\n",
       "<tr><td>Della Gaspera A.,El-issami M.</td><td>1</td></tr>\n",
       "<tr><td>Markakis C.</td><td>2</td></tr>\n",
       "<tr><td>Dempsey J.T.</td><td>4</td></tr>\n",
       "<tr><td>Williams B.,Vogt F.P.A.</td><td>1</td></tr>\n",
       "<tr><td>Pavlenko Y.,Martin E.L.</td><td>1</td></tr>\n",
       "<tr><td>Marino R. A.</td><td>1</td></tr>\n",
       "<tr><td>Boller Th.</td><td>1</td></tr>\n",
       "<tr><td>Sparks W.M.</td><td>1</td></tr>\n",
       "</table></div>"
      ],
      "text/plain": [
       "<Table length=20000>\n",
       "          role_name            cnt \n",
       "            object            int32\n",
       "----------------------------- -----\n",
       "   Lagrange A.-M.,Langlois M.     1\n",
       "      Burstein D.,Bohlin R.C.     1\n",
       "                    DAVILA H.     1\n",
       "      Dumusque X.,Fulton B.J.     1\n",
       "           Queloz D.,Rauer H.     1\n",
       "                 Hillwig T.C.     7\n",
       "                  Ranadive P.     1\n",
       "                   Lalitha S.     9\n",
       "         Moriarty-Schieven G.     6\n",
       "                          ...   ...\n",
       "                  Papovich C.    39\n",
       "                     Celik O.     5\n",
       "Della Gaspera A.,El-issami M.     1\n",
       "                  Markakis C.     2\n",
       "                 Dempsey J.T.     4\n",
       "      Williams B.,Vogt F.P.A.     1\n",
       "      Pavlenko Y.,Martin E.L.     1\n",
       "                 Marino R. A.     1\n",
       "                   Boller Th.     1\n",
       "                  Sparks W.M.     1"
      ]
     },
     "execution_count": 16,
     "metadata": {},
     "output_type": "execute_result"
    }
   ],
   "source": [
    "names = gavo_regtap.search(\"select distinct role_name, count(*) as cnt from rr.res_role where base_role = 'creator' group by role_name\").to_table()\n",
    "names"
   ]
  },
  {
   "cell_type": "code",
   "execution_count": null,
   "id": "adbe5443-68a6-44a6-bd42-aafe06490ee7",
   "metadata": {},
   "outputs": [],
   "source": []
  },
  {
   "cell_type": "markdown",
   "id": "2ba7bf75-5390-4642-b819-2e9bdff2ce95",
   "metadata": {
    "jp-MarkdownHeadingCollapsed": true
   },
   "source": [
    "## Check 4:  subjects and the UAT"
   ]
  },
  {
   "cell_type": "code",
   "execution_count": 17,
   "id": "31a2eef9-48a9-450e-836c-201c6593d5ad",
   "metadata": {
    "scrolled": true
   },
   "outputs": [
    {
     "data": {
      "text/html": [
       "<div><i>Table length=1253</i>\n",
       "<table id=\"table13304693392\" class=\"table-striped table-bordered table-condensed\">\n",
       "<thead><tr><th>res_subject</th><th>cnt</th></tr></thead>\n",
       "<thead><tr><th>object</th><th>int32</th></tr></thead>\n",
       "<tr><td>visible-astronomy</td><td>7270</td></tr>\n",
       "<tr><td>galaxies</td><td>4355</td></tr>\n",
       "<tr><td>infrared-photometry</td><td>4333</td></tr>\n",
       "<tr><td>spectroscopy</td><td>4294</td></tr>\n",
       "<tr><td>photometry</td><td>3837</td></tr>\n",
       "<tr><td>radial-velocity</td><td>2856</td></tr>\n",
       "<tr><td>surveys</td><td>2761</td></tr>\n",
       "<tr><td>redshifted</td><td>2669</td></tr>\n",
       "<tr><td>variable-stars</td><td>2033</td></tr>\n",
       "<tr><td>...</td><td>...</td></tr>\n",
       "<tr><td>UKIDSS DR2, SIAP, Images</td><td>1</td></tr>\n",
       "<tr><td>Extragalactic Variable Star</td><td>1</td></tr>\n",
       "<tr><td>LARGE MAGELLANIC CLOUD</td><td>1</td></tr>\n",
       "<tr><td>neptune</td><td>1</td></tr>\n",
       "<tr><td>File Service</td><td>1</td></tr>\n",
       "<tr><td>CRTS DR3 Image Service</td><td>1</td></tr>\n",
       "<tr><td>solar-wind</td><td>1</td></tr>\n",
       "<tr><td>Nova</td><td>1</td></tr>\n",
       "<tr><td>imaging spectroscopy</td><td>1</td></tr>\n",
       "<tr><td>Shocks</td><td>1</td></tr>\n",
       "</table></div>"
      ],
      "text/plain": [
       "<Table length=1253>\n",
       "        res_subject          cnt \n",
       "           object           int32\n",
       "--------------------------- -----\n",
       "          visible-astronomy  7270\n",
       "                   galaxies  4355\n",
       "        infrared-photometry  4333\n",
       "               spectroscopy  4294\n",
       "                 photometry  3837\n",
       "            radial-velocity  2856\n",
       "                    surveys  2761\n",
       "                 redshifted  2669\n",
       "             variable-stars  2033\n",
       "                        ...   ...\n",
       "   UKIDSS DR2, SIAP, Images     1\n",
       "Extragalactic Variable Star     1\n",
       "     LARGE MAGELLANIC CLOUD     1\n",
       "                    neptune     1\n",
       "               File Service     1\n",
       "     CRTS DR3 Image Service     1\n",
       "                 solar-wind     1\n",
       "                       Nova     1\n",
       "       imaging spectroscopy     1\n",
       "                     Shocks     1"
      ]
     },
     "execution_count": 17,
     "metadata": {},
     "output_type": "execute_result"
    }
   ],
   "source": [
    "subjects = gavo_regtap.search(\"select res_subject, count(*) as cnt from rr.res_subject group by res_subject order by cnt desc\").to_table()\n",
    "subjects"
   ]
  },
  {
   "cell_type": "code",
   "execution_count": 18,
   "id": "15f469d9-3a58-445a-969f-42d12ce48ea6",
   "metadata": {},
   "outputs": [],
   "source": [
    "import urllib.request, json \n",
    "with urllib.request.urlopen(\"https://raw.githubusercontent.com/astrothesaurus/UAT/master/UAT.json\") as url:\n",
    "    uat = json.load(url)"
   ]
  },
  {
   "cell_type": "code",
   "execution_count": 19,
   "id": "2278ae55-018c-495d-976c-0b5b7dcaec7f",
   "metadata": {
    "jupyter": {
     "source_hidden": true
    }
   },
   "outputs": [],
   "source": [
    "#  Generator that goes through the nested JSON and looks for a key anywhere down in it\n",
    "def item_generator(json_input, lookup_key):\n",
    "    if isinstance(json_input, dict):\n",
    "        for k, v in json_input.items():\n",
    "            if k == lookup_key:\n",
    "                yield v\n",
    "            else:\n",
    "                yield from item_generator(v, lookup_key)\n",
    "    elif isinstance(json_input, list):\n",
    "        for item in json_input:\n",
    "            yield from item_generator(item, lookup_key)"
   ]
  },
  {
   "cell_type": "code",
   "execution_count": 20,
   "id": "f632d001-1703-4751-91bc-9b7b972d82b1",
   "metadata": {
    "scrolled": true
   },
   "outputs": [
    {
     "name": "stdout",
     "output_type": "stream",
     "text": [
      "Found 4335 names in the UAT\n",
      "['astrophysical processes', 'astrophysical magnetism', 'cosmic magnetic fields theory', 'emerging flux tubes', 'magnetic fields', 'geomagnetic fields', 'magnetic anomalies', 'primordial magnetic fields', 'gravitation', 'relativity']\n"
     ]
    }
   ],
   "source": [
    "uat_name_list = [x.lower() for x in item_generator(uat,'name')]\n",
    "print(f\"Found {len(uat_name_list)} names in the UAT\")\n",
    "print(uat_name_list[0:10])"
   ]
  },
  {
   "cell_type": "code",
   "execution_count": 21,
   "id": "9ffcb3fe-dd23-44d5-9f04-90b09633f296",
   "metadata": {},
   "outputs": [
    {
     "name": "stdout",
     "output_type": "stream",
     "text": [
      "Found 1013 Registry res_subject entries that are not in the UAT and 240 that are.\n",
      "  The top 10 bad subject values by number of instances are\n",
      "visible-astronomy: 7270\n",
      "infrared-photometry: 4333\n",
      "radial-velocity: 2856\n",
      "variable-stars: 2033\n",
      "Wide-band photometry: 1937\n",
      "multiple-stars: 1869\n",
      "x-ray-sources: 1723\n",
      "open-star-clusters: 1677\n",
      "chemical-abundances: 1611\n",
      "infrared-sources: 1433\n"
     ]
    }
   ],
   "source": [
    "invalid_subjects = []\n",
    "correct_subjects = []\n",
    "for i,s in enumerate(subjects['res_subject'].data):\n",
    "    if s.lower() in uat_name_list:\n",
    "        correct_subjects.append((s,subjects['cnt'][i]))\n",
    "    else:\n",
    "        invalid_subjects.append((s,subjects['cnt'][i]))\n",
    "print(f\"Found {len(invalid_subjects)} Registry res_subject entries \\\n",
    "that are not in the UAT and {len(correct_subjects)} that are.\")\n",
    "print(f\"  The top 10 bad subject values by number of instances are\")\n",
    "x=[print(f\"{c[0]}: {c[1]}\") for c in invalid_subjects[0:10] ]"
   ]
  },
  {
   "cell_type": "code",
   "execution_count": 22,
   "id": "142c325c-64a0-43b5-b8e9-0f6bea8c3853",
   "metadata": {},
   "outputs": [
    {
     "name": "stdout",
     "output_type": "stream",
     "text": [
      "Found 17 matches to 'star' such as\n",
      "['star-planet interactions', 'starburst galaxies', 'starburst galaxies', 'starburst galaxies', 'star atlases', 'star counts', 'star counts', 'star lore', 'starspots', 'starspots']\n"
     ]
    }
   ],
   "source": [
    "import re\n",
    "result = [u for u in uat_name_list if re.search(\"^star.*\",u)]\n",
    "print(f\"Found {len(result)} matches to 'star' such as\")\n",
    "print(result[0:10])"
   ]
  },
  {
   "cell_type": "code",
   "execution_count": 23,
   "id": "aeb23237-13ed-4801-8fb1-6bff6d171022",
   "metadata": {
    "scrolled": true
   },
   "outputs": [
    {
     "name": "stdout",
     "output_type": "stream",
     "text": [
      "\n",
      "looking at publisher NASA/GSFC HEASARC\n",
      "    publisher NASA/GSFC HEASARC publishes 10 distinct values of res_subject\n",
      "    value 'Survey Source' used 654 times\n",
      "    value 'Observation' used 84 times\n",
      "    value 'Star' used 70 times\n",
      "    value 'Galaxy' used 25 times\n",
      "    value 'GRB' used 31 times\n",
      "    value 'AGN' used 22 times\n",
      "    value 'Cluster of Galaxies' used 15 times\n",
      "    value 'Optical Counterpart' used 11 times\n",
      "    value 'XRB' used 11 times\n",
      "\n",
      "looking at publisher NASA/IPAC Infrared Science Archive\n",
      "    publisher NASA/IPAC Infrared Science Archive publishes 10 distinct values of res_subject\n",
      "    value '' used 137 times\n",
      "    value 'extragalactic survey' used 101 times\n",
      "    value 'all sky survey' used 58 times\n",
      "    value 'high redshift galaxies' used 17 times\n",
      "\n",
      "looking at publisher The GAVO DC team\n",
      "    publisher The GAVO DC team publishes 10 distinct values of res_subject\n",
      "    value 'proper-motions' used 31 times\n",
      "    value 'milky-way-galaxy' used 13 times\n",
      "    value 'virtual-observatories' used 75 times\n",
      "    value 'stars' used 42 times\n",
      "    value 'software-tutorials' used 47 times\n",
      "    value 'history-of-astronomy' used 12 times\n",
      "\n",
      "looking at publisher Planetary Data System\n",
      "    publisher Planetary Data System publishes 10 distinct values of res_subject\n",
      "    value 'magnetic-fields' used 2 times\n",
      "    value 'asteroid-dynamics' used 207 times\n",
      "    value 'planetary-magnetosphere' used 2 times\n",
      "    value 'Magnetosphere' used 4 times\n",
      "    value 'mercury-planet' used 2 times\n",
      "    value 'Fields' used 4 times\n",
      "    value 'Magnetic' used 4 times\n",
      "    value 'planetary' used 4 times\n",
      "    value 'Engineering' used 2 times\n",
      "    value 'Derived' used 1 times\n",
      "\n",
      "looking at publisher WFAU, Institute for Astronomy, University of Edinburgh\n",
      "    publisher WFAU, Institute for Astronomy, University of Edinburgh publishes 10 distinct values of res_subject\n",
      "    value 'ADQL' used 8 times\n",
      "    value 'Virtual observatory' used 8 times\n",
      "    value 'Infrared, survey, galaxy, point source' used 42 times\n",
      "    value 'Stars,Survey,Galaxy, low mass stars, dark energy' used 20 times\n",
      "    value 'Stars,Survey,Galaxy' used 10 times\n",
      "    value 'Infrared, survey, galaxy, Marellanic Cloud' used 16 times\n",
      "    value 'Observational cosmology, galaxy, cluster, evolution, infrared' used 16 times\n",
      "    value 'Infrared, survey, Milky Way, bulge' used 14 times\n",
      "    value 'survey, galaxy, point source' used 14 times\n",
      "\n",
      "looking at publisher Space Telescope Science Institute Archive\n",
      "    publisher Space Telescope Science Institute Archive publishes 10 distinct values of res_subject\n",
      "    value 'Virtual Observatory' used 15 times\n",
      "    value 'ADQL' used 15 times\n",
      "    value 'UV Astronomy' used 8 times\n",
      "    value 'Optical  Astronomy' used 8 times\n",
      "\n",
      "looking at publisher SVO CAB\n",
      "    publisher SVO CAB publishes 10 distinct values of res_subject\n",
      "    value 'Stars' used 10 times\n",
      "    value 'star' used 46 times\n",
      "    value 'Galaxy: evolution' used 5 times\n",
      "    value 'Stars:evolution' used 3 times\n",
      "    value 'Sun' used 1 times\n",
      "    value 'Spitzer Taurus' used 2 times\n",
      "    value 'instrument' used 1 times\n",
      "    value 'obcp' used 1 times\n",
      "\n",
      "looking at publisher NSF NOIRLab Astro Data Lab Team\n",
      "    publisher NSF NOIRLab Astro Data Lab Team publishes 10 distinct values of res_subject\n",
      "    value 'Image Search' used 192 times\n",
      "    value 'SIA' used 192 times\n",
      "    value 'Calibrated images in Stripe82' used 6 times\n",
      "    value 'All Raw images' used 3 times\n",
      "    value 'DES Year-1 calibrated images' used 3 times\n",
      "    value 'SMASH DR1 calibrated images' used 3 times\n",
      "    value 'DECaLS DR8 images in Stripe82' used 3 times\n",
      "    value 'DES Year-4 images in Stripe82' used 3 times\n",
      "    value 'DES Year-2 images' used 3 times\n",
      "    value 'NOIRLab Source Catalog DR2 images in Stripe82' used 3 times\n",
      "\n",
      "looking at publisher Paris Astronomical Data Centre\n",
      "    publisher Paris Astronomical Data Centre publishes 10 distinct values of res_subject\n",
      "    value 'radio-astronomy' used 8 times\n",
      "    value 'virtual-observatories' used 10 times\n",
      "    value 'Authority' used 8 times\n",
      "    value 'planetary-science' used 18 times\n",
      "    value 'solar-system-astronomy' used 13 times\n",
      "    value 'planetary-magnetosphere' used 8 times\n",
      "    value 'magnetospheric-radio-emissions' used 7 times\n",
      "\n",
      "looking at publisher ASTRON\n",
      "    publisher ASTRON publishes 10 distinct values of res_subject\n",
      "    value 'ADQL' used 4 times\n",
      "    value 'Virtual observatory' used 4 times\n",
      "    value 'sky-surveys' used 4 times\n",
      "    value 'radio' used 10 times\n",
      "    value 'HI line' used 8 times\n",
      "    value 'astronomical databases ? surveys ? catalogs ? radio' used 4 times\n",
      "    value 'fast-radio-bursts' used 4 times\n",
      "    value '???' used 4 times\n",
      "    value 'radio continuum: general, techniques: image processing' used 3 times\n",
      "\n",
      "looking at publisher European Southern Observatory\n",
      "    publisher European Southern Observatory publishes 10 distinct values of res_subject\n",
      "    value '' used 2 times\n",
      "    value 'Stars' used 1 times\n",
      "    value 'Virtual Observatory' used 2 times\n",
      "    value 'SEEING MONITORS' used 1 times\n",
      "    value 'TURBULENCE' used 1 times\n",
      "    value 'ambient measurements' used 1 times\n",
      "\n",
      "looking at publisher The staff at the PDS-PPI VO server\n",
      "    publisher The staff at the PDS-PPI VO server publishes 1 distinct values of res_subject\n",
      "    value 'virtual-observatories' used 1 times\n",
      "\n",
      "looking at publisher NASA/IPAC Extragalactic Database\n",
      "    publisher NASA/IPAC Extragalactic Database publishes 3 distinct values of res_subject\n",
      "    value 'EXTRAGALACTIC OBJECTS' used 12 times\n",
      "    value 'Extragalactic Objects' used 3 times\n",
      "    value 'Extragalactic objects' used 1 times\n",
      "\n",
      "looking at publisher Chinese Virtual Observatory\n",
      "    publisher Chinese Virtual Observatory publishes 10 distinct values of res_subject\n",
      "    value 'Star' used 6 times\n",
      "    value 'Registry' used 2 times\n",
      "    value 'Data Center' used 11 times\n",
      "    value 'Deep Learning' used 4 times\n",
      "    value 'Spectroscopic' used 4 times\n",
      "    value 'Star Detector' used 2 times\n",
      "    value 'Image Restoration' used 2 times\n",
      "    value 'Solar Image' used 2 times\n",
      "    value 'Service' used 2 times\n",
      "\n",
      "looking at publisher Chandra X-ray Observatory\n",
      "    publisher Chandra X-ray Observatory publishes 9 distinct values of res_subject\n",
      "    value '' used 1 times\n",
      "    value 'stars' used 2 times\n",
      "    value 'variability' used 2 times\n",
      "    value 'X-ray' used 2 times\n",
      "\n",
      "looking at publisher IA2\n",
      "    publisher IA2 publishes 10 distinct values of res_subject\n",
      "    value 'Virtual observatory' used 2 times\n",
      "    value 'source catalog' used 22 times\n",
      "    value 'surface brightness galaxies catalog' used 6 times\n",
      "    value 'Survey, Catalogue, Quasar' used 6 times\n",
      "    value 'Optical Astronomical Images' used 6 times\n",
      "    value 'near-infrared photometric galaxies catalog' used 4 times\n",
      "    value 'NIR small telescope imaging' used 2 times\n",
      "    value 'survey catalogue galaxies quasar' used 3 times\n",
      "    value 'Optical Images Archive' used 3 times\n",
      "\n",
      "looking at publisher PADC\n",
      "    publisher PADC publishes 10 distinct values of res_subject\n",
      "    value 'virtual-observatories' used 15 times\n",
      "    value 'Authority' used 8 times\n",
      "    value 'planetary-science' used 3 times\n",
      "    value 'Virtual Observatory' used 13 times\n",
      "    value 'solar-system-astronomy' used 3 times\n",
      "    value 'Spectrum' used 3 times\n",
      "    value 'Planetary Systems' used 4 times\n"
     ]
    }
   ],
   "source": [
    "query = f\"\"\"\n",
    "        select top 10 res_subject, count(*) as cnt from ( rr.res_role natural join rr.res_subject )\n",
    "        where role_name = 'xxxx'\n",
    "        group by res_subject order by cnt desc\n",
    "        \"\"\"\n",
    "validate_publishers( query, publishers, invalid_subjects, \"res_subject\")"
   ]
  },
  {
   "cell_type": "markdown",
   "id": "c17d4fd1-bb85-4667-8204-633a5ca66850",
   "metadata": {
    "jp-MarkdownHeadingCollapsed": true
   },
   "source": [
    "## Check 5:  concepts"
   ]
  },
  {
   "cell_type": "code",
   "execution_count": 24,
   "id": "64bbacde-0b31-444f-a821-dbf94157bab3",
   "metadata": {},
   "outputs": [
    {
     "name": "stdout",
     "output_type": "stream",
     "text": [
      "There are 471 distinct uat_concept values in the registry's subject_uat table\n"
     ]
    }
   ],
   "source": [
    "reg_uat_concept_list = gavo_regtap.search(\"select distinct uat_concept from rr.subject_uat\").to_table()[\"uat_concept\"].data\n",
    "print(f\"There are {len(reg_uat_concept_list)} distinct uat_concept values in the registry's subject_uat table\")"
   ]
  },
  {
   "cell_type": "code",
   "execution_count": 25,
   "id": "2d2c67af-1c33-4088-ae78-db756b569e17",
   "metadata": {
    "scrolled": true
   },
   "outputs": [
    {
     "name": "stdout",
     "output_type": "stream",
     "text": [
      "There are 47 concepts not found in the UAT such as:\n",
      "['active-galactic-nuclei ', 'astrl', 'astronomical-simulations ', 'early-type-galaxies', 'early-type-stars', 'earth-planet', 'earth-planet-', 'exoplanet-atmospheric-composition', 'gamma-ray-astronomy', 'gamma-ray-bursts']\n"
     ]
    }
   ],
   "source": [
    "bad=[]\n",
    "for c in reg_uat_concept_list:\n",
    "    # lower case and replace - with space\n",
    "    if c.lower().replace(\"-\",\" \") not in uat_name_list:\n",
    "        bad.append(c)\n",
    "print(f\"There are {len(bad)} concepts not found in the UAT such as:\")\n",
    "print(bad[0:10])"
   ]
  },
  {
   "cell_type": "code",
   "execution_count": 26,
   "id": "28dd074d-f1dc-4027-bf64-d6a9af00fcbb",
   "metadata": {},
   "outputs": [
    {
     "name": "stdout",
     "output_type": "stream",
     "text": [
      "\n",
      "looking at publisher NASA/GSFC HEASARC\n",
      "    publisher NASA/GSFC HEASARC publishes 10 distinct values of uat_concept\n",
      "\n",
      "looking at publisher NASA/IPAC Infrared Science Archive\n",
      "    publisher NASA/IPAC Infrared Science Archive publishes 10 distinct values of uat_concept\n",
      "\n",
      "looking at publisher The GAVO DC team\n",
      "    publisher The GAVO DC team publishes 10 distinct values of uat_concept\n",
      "\n",
      "looking at publisher Planetary Data System\n",
      "    publisher Planetary Data System publishes 6 distinct values of uat_concept\n",
      "\n",
      "looking at publisher WFAU, Institute for Astronomy, University of Edinburgh\n",
      "    publisher WFAU, Institute for Astronomy, University of Edinburgh publishes 7 distinct values of uat_concept\n",
      "\n",
      "looking at publisher Space Telescope Science Institute Archive\n",
      "    publisher Space Telescope Science Institute Archive publishes 10 distinct values of uat_concept\n",
      "\n",
      "looking at publisher SVO CAB\n",
      "    publisher SVO CAB publishes 8 distinct values of uat_concept\n",
      "\n",
      "looking at publisher NSF NOIRLab Astro Data Lab Team\n",
      "    publisher NSF NOIRLab Astro Data Lab Team publishes 2 distinct values of uat_concept\n",
      "\n",
      "looking at publisher Paris Astronomical Data Centre\n",
      "    publisher Paris Astronomical Data Centre publishes 10 distinct values of uat_concept\n",
      "\n",
      "looking at publisher ASTRON\n",
      "    publisher ASTRON publishes 10 distinct values of uat_concept\n",
      "\n",
      "looking at publisher European Southern Observatory\n",
      "    publisher European Southern Observatory publishes 10 distinct values of uat_concept\n",
      "\n",
      "looking at publisher The staff at the PDS-PPI VO server\n",
      "    publisher The staff at the PDS-PPI VO server publishes 1 distinct values of uat_concept\n",
      "\n",
      "looking at publisher NASA/IPAC Extragalactic Database\n",
      "    publisher NASA/IPAC Extragalactic Database publishes 1 distinct values of uat_concept\n",
      "\n",
      "looking at publisher Chinese Virtual Observatory\n",
      "    publisher Chinese Virtual Observatory publishes 4 distinct values of uat_concept\n",
      "\n",
      "looking at publisher Chandra X-ray Observatory\n",
      "    publisher Chandra X-ray Observatory publishes 6 distinct values of uat_concept\n",
      "\n",
      "looking at publisher IA2\n",
      "    publisher IA2 publishes 10 distinct values of uat_concept\n",
      "\n",
      "looking at publisher PADC\n",
      "    publisher PADC publishes 10 distinct values of uat_concept\n"
     ]
    }
   ],
   "source": [
    "query = f\"\"\"\n",
    "        select top 10 uat_concept, count(*) as cnt from ( rr.res_role natural join rr.subject_uat )\n",
    "        where role_name = 'xxxx'\n",
    "        group by uat_concept order by cnt desc\n",
    "        \"\"\"\n",
    "validate_publishers( query, publishers, bad, \"uat_concept\")"
   ]
  },
  {
   "cell_type": "markdown",
   "id": "41a84c3e-08a5-4199-a377-8c7e986a0a7a",
   "metadata": {
    "jp-MarkdownHeadingCollapsed": true
   },
   "source": [
    "## Check 6: Spatial coverage"
   ]
  },
  {
   "cell_type": "markdown",
   "id": "0998a672-3854-4013-88aa-6aad2a105e5a",
   "metadata": {},
   "source": [
    "Spatial coverage enables registry-wide spatial searches.  But HEASARC for example specifies full sky coverage for all of its services even when the data are not full sky but a sample distributed across the full sky.   "
   ]
  },
  {
   "cell_type": "code",
   "execution_count": 27,
   "id": "5d0f0b7a-a5ac-49d4-b138-36d0c4387a23",
   "metadata": {
    "scrolled": true
   },
   "outputs": [
    {
     "data": {
      "text/html": [
       "<div><i>Table length=18</i>\n",
       "<table id=\"table13307921040\" class=\"table-striped table-bordered table-condensed\">\n",
       "<thead><tr><th>role_name</th><th>cnt</th></tr></thead>\n",
       "<thead><tr><th>object</th><th>int32</th></tr></thead>\n",
       "<tr><td>NASA/GSFC HEASARC</td><td>1010</td></tr>\n",
       "<tr><td>CDS</td><td>84</td></tr>\n",
       "<tr><td>The GAVO DC team</td><td>39</td></tr>\n",
       "<tr><td>\\nChandra X-ray Observatory\\n</td><td>8</td></tr>\n",
       "<tr><td>ASTRON</td><td>7</td></tr>\n",
       "<tr><td>BSDC</td><td>7</td></tr>\n",
       "<tr><td>NASA/IPAC Infrared Science Archive</td><td>7</td></tr>\n",
       "<tr><td>Canadian Astronomy Data Centre</td><td>4</td></tr>\n",
       "<tr><td>ChiVO</td><td>2</td></tr>\n",
       "<tr><td>Paris Astronomical Data Centre - IMCCE</td><td>2</td></tr>\n",
       "<tr><td>Paris Astronomical Data Centre - LESIA</td><td>2</td></tr>\n",
       "<tr><td>Xinjiang Astronomical Observatory,CAS</td><td>2</td></tr>\n",
       "<tr><td>\\n         United States Naval Observatory, Flagstaff Station\\n</td><td>1</td></tr>\n",
       "<tr><td>\\n      NASA/GSFC HEASARC\\n</td><td>1</td></tr>\n",
       "<tr><td>CDS VizieR service</td><td>1</td></tr>\n",
       "<tr><td>Institut d&apos;Astrophysique de Paris</td><td>1</td></tr>\n",
       "<tr><td>Paris Astronomical Data Centre - LUTH</td><td>1</td></tr>\n",
       "<tr><td>XMM at MSSL</td><td>1</td></tr>\n",
       "</table></div>"
      ],
      "text/plain": [
       "<Table length=18>\n",
       "                              role_name                                cnt \n",
       "                                object                                int32\n",
       "--------------------------------------------------------------------- -----\n",
       "                                                    NASA/GSFC HEASARC  1010\n",
       "                                                                  CDS    84\n",
       "                                                     The GAVO DC team    39\n",
       "                                        \\nChandra X-ray Observatory\\n     8\n",
       "                                                               ASTRON     7\n",
       "                                                                 BSDC     7\n",
       "                                   NASA/IPAC Infrared Science Archive     7\n",
       "                                       Canadian Astronomy Data Centre     4\n",
       "                                                                ChiVO     2\n",
       "                               Paris Astronomical Data Centre - IMCCE     2\n",
       "                               Paris Astronomical Data Centre - LESIA     2\n",
       "                                Xinjiang Astronomical Observatory,CAS     2\n",
       "\\n         United States Naval Observatory, Flagstaff Station\\n           1\n",
       "                                      \\n      NASA/GSFC HEASARC\\n         1\n",
       "                                                   CDS VizieR service     1\n",
       "                                    Institut d'Astrophysique de Paris     1\n",
       "                                Paris Astronomical Data Centre - LUTH     1\n",
       "                                                          XMM at MSSL     1"
      ]
     },
     "execution_count": 27,
     "metadata": {},
     "output_type": "execute_result"
    }
   ],
   "source": [
    "query = f\"\"\"\n",
    "        select distinct role_name, count(*) as cnt \n",
    "        from ( rr.res_role natural join rr.stc_spatial )\n",
    "        where base_role = 'publisher' and ( coverage = '' or coverage = '0/0-11' )\n",
    "        group by role_name \n",
    "        order by cnt desc\n",
    "        \"\"\"\n",
    "gavo_regtap.search(query).to_table()"
   ]
  },
  {
   "cell_type": "markdown",
   "id": "c502961a-0c49-428e-9cfd-3bdf181d6537",
   "metadata": {
    "jp-MarkdownHeadingCollapsed": true
   },
   "source": [
    "## Check 7: Relationships"
   ]
  },
  {
   "cell_type": "markdown",
   "id": "a0480d93-b82d-4dde-97ce-394c08c9e4d8",
   "metadata": {},
   "source": [
    "This is an outstanding discussion I believe, so this is not necessarily wrong, depending on who you ask.  ;) "
   ]
  },
  {
   "cell_type": "code",
   "execution_count": 28,
   "id": "43c26aff-1339-4995-8511-a8da4344f58e",
   "metadata": {
    "scrolled": true
   },
   "outputs": [
    {
     "data": {
      "text/html": [
       "<div><i>Table length=24</i>\n",
       "<table id=\"table4449288336\" class=\"table-striped table-bordered table-condensed\">\n",
       "<thead><tr><th>role_name</th><th>cnt</th></tr></thead>\n",
       "<thead><tr><th>object</th><th>int32</th></tr></thead>\n",
       "<tr><td>CDS</td><td>162080</td></tr>\n",
       "<tr><td>WFAU, Institute for Astronomy, University of Edinburgh</td><td>51</td></tr>\n",
       "<tr><td>\\n      International Virtual Observatory Alliance\\n</td><td>12</td></tr>\n",
       "<tr><td>CSIRO</td><td>7</td></tr>\n",
       "<tr><td>IDOC D2S</td><td>7</td></tr>\n",
       "<tr><td>IDOC GINCO</td><td>6</td></tr>\n",
       "<tr><td>Paris Astronomical Data Centre - GEPI</td><td>6</td></tr>\n",
       "<tr><td>Mullard Space Science Laboratory</td><td>4</td></tr>\n",
       "<tr><td>Paris Astronomical Data Centre - LESIA</td><td>4</td></tr>\n",
       "<tr><td>...</td><td>...</td></tr>\n",
       "<tr><td>Paris Astronomical Data Centre</td><td>2</td></tr>\n",
       "<tr><td>Paris Astronomical Data Centre - LERMA</td><td>2</td></tr>\n",
       "<tr><td>Paris Astronomical Data Centre - LUTH</td><td>2</td></tr>\n",
       "<tr><td>Paris Astronomical Data Centre - USN</td><td>2</td></tr>\n",
       "<tr><td>China-VO</td><td>1</td></tr>\n",
       "<tr><td>OV-GSO Virtual Observatory services</td><td>1</td></tr>\n",
       "<tr><td>OVGSO</td><td>1</td></tr>\n",
       "<tr><td>WFAU</td><td>1</td></tr>\n",
       "<tr><td>XMM at MSSL</td><td>1</td></tr>\n",
       "<tr><td>ivo://anusf.anu.au</td><td>1</td></tr>\n",
       "</table></div>"
      ],
      "text/plain": [
       "<Table length=24>\n",
       "                       role_name                          cnt  \n",
       "                         object                          int32 \n",
       "-------------------------------------------------------- ------\n",
       "                                                     CDS 162080\n",
       "  WFAU, Institute for Astronomy, University of Edinburgh     51\n",
       "\\n      International Virtual Observatory Alliance\\n         12\n",
       "                                                   CSIRO      7\n",
       "                                                IDOC D2S      7\n",
       "                                              IDOC GINCO      6\n",
       "                   Paris Astronomical Data Centre - GEPI      6\n",
       "                        Mullard Space Science Laboratory      4\n",
       "                  Paris Astronomical Data Centre - LESIA      4\n",
       "                                                     ...    ...\n",
       "                          Paris Astronomical Data Centre      2\n",
       "                  Paris Astronomical Data Centre - LERMA      2\n",
       "                   Paris Astronomical Data Centre - LUTH      2\n",
       "                    Paris Astronomical Data Centre - USN      2\n",
       "                                                China-VO      1\n",
       "                     OV-GSO Virtual Observatory services      1\n",
       "                                                   OVGSO      1\n",
       "                                                    WFAU      1\n",
       "                                             XMM at MSSL      1\n",
       "                                      ivo://anusf.anu.au      1"
      ]
     },
     "execution_count": 28,
     "metadata": {},
     "output_type": "execute_result"
    }
   ],
   "source": [
    "gavo_regtap.search(\"\"\"\n",
    "    select distinct role_name, count(*) as cnt\n",
    "    from ( rr.relationship natural join rr.res_role )\n",
    "    where relationship_type = 'related-to' and base_role = 'publisher'\n",
    "    group by role_name\n",
    "    order by cnt desc\n",
    "\"\"\").to_table()"
   ]
  },
  {
   "cell_type": "markdown",
   "id": "48180652-6476-4102-9a71-7d30dc9f2d1d",
   "metadata": {},
   "source": [
    "## To be expanded.  Now what to do with this?  \n",
    "\n",
    "* Report cross-checks between registries to their admins.  \n",
    "* Compile a report of issues as above and advertise at IVOA Interop's Registry (or Ops?) session.  \n",
    "* Compile a report of issues found for each publisher and email them yearly to request updates.  \n"
   ]
  },
  {
   "cell_type": "code",
   "execution_count": null,
   "id": "2880c300-afd3-435d-9b19-38facba07c6a",
   "metadata": {},
   "outputs": [],
   "source": []
  },
  {
   "cell_type": "code",
   "execution_count": null,
   "id": "d0b8a44a-6bf5-4cd8-857e-28c9c709a4c0",
   "metadata": {},
   "outputs": [],
   "source": []
  },
  {
   "cell_type": "markdown",
   "id": "9be35010-472d-4a0b-92c5-96edd9d19973",
   "metadata": {},
   "source": [
    "## Scratch "
   ]
  },
  {
   "cell_type": "code",
   "execution_count": null,
   "id": "e3f56d18-c47f-482e-b09c-9a4f5f44dffb",
   "metadata": {},
   "outputs": [],
   "source": []
  },
  {
   "cell_type": "code",
   "execution_count": null,
   "id": "aa07409d-e608-4ab3-a693-ea9f74dec836",
   "metadata": {},
   "outputs": [],
   "source": []
  },
  {
   "cell_type": "code",
   "execution_count": null,
   "id": "5686fe15-9fcd-47f7-8ae9-36d251746051",
   "metadata": {},
   "outputs": [],
   "source": []
  },
  {
   "cell_type": "code",
   "execution_count": null,
   "id": "456859f5-6839-46ce-a209-6d2f0e11a0c9",
   "metadata": {},
   "outputs": [],
   "source": []
  },
  {
   "cell_type": "code",
   "execution_count": null,
   "id": "469a8d33-4f7c-4f8f-a5c6-8b61aad7943b",
   "metadata": {},
   "outputs": [],
   "source": []
  },
  {
   "cell_type": "code",
   "execution_count": null,
   "id": "7c381cca-8f7f-42db-b0e2-9699fbb27873",
   "metadata": {},
   "outputs": [],
   "source": []
  },
  {
   "cell_type": "code",
   "execution_count": null,
   "id": "48925409-43f0-47bf-8f01-62cd6bc8ab70",
   "metadata": {},
   "outputs": [],
   "source": []
  }
 ],
 "metadata": {
  "kernelspec": {
   "display_name": "Python (navo-env)",
   "language": "python",
   "name": "navo-env"
  },
  "language_info": {
   "codemirror_mode": {
    "name": "ipython",
    "version": 3
   },
   "file_extension": ".py",
   "mimetype": "text/x-python",
   "name": "python",
   "nbconvert_exporter": "python",
   "pygments_lexer": "ipython3",
   "version": "3.11.12"
  }
 },
 "nbformat": 4,
 "nbformat_minor": 5
}
