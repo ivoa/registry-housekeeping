{
 "cells": [
  {
   "cell_type": "code",
   "execution_count": 1,
   "id": "51bb638b-d529-416c-99b3-104e4f914a92",
   "metadata": {
    "jupyter": {
     "source_hidden": true
    }
   },
   "outputs": [],
   "source": [
    "import os\n",
    "#os.environ['IVOA_REGISTRY']=\"http://vao.stsci.edu/RegTAP/TapService.aspx\"\n",
    "\n",
    "import pyvo as vo\n",
    "import warnings\n",
    "# There are a number of relatively unimportant warnings that show up, so for now, suppress them:\n",
    "warnings.filterwarnings(\"ignore\", module=\"astropy.nddata.blocks.*\")\n",
    "warnings.filterwarnings(\"ignore\", module=\"pyvo.utils.xml.*\")\n",
    "warnings.filterwarnings(\"ignore\", module=\"urllib3.connectionpool.*\")\n",
    "\n",
    "#T Dower said:  \" ForRegTAP, the preferred URL is now \n",
    "#  https://mast.stsci.edu/vo-tap/api/v0.1/registry. \n",
    "#  OAI-PMH is still on the old system.\"\n",
    "navo_new_regtap = vo.dal.TAPService('https://mast.stsci.edu/vo-tap/api/v0.1/registry')\n",
    "navo_old_regtap = vo.dal.TAPService('https://vao.stsci.edu/RegTAP/TapService.aspx')\n",
    "gavo_regtap = vo.dal.TAPService('https://dc.zah.uni-heidelberg.de/__system__/tap/run')\n",
    "euvo_regtap = vo.dal.TAPService('https://registry.euro-vo.org/regtap/tap')\n",
    "\n",
    "from pyvo import registry\n",
    "from astropy.coordinates import SkyCoord"
   ]
  },
  {
   "cell_type": "markdown",
   "id": "d6fec61b-1468-436f-9b96-0f74272e902d",
   "metadata": {},
   "source": [
    "# Registry Spring Cleaning notebook\n",
    "\n",
    "Following up on Markus' [Confessions of a Registry Janitor](https://blog.g-vo.org/registry-a-janitor-speaks-out.html), I propose some regular checks of the metadata.  We already have checks of the validity of services, for instance, in the Operations group weather reports.  This would be compolementary."
   ]
  },
  {
   "cell_type": "markdown",
   "id": "9551317a-581d-44ef-9932-ad6ebd64bddd",
   "metadata": {
    "jp-MarkdownHeadingCollapsed": true
   },
   "source": [
    "## Check 1:  spot check numbers between different registries"
   ]
  },
  {
   "cell_type": "markdown",
   "id": "3045051d-4653-412e-8386-ef82a9cdc7af",
   "metadata": {},
   "source": [
    "What's the best way to get the current registries?  Testing one of them seems circular.  But the [RofR](https://rofr.ivoa.net) is still pointing to the old NAVO RegTAP.  OTOH, there's a bug in the new one.  "
   ]
  },
  {
   "cell_type": "code",
   "execution_count": 2,
   "id": "59561216-a04a-45c2-85a0-f055910d369b",
   "metadata": {
    "scrolled": true
   },
   "outputs": [
    {
     "name": "stdout",
     "output_type": "stream",
     "text": [
      "            ivoid              ...\n",
      "------------------------------ ...\n",
      "        ivo://aip.gavo.org/tap ...\n",
      "ivo://archive.stsci.edu/regtap ...\n",
      "      ivo://esavo/registry/tap ...\n",
      "         ivo://org.gavo.dc/tap ...\n",
      "                ivo://purx/tap ...\n"
     ]
    }
   ],
   "source": [
    "result = registry.search(datamodel=\"regtap\").to_table()\n",
    "print(result['ivoid','access_urls'])"
   ]
  },
  {
   "cell_type": "code",
   "execution_count": 3,
   "id": "1bfaa767-48d0-4db9-a333-eb4f342b5258",
   "metadata": {},
   "outputs": [],
   "source": [
    "def compare( query ):\n",
    "    # Currently \n",
    "    #navo_regtap = vo.dal.TAPService('https://vao.stsci.edu/RegTAP/TapService.aspx')\n",
    "    #navo_new_regtap = vo.dal.TAPService('https://mast.stsci.edu/vo-tap/api/v0.1/registry')\n",
    "    navo_regtap = vo.dal.TAPService('https://mast.stsci.edu/vo-tap/api/v0.1/registry')\n",
    "    gavo_regtap = vo.dal.TAPService('https://dc.zah.uni-heidelberg.de/__system__/tap/run')\n",
    "    euvo_regtap = vo.dal.TAPService('https://registry.euro-vo.org/regtap/tap')\n",
    "\n",
    "    for name,regtap in [('NAVO',navo_regtap),('GAVO',gavo_regtap),(\"EUVO\",euvo_regtap)]:\n",
    "        try:\n",
    "            sias = regtap.search(query)\n",
    "            print(f\"{name} RegTAP finds {len(sias)}\")\n",
    "            strings=sias.to_table()['ivoid'] + ' \"'+ sias.to_table()['cap_description']+'\"'\n",
    "        except Exception as e:\n",
    "            print(f\"{name} RegTAP gives error: {e}\")       \n"
   ]
  },
  {
   "cell_type": "markdown",
   "id": "7635b543-3eec-4cd5-bf1d-de00906d45b4",
   "metadata": {},
   "source": [
    "So hardcode them for now"
   ]
  },
  {
   "cell_type": "code",
   "execution_count": 4,
   "id": "6f02a728-cf8b-4106-8a37-c7742a2301a8",
   "metadata": {},
   "outputs": [
    {
     "name": "stdout",
     "output_type": "stream",
     "text": [
      "NAVO RegTAP finds 477\n",
      "GAVO RegTAP finds 477\n",
      "EUVO RegTAP finds 474\n"
     ]
    }
   ],
   "source": [
    "#  This syntax isn't processed correctly by NAVO's.  Use Markus' preferred.  \n",
    "#compare(\"select count(*) as cnt from rr.capability where standard_id like '%sia%'\")\n",
    "compare(\"select * from rr.capability where standard_id like 'ivo://ivoa.net/std/sia%'\")"
   ]
  },
  {
   "cell_type": "code",
   "execution_count": 5,
   "id": "739467c7-c156-45be-bdb6-1bb91e62f1d0",
   "metadata": {},
   "outputs": [
    {
     "name": "stdout",
     "output_type": "stream",
     "text": [
      "NAVO RegTAP finds 26\n",
      "GAVO RegTAP finds 637\n",
      "EUVO RegTAP finds 576\n"
     ]
    }
   ],
   "source": [
    "compare(\"select * from rr.capability where standard_id like '%hips%'\")"
   ]
  },
  {
   "cell_type": "code",
   "execution_count": 6,
   "id": "2b731364-b586-4184-b85f-2d8c1b1cdd53",
   "metadata": {},
   "outputs": [
    {
     "name": "stdout",
     "output_type": "stream",
     "text": [
      "NAVO RegTAP finds 1987\n",
      "GAVO RegTAP finds 1956\n",
      "EUVO RegTAP finds 1981\n"
     ]
    }
   ],
   "source": [
    "compare(\"select * from rr.capability where standard_id like '%cone%' and ivoid not like '%vizier%'\")"
   ]
  },
  {
   "cell_type": "code",
   "execution_count": 7,
   "id": "a8965000-a7b5-44da-bd14-f2f78381bf63",
   "metadata": {},
   "outputs": [
    {
     "name": "stdout",
     "output_type": "stream",
     "text": [
      "NAVO RegTAP finds 24426\n"
     ]
    },
    {
     "name": "stderr",
     "output_type": "stream",
     "text": [
      "/Users/tjaffe/miniforge3/envs/navo-env/lib/python3.11/site-packages/pyvo/dal/query.py:341: DALOverflowWarning: Partial result set. Potential causes MAXREC, async storage space, etc.\n",
      "  warn(\"Partial result set. Potential causes MAXREC, async storage space, etc.\",\n"
     ]
    },
    {
     "name": "stdout",
     "output_type": "stream",
     "text": [
      "GAVO RegTAP finds 20000\n",
      "EUVO RegTAP finds 29909\n"
     ]
    }
   ],
   "source": [
    "compare(\"select * from rr.capability where standard_id like '%cone%'  and ivoid like '%vizier%'\")"
   ]
  },
  {
   "cell_type": "markdown",
   "id": "223ddb80-14e8-4d5b-aebe-43ab79ed3d9d",
   "metadata": {
    "jp-MarkdownHeadingCollapsed": true
   },
   "source": [
    "#### Check 1.1 look at the differences"
   ]
  },
  {
   "cell_type": "code",
   "execution_count": 8,
   "id": "3a538fc6-8ed8-47be-a6c3-98b6416bd0d6",
   "metadata": {},
   "outputs": [],
   "source": [
    "query = \"select * from rr.capability where standard_id like 'ivo://ivoa.net/std/sia%'\"\n",
    "def diffs(A, B, C, query):\n",
    "    #  A is a tuple of ('name',service)\n",
    "    resultsA = A[1].search(query).to_table()\n",
    "    resultsB = B[1].search(query).to_table()\n",
    "    resultsC = C[1].search(query).to_table()\n",
    "\n",
    "    idsA=[r['ivoid']+'---'+r['cap_description'] for r in resultsA ]\n",
    "    idsB=[r['ivoid']+'---'+r['cap_description'] for r in resultsB ]\n",
    "    idsC=[r['ivoid']+'---'+r['cap_description'] for r in resultsC ]\n",
    "\n",
    "    diffs1 = list( set(idsA) - set(idsB) )\n",
    "    print(f\"Found {len(diffs1)} in {A[0]} not in {B[0]}\")\n",
    "    diffs2 = list( set(idsA) - set(idsC) )\n",
    "    print(f\"Found {len(diffs2)} in {A[0]} not in {C[0]}\")\n",
    "    diffs3 = list( set(idsB) - set(idsC) )\n",
    "    print(f\"Found {len(diffs3)} in {B[0]} not in {C[0]}\")\n",
    "\n",
    "    diffs4 = list( set(idsB) - set(idsA) )\n",
    "    print(f\"Found {len(diffs4)} in {B[0]} not in {A[0]}\")\n",
    "    diffs5 = list( set(idsC) - set(idsA) )\n",
    "    print(f\"Found {len(diffs5)} in {C[0]} not in {A[0]}\")\n",
    "    diffs6 = list( set(idsC) - set(idsB) )\n",
    "    print(f\"Found {len(diffs6)} in {C[0]} not in {B[0]}\")\n",
    "\n",
    "    return [diffs1,diffs2,diffs3,diffs4,diffs5,diffs6]\n"
   ]
  },
  {
   "cell_type": "code",
   "execution_count": 9,
   "id": "4779595a-f59d-4468-b9b5-63c2186b6885",
   "metadata": {},
   "outputs": [
    {
     "name": "stdout",
     "output_type": "stream",
     "text": [
      "Found 7 in NAVO not in GAVO\n",
      "Found 9 in NAVO not in EUVO\n",
      "Found 4 in GAVO not in EUVO\n",
      "Found 7 in GAVO not in NAVO\n",
      "Found 6 in EUVO not in NAVO\n",
      "Found 1 in EUVO not in GAVO\n"
     ]
    }
   ],
   "source": [
    "difflists = diffs( ('NAVO',navo_old_regtap), ('GAVO',gavo_regtap), ('EUVO',euvo_regtap), \n",
    "      \"select * from rr.capability where standard_id like 'ivo://ivoa.net/std/sia%'\" )"
   ]
  },
  {
   "cell_type": "code",
   "execution_count": 10,
   "id": "9a9a5e4f-d815-4779-8798-1b2e5f443846",
   "metadata": {
    "scrolled": true
   },
   "outputs": [
    {
     "name": "stdout",
     "output_type": "stream",
     "text": [
      "Services in GAVO not in EUVO\n",
      "ivo://vopdc.obspm/gepi/vopsat/srcj---\n",
      "ivo://org.gavo.dc/lswscans/res/positions/siap---\n",
      "ivo://vopdc.obspm/gepi/vopsat/esor---\n",
      "ivo://vopdc.obspm/gepi/vopsat---\n",
      "Services in EUVO not in GAVO\n",
      "ivo://irsa.ipac/herschel/images/z0mgs_dust---\n"
     ]
    }
   ],
   "source": [
    "print(\"Services in GAVO not in EUVO\")\n",
    "print(\"\\n\".join(difflists[2]))\n",
    "print(\"Services in EUVO not in GAVO\")\n",
    "print(\"\\n\".join(difflists[5]))"
   ]
  },
  {
   "cell_type": "markdown",
   "id": "a69e1109-f3c1-4272-b0ed-19be0ad2d251",
   "metadata": {},
   "source": [
    "The hard part is then looking at those and understanding why.  What other information would we want to look at?"
   ]
  },
  {
   "cell_type": "markdown",
   "id": "03188b37-e4e2-494e-b7a4-90c2d7eb2271",
   "metadata": {},
   "source": [
    "## Check 2:  UCDs "
   ]
  },
  {
   "cell_type": "markdown",
   "id": "7e5b4f02-894b-4850-93d3-b9dc20254252",
   "metadata": {
    "jp-MarkdownHeadingCollapsed": true
   },
   "source": [
    "#### Look at all UCDs in the Registry\n",
    "- Check 2a:  are the UCDs valid according to astropy.io.votable.ucd.check_ucd"
   ]
  },
  {
   "cell_type": "code",
   "execution_count": 11,
   "id": "34ba1cf7-8519-41e3-9a97-488b09222e5b",
   "metadata": {
    "scrolled": true
   },
   "outputs": [
    {
     "name": "stdout",
     "output_type": "stream",
     "text": [
      "Found 79 invalid UCDs\n",
      "  The top 10 bad UCD values by number of instances are\n",
      "                         : 254736\n",
      "??                       : 30342\n",
      "vox:image_filesize       : 138\n",
      "????                     : 70\n",
      "vox:image_mjdateobs      : 59\n",
      "image?                   : 49\n",
      "vox:bandpass_id          : 47\n",
      "vox:bandpass_hilimit     : 39\n",
      "vox:bandpass_lolimit     : 39\n",
      "vox:bandpass_refvalue    : 39\n"
     ]
    }
   ],
   "source": [
    "from astropy.io.votable.ucd import check_ucd\n",
    "query=\"\"\"\n",
    "  select distinct ucd, count(*) as cnt\n",
    "  from rr.table_column \n",
    "  group by ucd \n",
    "  order by cnt desc\n",
    "  \"\"\"\n",
    "result = gavo_regtap.search(query)\n",
    "\n",
    "all_ucds = result.to_table()\n",
    "invalid_ucds = []\n",
    "for i,u in enumerate(all_ucds['ucd'].data):\n",
    "    if not check_ucd(u):\n",
    "        invalid_ucds.append((u,all_ucds['cnt'][i]))\n",
    "print(f\"Found {len(invalid_ucds)} invalid UCDs\")\n",
    "print(f\"  The top 10 bad UCD values by number of instances are\")\n",
    "x=[print(f\"{c[0]:25}: {c[1]}\") for c in invalid_ucds[0:10] ]"
   ]
  },
  {
   "cell_type": "code",
   "execution_count": 12,
   "id": "f662c0df-e1c3-4f06-851b-a27051dec2ce",
   "metadata": {
    "scrolled": true
   },
   "outputs": [
    {
     "name": "stdout",
     "output_type": "stream",
     "text": [
      "Found 935 that are not valid under UCD1+ controlled vocabulary\n",
      "  The top 10 bad UCD values by number of instances are\n",
      "                         : 254736\n",
      "??                       : 30342\n",
      "error                    : 13825\n",
      "code_misc                : 8538\n",
      "phot_mag                 : 6291\n",
      "fit_param                : 4505\n",
      "obs.field                : 4334\n",
      "number                   : 3090\n",
      "id_number                : 2694\n",
      "phot_intensity_adu       : 2512\n"
     ]
    },
    {
     "data": {
      "text/plain": [
       "[None, None, None, None, None, None, None, None, None, None]"
      ]
     },
     "execution_count": 12,
     "metadata": {},
     "output_type": "execute_result"
    }
   ],
   "source": [
    "invalid_ucds_cv = []\n",
    "for i,u in enumerate(all_ucds['ucd'].data):\n",
    "    if not check_ucd(u,check_controlled_vocabulary=True):\n",
    "        invalid_ucds_cv.append((u,all_ucds['cnt'][i]))\n",
    "print(f\"Found {len(invalid_ucds_cv)} that are not valid under UCD1+ controlled vocabulary\")\n",
    "print(f\"  The top 10 bad UCD values by number of instances are\")\n",
    "[print(f\"{c[0]:25}: {c[1]}\") for c in invalid_ucds_cv[0:10] ]"
   ]
  },
  {
   "cell_type": "markdown",
   "id": "1df1cd72-5b41-485b-b718-1ab3d3957775",
   "metadata": {
    "jp-MarkdownHeadingCollapsed": true
   },
   "source": [
    "#### UCDs at different publishers"
   ]
  },
  {
   "cell_type": "markdown",
   "id": "6c0f74d2-579e-410a-bb91-cd43a5519c67",
   "metadata": {},
   "source": [
    "Getting the publishers with the most resources in the Registry.  Let's check those.  "
   ]
  },
  {
   "cell_type": "code",
   "execution_count": 13,
   "id": "6d603705-38a6-4fcd-b9dc-5accc893ad20",
   "metadata": {
    "scrolled": true
   },
   "outputs": [
    {
     "data": {
      "text/html": [
       "<div><i>Table length=10</i>\n",
       "<table id=\"table5491278864\" class=\"table-striped table-bordered table-condensed\">\n",
       "<thead><tr><th>role_ivoid</th><th>cnt</th><th>role_name</th></tr></thead>\n",
       "<thead><tr><th>object</th><th>int32</th><th>object</th></tr></thead>\n",
       "<tr><td>ivo://nasa.heasarc/asd</td><td>1091</td><td>NASA/GSFC HEASARC</td></tr>\n",
       "<tr><td>ivo://irsa.ipac/irsa</td><td>563</td><td>NASA/IPAC Infrared Science Archive</td></tr>\n",
       "<tr><td></td><td>244</td><td>The GAVO DC team</td></tr>\n",
       "<tr><td></td><td>217</td><td>Planetary Data System</td></tr>\n",
       "<tr><td>ivo://wfau.roe.ac.uk</td><td>123</td><td>WFAU, Institute for Astronomy, University of Edinburgh</td></tr>\n",
       "<tr><td>ivo://archive.stsci.edu/stsci-arc</td><td>96</td><td>Space Telescope Science Institute Archive</td></tr>\n",
       "<tr><td>ivo://svo.cab</td><td>71</td><td>SVO CAB</td></tr>\n",
       "<tr><td>ivo://noirlab.edu</td><td>65</td><td>NSF NOIRLab Astro Data Lab Team</td></tr>\n",
       "<tr><td></td><td>57</td><td>Paris Astronomical Data Centre</td></tr>\n",
       "<tr><td></td><td>36</td><td>ASTRON</td></tr>\n",
       "</table></div>"
      ],
      "text/plain": [
       "<Table length=10>\n",
       "            role_ivoid            ...\n",
       "              object              ...\n",
       "--------------------------------- ...\n",
       "           ivo://nasa.heasarc/asd ...\n",
       "             ivo://irsa.ipac/irsa ...\n",
       "                                  ...\n",
       "                                  ...\n",
       "             ivo://wfau.roe.ac.uk ...\n",
       "ivo://archive.stsci.edu/stsci-arc ...\n",
       "                    ivo://svo.cab ...\n",
       "                ivo://noirlab.edu ...\n",
       "                                  ...\n",
       "                                  ..."
      ]
     },
     "execution_count": 13,
     "metadata": {},
     "output_type": "execute_result"
    }
   ],
   "source": [
    "publishers = gavo_regtap.search(\"\"\"\n",
    "    select distinct role_ivoid, count(*) as cnt , role_name\n",
    "    from rr.res_role \n",
    "    where base_role = 'publisher' and role_name != 'CDS'\n",
    "    group by role_ivoid, role_name\n",
    "    order by cnt desc\n",
    "    \"\"\").to_table()[0:10]\n",
    "publishers"
   ]
  },
  {
   "cell_type": "code",
   "execution_count": null,
   "id": "8ebcb0ce-0c13-4027-be61-e1bff05ddcdb",
   "metadata": {},
   "outputs": [],
   "source": []
  },
  {
   "cell_type": "code",
   "execution_count": 14,
   "id": "71477dea-1399-4ed6-8fcd-b90e84efaa4f",
   "metadata": {
    "scrolled": true
   },
   "outputs": [
    {
     "name": "stdout",
     "output_type": "stream",
     "text": [
      "\n",
      "looking at publisher NASA/GSFC HEASARC\n",
      "    publisher NASA/GSFC HEASARC publishes 2451 distinct values of ucd\n",
      "    value '' used 8596 times\n",
      "\n",
      "looking at publisher NASA/IPAC Infrared Science Archive\n",
      "    publisher NASA/IPAC Infrared Science Archive publishes no column metadata (?)\n",
      "\n",
      "looking at publisher The GAVO DC team\n",
      "    publisher The GAVO DC team publishes 830 distinct values of ucd\n",
      "    value '' used 1373 times\n",
      "    value 'vox:image_filesize' used 44 times\n",
      "    value 'vox:image_mjdateobs' used 2 times\n",
      "\n",
      "looking at publisher Planetary Data System\n",
      "    publisher Planetary Data System publishes 41 distinct values of ucd\n",
      "    value '' used 2604 times\n",
      "\n",
      "looking at publisher WFAU, Institute for Astronomy, University of Edinburgh\n",
      "    publisher WFAU, Institute for Astronomy, University of Edinburgh publishes 855 distinct values of ucd\n",
      "    value '' used 301789 times\n",
      "    value '??' used 60549 times\n",
      "    value '????' used 60549 times\n",
      "    value 'image?' used 60549 times\n",
      "    value '???' used 60549 times\n",
      "    value 'pos_eq_cart_x?' used 60549 times\n",
      "    value 'pos_eq_cart_y?' used 60549 times\n",
      "    value 'pos_eq_cart_z?' used 60549 times\n",
      "    value 'class_star/galaxy' used 30 times\n",
      "    value 'error_???' used 60549 times\n",
      "    value 'meta.id,meta.main' used 10 times\n",
      "    value 'stat_%reject' used 8 times\n",
      "    value 'meta_id_--n/_-99999999' used 4 times\n",
      "    value 'stat.param;colourucd;' used 4 times\n",
      "\n",
      "looking at publisher Space Telescope Science Institute Archive\n",
      "    publisher Space Telescope Science Institute Archive publishes no column metadata (?)\n",
      "\n",
      "looking at publisher SVO CAB\n",
      "    publisher SVO CAB publishes no column metadata (?)\n",
      "\n",
      "looking at publisher NSF NOIRLab Astro Data Lab Team\n",
      "    publisher NSF NOIRLab Astro Data Lab Team publishes no column metadata (?)\n",
      "\n",
      "looking at publisher Paris Astronomical Data Centre\n",
      "    publisher Paris Astronomical Data Centre publishes 400 distinct values of ucd\n",
      "    value '' used 966 times\n",
      "    value 'vox:image_filesize' used 16 times\n",
      "    value 'stat.error;stat.min;time.epoch;' used 16 times\n",
      "    value 'stat.error;stat.min;phys.mass;' used 8 times\n",
      "    value 'stat.error;stat.min;phys.albedo;' used 4 times\n",
      "    value 'stat.error;stat.min;phys.size.radius;' used 4 times\n",
      "    value 'stat.error;stat.min;pos.distance;' used 4 times\n",
      "    value 'stat.error;stat.min;pos.posang;' used 4 times\n",
      "    value 'stat.error;stat.min;spect.dopplerveloc;' used 4 times\n",
      "    value 'stat.error;stat.min;src.impactparam;' used 4 times\n",
      "    value 'stat.error;stat.min;src.orbital.eccentricity;' used 4 times\n",
      "    value 'stat.error;stat.min;src.orbital.inclination;' used 4 times\n",
      "    value 'stat.error;stat.min;src.orbital.periastron;' used 4 times\n",
      "    value 'stat.error;stat.min;src.orbital;time.period;' used 4 times\n",
      "    value 'stat.error;stat.min;time.epoch;src.orbital.periastron;' used 4 times\n",
      "    value 'stat.error;stat.min;phys.size.smajaxis;' used 2 times\n",
      "\n",
      "looking at publisher ASTRON\n",
      "    publisher ASTRON publishes 123 distinct values of ucd\n",
      "    value '' used 1601 times\n",
      "    value 'vox:image_filesize' used 46 times\n",
      "    value 'vox:image_mjdateobs' used 44 times\n",
      "    value 'vox:bandpass_id' used 44 times\n",
      "    value 'vox:bandpass_hilimit' used 44 times\n",
      "    value 'vox:bandpass_lolimit' used 44 times\n",
      "    value 'vox:bandpass_refvalue' used 44 times\n",
      "    value 'vox:bandpass_unit' used 44 times\n",
      "    value 'vox:image_naxes' used 44 times\n",
      "    value 'vox:image_naxis' used 44 times\n",
      "    value 'vox:image_pixflags' used 44 times\n",
      "    value 'vox:image_scale' used 44 times\n",
      "    value 'vox:stc_coordequinox' used 44 times\n",
      "    value 'vox:stc_coordrefframe' used 44 times\n",
      "    value 'vox:wcs_cdmatrix' used 44 times\n",
      "    value 'vox:wcs_coordprojection' used 44 times\n",
      "    value 'vox:wcs_coordrefpixel' used 44 times\n",
      "    value 'vox:wcs_coordrefvalue' used 44 times\n",
      "    value 'vox:image_title' used 44 times\n"
     ]
    }
   ],
   "source": [
    "def validate_publishers(query, publist, badvallist, label):\n",
    "    import pandas as pd #  Handy functions\n",
    "    warnings.filterwarnings(\"ignore\", message=\".*This pattern is interpreted as a regular expression.*\")\n",
    "    for i,p in enumerate([pp.strip() for pp in publist['role_name'].data]):\n",
    "        #  Look at all the metadata from this publisher\n",
    "        print(f\"\\nlooking at publisher {p}\")\n",
    "        cnt_all = gavo_regtap.search(query.replace(\"xxxx\",p))\n",
    "        if len(cnt_all) != 0:  \n",
    "            print(f\"    publisher {p} publishes {len(cnt_all)} distinct values of {label}\")\n",
    "        else: \n",
    "            print(f\"    publisher {p} publishes no column metadata (?)\")\n",
    "            continue #  ?\n",
    "        df = pd.DataFrame(data={label:cnt_all.to_table()[label].data.data,\"cnt\":cnt_all.to_table()['cnt'].data.data})\n",
    "      \n",
    "        for c in badvallist:  #  invalid_ucds or invalid_ucds_cv (this is huge)\n",
    "            #  c is a tuple of the string and the count\n",
    "            if c[0]=='':  \n",
    "                matches = df[label].astype(str).str.len() == 0\n",
    "            elif '?' in c[0]:\n",
    "                matches = df[label].str.contains(\"?\",regex=False)\n",
    "            else:\n",
    "                matches = df[label] == c[0]\n",
    "            cnt = df[matches]['cnt'].sum() # should only be one \n",
    "            if cnt == 0:  \n",
    "                continue\n",
    "            print(f\"    value '{c[0]}' used {cnt} times\")\n",
    "\n",
    "\n",
    "query = f\"\"\"\n",
    "        select ucd, count(*) as cnt from ( rr.res_role natural join rr.table_column )\n",
    "        where role_name = 'xxxx'\n",
    "        group by ucd \n",
    "        \"\"\"\n",
    "validate_publishers( query, publishers, invalid_ucds, \"ucd\")"
   ]
  },
  {
   "cell_type": "code",
   "execution_count": 15,
   "id": "68c22cc5-ca1a-4365-87f1-868737d2665d",
   "metadata": {},
   "outputs": [
    {
     "name": "stdout",
     "output_type": "stream",
     "text": [
      "Found 935 that are not valid under UCD1+ controlled vocabulary\n",
      "  The top 10 bad UCD values by number of instances are\n",
      "                         : 254736\n",
      "??                       : 30342\n",
      "error                    : 13825\n",
      "code_misc                : 8538\n",
      "phot_mag                 : 6291\n",
      "fit_param                : 4505\n",
      "obs.field                : 4334\n",
      "number                   : 3090\n",
      "id_number                : 2694\n",
      "phot_intensity_adu       : 2512\n"
     ]
    }
   ],
   "source": [
    "culprits = []\n",
    "for i,u in enumerate(all_ucds['ucd'].data):\n",
    "    if not check_ucd(u,check_controlled_vocabulary=True):\n",
    "        culprits.append((u,all_ucds['cnt'][i]))\n",
    "print(f\"Found {len(culprits)} that are not valid under UCD1+ controlled vocabulary\")\n",
    "print(f\"  The top 10 bad UCD values by number of instances are\")\n",
    "x=[print(f\"{c[0]:25}: {c[1]}\") for c in culprits[0:10] ]"
   ]
  },
  {
   "cell_type": "markdown",
   "id": "34eb4d24-33be-493e-925f-470e23120b97",
   "metadata": {
    "jp-MarkdownHeadingCollapsed": true
   },
   "source": [
    "### Check 3:  authors"
   ]
  },
  {
   "cell_type": "markdown",
   "id": "e07b9a38-1faa-4f26-ac89-2f10771bbc85",
   "metadata": {},
   "source": [
    "Have\n",
    "* Last F.\n",
    "* Last F., Last2 F.\n",
    "* Last, F.\n",
    "* F. Last, Last2. F.\n",
    "\n",
    "At least where there are commas they are used to separate two authors, rather than \"Last, F\" or something."
   ]
  },
  {
   "cell_type": "code",
   "execution_count": 16,
   "id": "9c78f8ac-77e1-4b79-86cf-b93f6f9be85e",
   "metadata": {
    "scrolled": true
   },
   "outputs": [
    {
     "name": "stderr",
     "output_type": "stream",
     "text": [
      "/Users/tjaffe/miniforge3/envs/navo-env/lib/python3.11/site-packages/pyvo/dal/query.py:341: DALOverflowWarning: Partial result set. Potential causes MAXREC, async storage space, etc.\n",
      "  warn(\"Partial result set. Potential causes MAXREC, async storage space, etc.\",\n"
     ]
    },
    {
     "data": {
      "text/html": [
       "<div><i>Table length=20000</i>\n",
       "<table id=\"table5495132240\" class=\"table-striped table-bordered table-condensed\">\n",
       "<thead><tr><th>role_name</th><th>cnt</th></tr></thead>\n",
       "<thead><tr><th>object</th><th>int32</th></tr></thead>\n",
       "<tr><td>Lagrange A.-M.,Langlois M.</td><td>1</td></tr>\n",
       "<tr><td>Burstein D.,Bohlin R.C.</td><td>1</td></tr>\n",
       "<tr><td>DAVILA H.</td><td>1</td></tr>\n",
       "<tr><td>Dumusque X.,Fulton B.J.</td><td>1</td></tr>\n",
       "<tr><td>Queloz D.,Rauer H.</td><td>1</td></tr>\n",
       "<tr><td>Hillwig T.C.</td><td>7</td></tr>\n",
       "<tr><td>Ranadive P.</td><td>1</td></tr>\n",
       "<tr><td>Lalitha S.</td><td>9</td></tr>\n",
       "<tr><td>Moriarty-Schieven G.</td><td>6</td></tr>\n",
       "<tr><td>...</td><td>...</td></tr>\n",
       "<tr><td>Papovich C.</td><td>39</td></tr>\n",
       "<tr><td>Celik O.</td><td>5</td></tr>\n",
       "<tr><td>Della Gaspera A.,El-issami M.</td><td>1</td></tr>\n",
       "<tr><td>Markakis C.</td><td>2</td></tr>\n",
       "<tr><td>Dempsey J.T.</td><td>4</td></tr>\n",
       "<tr><td>Williams B.,Vogt F.P.A.</td><td>1</td></tr>\n",
       "<tr><td>Pavlenko Y.,Martin E.L.</td><td>1</td></tr>\n",
       "<tr><td>Marino R. A.</td><td>1</td></tr>\n",
       "<tr><td>Boller Th.</td><td>1</td></tr>\n",
       "<tr><td>Sparks W.M.</td><td>1</td></tr>\n",
       "</table></div>"
      ],
      "text/plain": [
       "<Table length=20000>\n",
       "          role_name            cnt \n",
       "            object            int32\n",
       "----------------------------- -----\n",
       "   Lagrange A.-M.,Langlois M.     1\n",
       "      Burstein D.,Bohlin R.C.     1\n",
       "                    DAVILA H.     1\n",
       "      Dumusque X.,Fulton B.J.     1\n",
       "           Queloz D.,Rauer H.     1\n",
       "                 Hillwig T.C.     7\n",
       "                  Ranadive P.     1\n",
       "                   Lalitha S.     9\n",
       "         Moriarty-Schieven G.     6\n",
       "                          ...   ...\n",
       "                  Papovich C.    39\n",
       "                     Celik O.     5\n",
       "Della Gaspera A.,El-issami M.     1\n",
       "                  Markakis C.     2\n",
       "                 Dempsey J.T.     4\n",
       "      Williams B.,Vogt F.P.A.     1\n",
       "      Pavlenko Y.,Martin E.L.     1\n",
       "                 Marino R. A.     1\n",
       "                   Boller Th.     1\n",
       "                  Sparks W.M.     1"
      ]
     },
     "execution_count": 16,
     "metadata": {},
     "output_type": "execute_result"
    }
   ],
   "source": [
    "names = gavo_regtap.search(\"select distinct role_name, count(*) as cnt from rr.res_role where base_role = 'creator' group by role_name\").to_table()\n",
    "names"
   ]
  },
  {
   "cell_type": "code",
   "execution_count": null,
   "id": "adbe5443-68a6-44a6-bd42-aafe06490ee7",
   "metadata": {},
   "outputs": [],
   "source": []
  },
  {
   "cell_type": "markdown",
   "id": "2ba7bf75-5390-4642-b819-2e9bdff2ce95",
   "metadata": {
    "jp-MarkdownHeadingCollapsed": true
   },
   "source": [
    "### Check 4:  subjects and the UAT"
   ]
  },
  {
   "cell_type": "code",
   "execution_count": 17,
   "id": "31a2eef9-48a9-450e-836c-201c6593d5ad",
   "metadata": {
    "scrolled": true
   },
   "outputs": [
    {
     "data": {
      "text/html": [
       "<div><i>Table length=1253</i>\n",
       "<table id=\"table5494690896\" class=\"table-striped table-bordered table-condensed\">\n",
       "<thead><tr><th>res_subject</th><th>cnt</th></tr></thead>\n",
       "<thead><tr><th>object</th><th>int32</th></tr></thead>\n",
       "<tr><td>visible-astronomy</td><td>7270</td></tr>\n",
       "<tr><td>galaxies</td><td>4355</td></tr>\n",
       "<tr><td>infrared-photometry</td><td>4333</td></tr>\n",
       "<tr><td>spectroscopy</td><td>4294</td></tr>\n",
       "<tr><td>photometry</td><td>3837</td></tr>\n",
       "<tr><td>radial-velocity</td><td>2856</td></tr>\n",
       "<tr><td>surveys</td><td>2761</td></tr>\n",
       "<tr><td>redshifted</td><td>2669</td></tr>\n",
       "<tr><td>variable-stars</td><td>2033</td></tr>\n",
       "<tr><td>...</td><td>...</td></tr>\n",
       "<tr><td>UKIDSS DR2, SIAP, Images</td><td>1</td></tr>\n",
       "<tr><td>Extragalactic Variable Star</td><td>1</td></tr>\n",
       "<tr><td>LARGE MAGELLANIC CLOUD</td><td>1</td></tr>\n",
       "<tr><td>neptune</td><td>1</td></tr>\n",
       "<tr><td>File Service</td><td>1</td></tr>\n",
       "<tr><td>CRTS DR3 Image Service</td><td>1</td></tr>\n",
       "<tr><td>solar-wind</td><td>1</td></tr>\n",
       "<tr><td>Nova</td><td>1</td></tr>\n",
       "<tr><td>imaging spectroscopy</td><td>1</td></tr>\n",
       "<tr><td>Shocks</td><td>1</td></tr>\n",
       "</table></div>"
      ],
      "text/plain": [
       "<Table length=1253>\n",
       "        res_subject          cnt \n",
       "           object           int32\n",
       "--------------------------- -----\n",
       "          visible-astronomy  7270\n",
       "                   galaxies  4355\n",
       "        infrared-photometry  4333\n",
       "               spectroscopy  4294\n",
       "                 photometry  3837\n",
       "            radial-velocity  2856\n",
       "                    surveys  2761\n",
       "                 redshifted  2669\n",
       "             variable-stars  2033\n",
       "                        ...   ...\n",
       "   UKIDSS DR2, SIAP, Images     1\n",
       "Extragalactic Variable Star     1\n",
       "     LARGE MAGELLANIC CLOUD     1\n",
       "                    neptune     1\n",
       "               File Service     1\n",
       "     CRTS DR3 Image Service     1\n",
       "                 solar-wind     1\n",
       "                       Nova     1\n",
       "       imaging spectroscopy     1\n",
       "                     Shocks     1"
      ]
     },
     "execution_count": 17,
     "metadata": {},
     "output_type": "execute_result"
    }
   ],
   "source": [
    "subjects = gavo_regtap.search(\"select res_subject, count(*) as cnt from rr.res_subject group by res_subject order by cnt desc\").to_table()\n",
    "subjects"
   ]
  },
  {
   "cell_type": "code",
   "execution_count": 18,
   "id": "15f469d9-3a58-445a-969f-42d12ce48ea6",
   "metadata": {},
   "outputs": [],
   "source": [
    "import urllib.request, json \n",
    "with urllib.request.urlopen(\"https://raw.githubusercontent.com/astrothesaurus/UAT/master/UAT.json\") as url:\n",
    "    uat = json.load(url)"
   ]
  },
  {
   "cell_type": "code",
   "execution_count": 19,
   "id": "2278ae55-018c-495d-976c-0b5b7dcaec7f",
   "metadata": {
    "jupyter": {
     "source_hidden": true
    }
   },
   "outputs": [],
   "source": [
    "#  Generator that goes through the nested JSON and looks for a key anywhere down in it\n",
    "def item_generator(json_input, lookup_key):\n",
    "    if isinstance(json_input, dict):\n",
    "        for k, v in json_input.items():\n",
    "            if k == lookup_key:\n",
    "                yield v\n",
    "            else:\n",
    "                yield from item_generator(v, lookup_key)\n",
    "    elif isinstance(json_input, list):\n",
    "        for item in json_input:\n",
    "            yield from item_generator(item, lookup_key)"
   ]
  },
  {
   "cell_type": "code",
   "execution_count": 20,
   "id": "f632d001-1703-4751-91bc-9b7b972d82b1",
   "metadata": {
    "scrolled": true
   },
   "outputs": [
    {
     "name": "stdout",
     "output_type": "stream",
     "text": [
      "Found 4335 names in the UAT\n",
      "['astrophysical processes', 'astrophysical magnetism', 'cosmic magnetic fields theory', 'emerging flux tubes', 'magnetic fields', 'geomagnetic fields', 'magnetic anomalies', 'primordial magnetic fields', 'gravitation', 'relativity']\n"
     ]
    }
   ],
   "source": [
    "uat_name_list = [x.lower() for x in item_generator(uat,'name')]\n",
    "print(f\"Found {len(uat_name_list)} names in the UAT\")\n",
    "print(uat_name_list[0:10])"
   ]
  },
  {
   "cell_type": "code",
   "execution_count": 21,
   "id": "9ffcb3fe-dd23-44d5-9f04-90b09633f296",
   "metadata": {},
   "outputs": [
    {
     "name": "stdout",
     "output_type": "stream",
     "text": [
      "Found 1013 Registry res_subject entries that are not in the UAT and 240 that are.\n",
      "  The top 10 bad subject values by number of instances are\n",
      "visible-astronomy: 7270\n",
      "infrared-photometry: 4333\n",
      "radial-velocity: 2856\n",
      "variable-stars: 2033\n",
      "Wide-band photometry: 1937\n",
      "multiple-stars: 1869\n",
      "x-ray-sources: 1723\n",
      "open-star-clusters: 1677\n",
      "chemical-abundances: 1611\n",
      "infrared-sources: 1433\n"
     ]
    }
   ],
   "source": [
    "invalid_subjects = []\n",
    "correct_subjects = []\n",
    "for i,s in enumerate(subjects['res_subject'].data):\n",
    "    if s.lower() in uat_name_list:\n",
    "        correct_subjects.append((s,subjects['cnt'][i]))\n",
    "    else:\n",
    "        invalid_subjects.append((s,subjects['cnt'][i]))\n",
    "print(f\"Found {len(invalid_subjects)} Registry res_subject entries \\\n",
    "that are not in the UAT and {len(correct_subjects)} that are.\")\n",
    "print(f\"  The top 10 bad subject values by number of instances are\")\n",
    "x=[print(f\"{c[0]}: {c[1]}\") for c in invalid_subjects[0:10] ]"
   ]
  },
  {
   "cell_type": "code",
   "execution_count": 22,
   "id": "142c325c-64a0-43b5-b8e9-0f6bea8c3853",
   "metadata": {},
   "outputs": [
    {
     "name": "stdout",
     "output_type": "stream",
     "text": [
      "Found 17 matches to 'star' such as\n",
      "['star-planet interactions', 'starburst galaxies', 'starburst galaxies', 'starburst galaxies', 'star atlases', 'star counts', 'star counts', 'star lore', 'starspots', 'starspots']\n"
     ]
    }
   ],
   "source": [
    "import re\n",
    "result = [u for u in uat_name_list if re.search(\"^star.*\",u)]\n",
    "print(f\"Found {len(result)} matches to 'star' such as\")\n",
    "print(result[0:10])"
   ]
  },
  {
   "cell_type": "code",
   "execution_count": 23,
   "id": "aeb23237-13ed-4801-8fb1-6bff6d171022",
   "metadata": {
    "scrolled": true
   },
   "outputs": [
    {
     "name": "stdout",
     "output_type": "stream",
     "text": [
      "\n",
      "looking at publisher NASA/GSFC HEASARC\n",
      "    publisher NASA/GSFC HEASARC publishes 10 distinct values of res_subject\n",
      "    value 'Survey Source' used 654 times\n",
      "    value 'Observation' used 84 times\n",
      "    value 'Star' used 70 times\n",
      "    value 'Galaxy' used 25 times\n",
      "    value 'GRB' used 31 times\n",
      "    value 'AGN' used 22 times\n",
      "    value 'Cluster of Galaxies' used 15 times\n",
      "    value 'Optical Counterpart' used 11 times\n",
      "    value 'XRB' used 11 times\n",
      "\n",
      "looking at publisher NASA/IPAC Infrared Science Archive\n",
      "    publisher NASA/IPAC Infrared Science Archive publishes 10 distinct values of res_subject\n",
      "    value '' used 137 times\n",
      "    value 'extragalactic survey' used 101 times\n",
      "    value 'all sky survey' used 58 times\n",
      "    value 'high redshift galaxies' used 17 times\n",
      "\n",
      "looking at publisher The GAVO DC team\n",
      "    publisher The GAVO DC team publishes 10 distinct values of res_subject\n",
      "    value 'proper-motions' used 31 times\n",
      "    value 'milky-way-galaxy' used 13 times\n",
      "    value 'virtual-observatories' used 75 times\n",
      "    value 'stars' used 42 times\n",
      "    value 'software-tutorials' used 47 times\n",
      "    value 'history-of-astronomy' used 12 times\n",
      "\n",
      "looking at publisher Planetary Data System\n",
      "    publisher Planetary Data System publishes 10 distinct values of res_subject\n",
      "    value 'magnetic-fields' used 2 times\n",
      "    value 'asteroid-dynamics' used 207 times\n",
      "    value 'planetary-magnetosphere' used 2 times\n",
      "    value 'Magnetosphere' used 4 times\n",
      "    value 'Fields' used 4 times\n",
      "    value 'Magnetic' used 4 times\n",
      "    value 'planetary' used 4 times\n",
      "    value 'mercury-planet' used 2 times\n",
      "    value 'Engineering' used 2 times\n",
      "    value 'Derived' used 1 times\n",
      "\n",
      "looking at publisher WFAU, Institute for Astronomy, University of Edinburgh\n",
      "    publisher WFAU, Institute for Astronomy, University of Edinburgh publishes 10 distinct values of res_subject\n",
      "    value 'ADQL' used 8 times\n",
      "    value 'Virtual observatory' used 8 times\n",
      "    value 'Infrared, survey, galaxy, point source' used 42 times\n",
      "    value 'Stars,Survey,Galaxy' used 10 times\n",
      "    value 'Stars,Survey,Galaxy, low mass stars, dark energy' used 20 times\n",
      "    value 'Infrared, survey, galaxy, Marellanic Cloud' used 16 times\n",
      "    value 'Observational cosmology, galaxy, cluster, evolution, infrared' used 16 times\n",
      "    value 'Infrared, survey, Milky Way, bulge' used 14 times\n",
      "    value 'survey, galaxy, point source' used 14 times\n",
      "\n",
      "looking at publisher Space Telescope Science Institute Archive\n",
      "    publisher Space Telescope Science Institute Archive publishes 10 distinct values of res_subject\n",
      "    value 'Virtual Observatory' used 15 times\n",
      "    value 'ADQL' used 15 times\n",
      "    value 'Optical  Astronomy' used 8 times\n",
      "    value 'UV Astronomy' used 8 times\n",
      "\n",
      "looking at publisher SVO CAB\n",
      "    publisher SVO CAB publishes 10 distinct values of res_subject\n",
      "    value 'Stars' used 10 times\n",
      "    value 'star' used 46 times\n",
      "    value 'Galaxy: evolution' used 5 times\n",
      "    value 'Stars:evolution' used 3 times\n",
      "    value 'Sun' used 1 times\n",
      "    value 'Spitzer Taurus' used 2 times\n",
      "    value 'instrument' used 1 times\n",
      "    value 'obcp' used 1 times\n",
      "\n",
      "looking at publisher NSF NOIRLab Astro Data Lab Team\n",
      "    publisher NSF NOIRLab Astro Data Lab Team publishes 10 distinct values of res_subject\n",
      "    value 'SIA' used 192 times\n",
      "    value 'Image Search' used 192 times\n",
      "    value 'Calibrated images in Stripe82' used 6 times\n",
      "    value 'All Raw images' used 3 times\n",
      "    value 'DES Year-1 calibrated images' used 3 times\n",
      "    value 'SMASH DR1 calibrated images' used 3 times\n",
      "    value 'DECaLS DR8 images in Stripe82' used 3 times\n",
      "    value 'DES Year-4 images in Stripe82' used 3 times\n",
      "    value 'DES Year-2 images' used 3 times\n",
      "    value 'NOIRLab Source Catalog DR2 images in Stripe82' used 3 times\n",
      "\n",
      "looking at publisher Paris Astronomical Data Centre\n",
      "    publisher Paris Astronomical Data Centre publishes 10 distinct values of res_subject\n",
      "    value 'radio-astronomy' used 8 times\n",
      "    value 'virtual-observatories' used 10 times\n",
      "    value 'Authority' used 8 times\n",
      "    value 'planetary-science' used 18 times\n",
      "    value 'solar-system-astronomy' used 13 times\n",
      "    value 'planetary-magnetosphere' used 8 times\n",
      "    value 'magnetospheric-radio-emissions' used 7 times\n",
      "\n",
      "looking at publisher ASTRON\n",
      "    publisher ASTRON publishes 10 distinct values of res_subject\n",
      "    value 'ADQL' used 4 times\n",
      "    value 'Virtual observatory' used 4 times\n",
      "    value 'sky-surveys' used 4 times\n",
      "    value 'radio' used 10 times\n",
      "    value 'HI line' used 8 times\n",
      "    value 'astronomical databases ? surveys ? catalogs ? radio' used 4 times\n",
      "    value 'fast-radio-bursts' used 4 times\n",
      "    value '???' used 4 times\n",
      "    value 'radio continuum: general, techniques: image processing' used 3 times\n"
     ]
    }
   ],
   "source": [
    "query = f\"\"\"\n",
    "        select top 10 res_subject, count(*) as cnt from ( rr.res_role natural join rr.res_subject )\n",
    "        where role_name = 'xxxx'\n",
    "        group by res_subject order by cnt desc\n",
    "        \"\"\"\n",
    "validate_publishers( query, publishers, invalid_subjects, \"res_subject\")"
   ]
  },
  {
   "cell_type": "markdown",
   "id": "c17d4fd1-bb85-4667-8204-633a5ca66850",
   "metadata": {
    "jp-MarkdownHeadingCollapsed": true
   },
   "source": [
    "### Check 5:  concepts"
   ]
  },
  {
   "cell_type": "code",
   "execution_count": 24,
   "id": "64bbacde-0b31-444f-a821-dbf94157bab3",
   "metadata": {},
   "outputs": [
    {
     "name": "stdout",
     "output_type": "stream",
     "text": [
      "There are 471 distinct uat_concept values in the registry's subject_uat table\n"
     ]
    }
   ],
   "source": [
    "reg_uat_concept_list = gavo_regtap.search(\"select distinct uat_concept from rr.subject_uat\").to_table()[\"uat_concept\"].data\n",
    "print(f\"There are {len(reg_uat_concept_list)} distinct uat_concept values in the registry's subject_uat table\")"
   ]
  },
  {
   "cell_type": "code",
   "execution_count": 25,
   "id": "2d2c67af-1c33-4088-ae78-db756b569e17",
   "metadata": {
    "scrolled": true
   },
   "outputs": [
    {
     "name": "stdout",
     "output_type": "stream",
     "text": [
      "There are 47 concepts not found in the UAT such as:\n",
      "['active-galactic-nuclei ', 'astrl', 'astronomical-simulations ', 'early-type-galaxies', 'early-type-stars', 'earth-planet', 'earth-planet-', 'exoplanet-atmospheric-composition', 'gamma-ray-astronomy', 'gamma-ray-bursts']\n"
     ]
    }
   ],
   "source": [
    "bad=[]\n",
    "for c in reg_uat_concept_list:\n",
    "    # lower case and replace - with space\n",
    "    if c.lower().replace(\"-\",\" \") not in uat_name_list:\n",
    "        bad.append(c)\n",
    "print(f\"There are {len(bad)} concepts not found in the UAT such as:\")\n",
    "print(bad[0:10])"
   ]
  },
  {
   "cell_type": "code",
   "execution_count": 26,
   "id": "28dd074d-f1dc-4027-bf64-d6a9af00fcbb",
   "metadata": {},
   "outputs": [
    {
     "name": "stdout",
     "output_type": "stream",
     "text": [
      "\n",
      "looking at publisher NASA/GSFC HEASARC\n",
      "    publisher NASA/GSFC HEASARC publishes 10 distinct values of uat_concept\n",
      "\n",
      "looking at publisher NASA/IPAC Infrared Science Archive\n",
      "    publisher NASA/IPAC Infrared Science Archive publishes 10 distinct values of uat_concept\n",
      "\n",
      "looking at publisher The GAVO DC team\n",
      "    publisher The GAVO DC team publishes 10 distinct values of uat_concept\n",
      "\n",
      "looking at publisher Planetary Data System\n",
      "    publisher Planetary Data System publishes 6 distinct values of uat_concept\n",
      "\n",
      "looking at publisher WFAU, Institute for Astronomy, University of Edinburgh\n",
      "    publisher WFAU, Institute for Astronomy, University of Edinburgh publishes 7 distinct values of uat_concept\n",
      "\n",
      "looking at publisher Space Telescope Science Institute Archive\n",
      "    publisher Space Telescope Science Institute Archive publishes 10 distinct values of uat_concept\n",
      "\n",
      "looking at publisher SVO CAB\n",
      "    publisher SVO CAB publishes 8 distinct values of uat_concept\n",
      "\n",
      "looking at publisher NSF NOIRLab Astro Data Lab Team\n",
      "    publisher NSF NOIRLab Astro Data Lab Team publishes 2 distinct values of uat_concept\n",
      "\n",
      "looking at publisher Paris Astronomical Data Centre\n",
      "    publisher Paris Astronomical Data Centre publishes 10 distinct values of uat_concept\n",
      "\n",
      "looking at publisher ASTRON\n",
      "    publisher ASTRON publishes 10 distinct values of uat_concept\n"
     ]
    }
   ],
   "source": [
    "query = f\"\"\"\n",
    "        select top 10 uat_concept, count(*) as cnt from ( rr.res_role natural join rr.subject_uat )\n",
    "        where role_name = 'xxxx'\n",
    "        group by uat_concept order by cnt desc\n",
    "        \"\"\"\n",
    "validate_publishers( query, publishers, bad, \"uat_concept\")"
   ]
  },
  {
   "cell_type": "code",
   "execution_count": null,
   "id": "e157484e-6504-41ea-881e-1c3f5827d7df",
   "metadata": {},
   "outputs": [],
   "source": []
  },
  {
   "cell_type": "code",
   "execution_count": null,
   "id": "5d0f0b7a-a5ac-49d4-b138-36d0c4387a23",
   "metadata": {},
   "outputs": [],
   "source": []
  },
  {
   "cell_type": "markdown",
   "id": "48180652-6476-4102-9a71-7d30dc9f2d1d",
   "metadata": {},
   "source": [
    "## To be expanded.  Now what to do with this?  \n",
    "\n",
    "* Report cross-checks between registries to their admins.  \n",
    "* Compile a report of issues as above and advertise at IVOA Interop's Registry (or Ops?) session.  \n",
    "* Compile a report of issues found for each publisher and email them yearly to request updates.  \n"
   ]
  },
  {
   "cell_type": "code",
   "execution_count": null,
   "id": "2880c300-afd3-435d-9b19-38facba07c6a",
   "metadata": {},
   "outputs": [],
   "source": []
  },
  {
   "cell_type": "code",
   "execution_count": null,
   "id": "d0b8a44a-6bf5-4cd8-857e-28c9c709a4c0",
   "metadata": {},
   "outputs": [],
   "source": []
  },
  {
   "cell_type": "markdown",
   "id": "9be35010-472d-4a0b-92c5-96edd9d19973",
   "metadata": {},
   "source": [
    "## Scratch "
   ]
  },
  {
   "cell_type": "code",
   "execution_count": null,
   "id": "e3f56d18-c47f-482e-b09c-9a4f5f44dffb",
   "metadata": {},
   "outputs": [],
   "source": []
  },
  {
   "cell_type": "code",
   "execution_count": null,
   "id": "aa07409d-e608-4ab3-a693-ea9f74dec836",
   "metadata": {},
   "outputs": [],
   "source": []
  },
  {
   "cell_type": "code",
   "execution_count": null,
   "id": "5686fe15-9fcd-47f7-8ae9-36d251746051",
   "metadata": {},
   "outputs": [],
   "source": []
  },
  {
   "cell_type": "code",
   "execution_count": null,
   "id": "456859f5-6839-46ce-a209-6d2f0e11a0c9",
   "metadata": {},
   "outputs": [],
   "source": []
  },
  {
   "cell_type": "code",
   "execution_count": null,
   "id": "469a8d33-4f7c-4f8f-a5c6-8b61aad7943b",
   "metadata": {},
   "outputs": [],
   "source": []
  },
  {
   "cell_type": "code",
   "execution_count": null,
   "id": "7c381cca-8f7f-42db-b0e2-9699fbb27873",
   "metadata": {},
   "outputs": [],
   "source": []
  },
  {
   "cell_type": "code",
   "execution_count": null,
   "id": "48925409-43f0-47bf-8f01-62cd6bc8ab70",
   "metadata": {},
   "outputs": [],
   "source": []
  }
 ],
 "metadata": {
  "kernelspec": {
   "display_name": "Python (navo-env)",
   "language": "python",
   "name": "navo-env"
  },
  "language_info": {
   "codemirror_mode": {
    "name": "ipython",
    "version": 3
   },
   "file_extension": ".py",
   "mimetype": "text/x-python",
   "name": "python",
   "nbconvert_exporter": "python",
   "pygments_lexer": "ipython3",
   "version": "3.11.12"
  }
 },
 "nbformat": 4,
 "nbformat_minor": 5
}
