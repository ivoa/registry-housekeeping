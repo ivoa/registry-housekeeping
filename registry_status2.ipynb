{
 "cells": [
  {
   "cell_type": "code",
   "execution_count": 131,
   "id": "51bb638b-d529-416c-99b3-104e4f914a92",
   "metadata": {},
   "outputs": [],
   "source": [
    "import os\n",
    "#os.environ['IVOA_REGISTRY']=\"http://vao.stsci.edu/RegTAP/TapService.aspx\"\n",
    "\n",
    "import pyvo as vo\n",
    "import warnings\n",
    "# There are a number of relatively unimportant warnings that show up, so for now, suppress them:\n",
    "warnings.filterwarnings(\"ignore\", module=\"astropy.nddata.blocks.*\")\n",
    "warnings.filterwarnings(\"ignore\", module=\"pyvo.utils.xml.*\")\n",
    "warnings.filterwarnings(\"ignore\", module=\"urllib3.connectionpool.*\")\n",
    "import re\n",
    "from astropy.table import Table\n",
    "from astropy.io import fits\n",
    "import astropy.coordinates as coord\n",
    "coords = coord.SkyCoord.from_name(\"m51\")\n",
    "\n",
    "import requests\n",
    "session=requests.Session()\n",
    "session.verify=False\n",
    "\n",
    "#  Set these debuglevels to 1 to see traffic details\n",
    "import logging\n",
    "log = logging.getLogger('urllib3')\n",
    "from http.client import HTTPConnection\n",
    "HTTPConnection.debuglevel = 0\n",
    "from http.client import HTTPSConnection\n",
    "HTTPSConnection.debuglevel = 0\n",
    "\n",
    "import sys\n",
    "sys.tracebacklimit = 0\n",
    "#T Dower said:  \" ForRegTAP, the preferred URL is now \n",
    "#  https://mast.stsci.edu/vo-tap/api/v0.1/registry. \n",
    "#  OAI-PMH is still on the old system.\"\n",
    "navo_new_regtap = vo.dal.TAPService('https://mast.stsci.edu/vo-tap/api/v0.1/registry')\n",
    "navo_old_regtap = vo.dal.TAPService('https://vao.stsci.edu/RegTAP/TapService.aspx')\n",
    "gavo_regtap = vo.dal.TAPService('https://dc.zah.uni-heidelberg.de/__system__/tap/run')\n",
    "euvo_regtap = vo.dal.TAPService('https://registry.euro-vo.org/regtap/tap')\n",
    "\n",
    "from pyvo import registry\n",
    "from astropy.coordinates import SkyCoord\n",
    "from astropy import units as u"
   ]
  },
  {
   "cell_type": "code",
   "execution_count": null,
   "id": "a8de9dcf-df58-4ffb-86e0-36a301d033cb",
   "metadata": {},
   "outputs": [],
   "source": []
  },
  {
   "cell_type": "markdown",
   "id": "b107f136-ab53-46ef-8edf-654606034532",
   "metadata": {},
   "source": [
    "## Messing around with SIAv2 "
   ]
  },
  {
   "cell_type": "markdown",
   "id": "10698ac8-b3a1-4859-85b1-d8251a02d0fb",
   "metadata": {},
   "source": [
    "\n",
    "Ours has a URL that ends '/sia?table=foobar&'.  And that breaks in the SIA2Service, which grabs its capabilities and then changes the URL to match, which is just /sia, so it fails.  \n",
    "\n",
    "### GAVO's:  "
   ]
  },
  {
   "cell_type": "code",
   "execution_count": 40,
   "id": "3f79c823-8197-4593-ad28-accd500ed9e0",
   "metadata": {},
   "outputs": [
    {
     "name": "stdout",
     "output_type": "stream",
     "text": [
      "GAVO Data Center SIAP Version 2 Service\n"
     ]
    }
   ],
   "source": [
    "for r in vo.regsearch(keywords=['gavo','siap version 2']):\n",
    "    if 'gavo' in r.ivoid:  \n",
    "        print(r.res_title)\n",
    "        gavosia=r"
   ]
  },
  {
   "cell_type": "code",
   "execution_count": 48,
   "id": "99d00aec-277a-42af-b732-a92ab534ba9b",
   "metadata": {},
   "outputs": [
    {
     "data": {
      "text/plain": [
       "[Interface(type='sia2', description='', url='http://dc.g-vo.org/__system__/siap2/sitewide/siap2.xml?'),\n",
       " Interface(type='vosi#availability', description='', url='http://dc.g-vo.org/__system__/siap2/sitewide/availability'),\n",
       " Interface(type='vosi#capabilities', description='', url='http://dc.g-vo.org/__system__/siap2/sitewide/capabilities'),\n",
       " Interface(type='vosi#tables', description='', url='http://dc.g-vo.org/__system__/siap2/sitewide/tableMetadata'),\n",
       " Interface(type='tap#aux', description='', url='http://dc.g-vo.org/tap'),\n",
       " Interface(type='datalink#links-1.1', description='', url='http://dc.g-vo.org/__system__/obscore/dl/dlmeta')]"
      ]
     },
     "execution_count": 48,
     "metadata": {},
     "output_type": "execute_result"
    }
   ],
   "source": [
    "gavosia.interfaces"
   ]
  },
  {
   "cell_type": "code",
   "execution_count": 44,
   "id": "eea66836-6efa-4fc1-b76c-8fea89766efd",
   "metadata": {
    "scrolled": true
   },
   "outputs": [
    {
     "data": {
      "text/plain": [
       "SIA2Service(baseurl : 'http://dc.g-vo.org/__system__/siap2/sitewide/siap2.xml?', description : '')"
      ]
     },
     "execution_count": 44,
     "metadata": {},
     "output_type": "execute_result"
    }
   ],
   "source": [
    "gavosia.service"
   ]
  },
  {
   "cell_type": "markdown",
   "id": "627ff5e0-e22a-46b2-a43c-04a77885002f",
   "metadata": {},
   "source": [
    "This shows that GAVO uses the ObsCore data model (well, that's what SIAv2 is) but the access_urls are to the specific product."
   ]
  },
  {
   "cell_type": "code",
   "execution_count": 55,
   "id": "87bbb40f-d19b-4a2b-b33f-83ac18235cfc",
   "metadata": {
    "scrolled": true
   },
   "outputs": [
    {
     "data": {
      "text/html": [
       "&lt;MaskedColumn name=&apos;access_url&apos; dtype=&apos;object&apos; description=&apos;The URL at which to obtain the data set.&apos; length=720&gt;\n",
       "<table>\n",
       "<tr><td>https://www.plate-archive.org/files/DR3/scans/HAM-GR/GRTr063_y.fits</td></tr>\n",
       "<tr><td>https://www.plate-archive.org/files/DR3/scans/HAM-GR/GRTr049_y.fits</td></tr>\n",
       "<tr><td>https://www.plate-archive.org/files/DR3/scans/HAM-GR/GRTr037_y.fits</td></tr>\n",
       "<tr><td>https://www.plate-archive.org/files/DR3/scans/HAM-GR/GRTr126_y.fits</td></tr>\n",
       "<tr><td>https://www.plate-archive.org/files/DR3/scans/Tartu/plaat1682.fits</td></tr>\n",
       "<tr><td>https://www.plate-archive.org/files/DR3/scans/HAM-LA/LA02437_y.fits</td></tr>\n",
       "<tr><td>https://www.plate-archive.org/files/DR3/scans/Tartu/plaat1580.fits</td></tr>\n",
       "<tr><td>https://www.plate-archive.org/files/DR3/scans/HAM-GR/GRk0359a_y.fits</td></tr>\n",
       "<tr><td>https://www.plate-archive.org/files/DR3/scans/Tartu/plaat1604.fits</td></tr>\n",
       "<tr><td>https://www.plate-archive.org/files/DR3/scans/HAM-LA/LA05110_y.fits</td></tr>\n",
       "<tr><td>https://www.plate-archive.org/files/DR3/scans/HAM-LA/LA05141_y.fits</td></tr>\n",
       "<tr><td>https://www.plate-archive.org/files/DR3/scans/HAM-LA/LA05128_y.fits</td></tr>\n",
       "<tr><td>...</td></tr>\n",
       "<tr><td>http://dc.g-vo.org/getproduct/rosat/image_data/rda_2/wg800364h_n1_p1_r2_f2_p1/rh800364n00_bk1.fits.gz</td></tr>\n",
       "<tr><td>http://dc.g-vo.org/getproduct/rosat/image_data/rda_1/us800426h_n1_p1_r2_f2_p2/rh800426n00_im1.fits.gz</td></tr>\n",
       "<tr><td>http://dc.g-vo.org/getproduct/rosat/image_data/rda_1/us800426h_n1_p1_r2_f2_p2/rh800426n00_bk1.fits.gz</td></tr>\n",
       "<tr><td>http://dc.g-vo.org/getproduct/rosat/image_data/rda_2/wg800364h_n1_p1_r2_f2_p1/rh800364n00_im1.fits.gz</td></tr>\n",
       "<tr><td>http://dc.g-vo.org/getproduct/rosat/image_data/rda_8/wg931007p_n1_si01_n1_p1_r2_f2_p1/rs931007n00_bk1.fits.gz</td></tr>\n",
       "<tr><td>http://dc.g-vo.org/getproduct/rosat/image_data/rda_8/wg931007p_n1_si01_n1_p1_r2_f2_p1/rs931007n00_im1.fits.gz</td></tr>\n",
       "<tr><td>http://dc.g-vo.org/getproduct/rosat/image_data/rda_8/wg931007p_n1_si01_n1_p1_r2_f2_p1/rs931007n00_ime.fits.gz</td></tr>\n",
       "<tr><td>http://dc.g-vo.org/getproduct/rosat/image_data/rda_8/wg931007p_n1_si01_n1_p1_r2_f2_p1/rs931007n00_bk3.fits.gz</td></tr>\n",
       "<tr><td>http://dc.g-vo.org/getproduct/rosat/image_data/rda_8/wg931007p_n1_si01_n1_p1_r2_f2_p1/rs931007n00_im2.fits.gz</td></tr>\n",
       "<tr><td>http://dc.g-vo.org/getproduct/rosat/image_data/rda_8/wg931007p_n1_si01_n1_p1_r2_f2_p1/rs931007n00_im3.fits.gz</td></tr>\n",
       "<tr><td>http://dc.g-vo.org/getproduct/rosat/image_data/rda_8/wg931007p_n1_si01_n1_p1_r2_f2_p1/rs931007n00_bk2.fits.gz</td></tr>\n",
       "</table>"
      ],
      "text/plain": [
       "<MaskedColumn name='access_url' dtype='object' description='The URL at which to obtain the data set.' length=720>\n",
       "                                          https://www.plate-archive.org/files/DR3/scans/HAM-GR/GRTr063_y.fits\n",
       "                                          https://www.plate-archive.org/files/DR3/scans/HAM-GR/GRTr049_y.fits\n",
       "                                          https://www.plate-archive.org/files/DR3/scans/HAM-GR/GRTr037_y.fits\n",
       "                                          https://www.plate-archive.org/files/DR3/scans/HAM-GR/GRTr126_y.fits\n",
       "                                           https://www.plate-archive.org/files/DR3/scans/Tartu/plaat1682.fits\n",
       "                                          https://www.plate-archive.org/files/DR3/scans/HAM-LA/LA02437_y.fits\n",
       "                                           https://www.plate-archive.org/files/DR3/scans/Tartu/plaat1580.fits\n",
       "                                         https://www.plate-archive.org/files/DR3/scans/HAM-GR/GRk0359a_y.fits\n",
       "                                           https://www.plate-archive.org/files/DR3/scans/Tartu/plaat1604.fits\n",
       "                                          https://www.plate-archive.org/files/DR3/scans/HAM-LA/LA05110_y.fits\n",
       "                                          https://www.plate-archive.org/files/DR3/scans/HAM-LA/LA05141_y.fits\n",
       "                                          https://www.plate-archive.org/files/DR3/scans/HAM-LA/LA05128_y.fits\n",
       "                                                                                                          ...\n",
       "        http://dc.g-vo.org/getproduct/rosat/image_data/rda_2/wg800364h_n1_p1_r2_f2_p1/rh800364n00_bk1.fits.gz\n",
       "        http://dc.g-vo.org/getproduct/rosat/image_data/rda_1/us800426h_n1_p1_r2_f2_p2/rh800426n00_im1.fits.gz\n",
       "        http://dc.g-vo.org/getproduct/rosat/image_data/rda_1/us800426h_n1_p1_r2_f2_p2/rh800426n00_bk1.fits.gz\n",
       "        http://dc.g-vo.org/getproduct/rosat/image_data/rda_2/wg800364h_n1_p1_r2_f2_p1/rh800364n00_im1.fits.gz\n",
       "http://dc.g-vo.org/getproduct/rosat/image_data/rda_8/wg931007p_n1_si01_n1_p1_r2_f2_p1/rs931007n00_bk1.fits.gz\n",
       "http://dc.g-vo.org/getproduct/rosat/image_data/rda_8/wg931007p_n1_si01_n1_p1_r2_f2_p1/rs931007n00_im1.fits.gz\n",
       "http://dc.g-vo.org/getproduct/rosat/image_data/rda_8/wg931007p_n1_si01_n1_p1_r2_f2_p1/rs931007n00_ime.fits.gz\n",
       "http://dc.g-vo.org/getproduct/rosat/image_data/rda_8/wg931007p_n1_si01_n1_p1_r2_f2_p1/rs931007n00_bk3.fits.gz\n",
       "http://dc.g-vo.org/getproduct/rosat/image_data/rda_8/wg931007p_n1_si01_n1_p1_r2_f2_p1/rs931007n00_im2.fits.gz\n",
       "http://dc.g-vo.org/getproduct/rosat/image_data/rda_8/wg931007p_n1_si01_n1_p1_r2_f2_p1/rs931007n00_im3.fits.gz\n",
       "http://dc.g-vo.org/getproduct/rosat/image_data/rda_8/wg931007p_n1_si01_n1_p1_r2_f2_p1/rs931007n00_bk2.fits.gz"
      ]
     },
     "execution_count": 55,
     "metadata": {},
     "output_type": "execute_result"
    }
   ],
   "source": [
    "results.to_table()['access_url']"
   ]
  },
  {
   "cell_type": "code",
   "execution_count": null,
   "id": "1a9dddcd-d831-4fb9-a394-e9894aa73ab9",
   "metadata": {},
   "outputs": [],
   "source": []
  },
  {
   "cell_type": "markdown",
   "id": "22bbc804-d2ba-4302-ba2d-9c9d16f6370d",
   "metadata": {},
   "source": [
    "### CDS's"
   ]
  },
  {
   "cell_type": "code",
   "execution_count": 13,
   "id": "6e77ca3e-c46b-4fd3-a0e9-9414826429a8",
   "metadata": {},
   "outputs": [
    {
     "data": {
      "text/plain": [
       "SCSService(baseurl : 'https://vizier.cds.unistra.fr/viz-bin/conesearch/V/155/gdr2ap?', description : 'Cone search capability for table V/155/gdr2ap (records of GDR2AP)')"
      ]
     },
     "execution_count": 13,
     "metadata": {},
     "output_type": "execute_result"
    }
   ],
   "source": [
    "cdscone = cdsr.get_service(service_type=\"conesearch\")\n",
    "cdscone"
   ]
  },
  {
   "cell_type": "code",
   "execution_count": 18,
   "id": "8fa7a32d-1845-4890-8dce-23883745d273",
   "metadata": {},
   "outputs": [
    {
     "data": {
      "text/plain": [
       "'Cone search capability for table V/155/gdr2ap (records of GDR2AP)'"
      ]
     },
     "execution_count": 18,
     "metadata": {},
     "output_type": "execute_result"
    }
   ],
   "source": [
    "cdscone.capability_description"
   ]
  },
  {
   "cell_type": "code",
   "execution_count": 20,
   "id": "37a8300e-459b-4846-a678-7dfb97786b49",
   "metadata": {},
   "outputs": [
    {
     "data": {
      "text/plain": [
       "'https://vizier.cds.unistra.fr/viz-bin/conesearch/V/155/gdr2ap?'"
      ]
     },
     "execution_count": 20,
     "metadata": {},
     "output_type": "execute_result"
    }
   ],
   "source": [
    "cdscone.baseurl"
   ]
  },
  {
   "cell_type": "code",
   "execution_count": 59,
   "id": "05b2472c-6739-4478-9594-237ebe613698",
   "metadata": {},
   "outputs": [
    {
     "name": "stdout",
     "output_type": "stream",
     "text": [
      "ivo://cds.vizier/siap\n"
     ]
    }
   ],
   "source": [
    "for r in vo.regsearch(servicetype='image'):\n",
    "    if 'cds' in r.ivoid:\n",
    "        print(r.ivoid)\n",
    "        cdsr=r\n",
    "        cdsi=r.get_service(service_type='image')"
   ]
  },
  {
   "cell_type": "code",
   "execution_count": 34,
   "id": "fd240485-a45c-4a58-a6f6-f93e5fdd2dcd",
   "metadata": {},
   "outputs": [
    {
     "data": {
      "text/plain": [
       "SIAService(baseurl : 'https://cdsarc.cds.unistra.fr/saadavizier/siaservice?collection=[vizier]&', description : 'None')"
      ]
     },
     "execution_count": 34,
     "metadata": {},
     "output_type": "execute_result"
    }
   ],
   "source": [
    "cdsi.capability_description"
   ]
  },
  {
   "cell_type": "code",
   "execution_count": 60,
   "id": "3b4a8f7d-8507-421a-a123-a6f5d7c106e5",
   "metadata": {
    "scrolled": true
   },
   "outputs": [
    {
     "data": {
      "text/plain": [
       "[Interface(type='sia', description=None, url='https://cdsarc.cds.unistra.fr/saadavizier/siaservice?collection=[vizier]&')]"
      ]
     },
     "execution_count": 60,
     "metadata": {},
     "output_type": "execute_result"
    }
   ],
   "source": [
    "cdsr.interfaces"
   ]
  },
  {
   "cell_type": "markdown",
   "id": "2664ecb8-ebf4-4d8d-8cf0-f18e05fa80c7",
   "metadata": {},
   "source": [
    "So this is NOT SIA2.  Doesn't help me."
   ]
  },
  {
   "cell_type": "code",
   "execution_count": null,
   "id": "064dabb6-ff1a-4103-b881-e7ef7ebbf0e0",
   "metadata": {},
   "outputs": [],
   "source": []
  },
  {
   "cell_type": "code",
   "execution_count": null,
   "id": "44cada88-5cff-4f59-a25b-84a4991992f8",
   "metadata": {},
   "outputs": [],
   "source": []
  },
  {
   "cell_type": "code",
   "execution_count": null,
   "id": "e7a3114b-742c-47ad-a090-3d9ab80b57dc",
   "metadata": {},
   "outputs": [],
   "source": []
  },
  {
   "cell_type": "markdown",
   "id": "d6fec61b-1468-436f-9b96-0f74272e902d",
   "metadata": {},
   "source": [
    "# Registry Spring Cleaning notebook\n",
    "\n",
    "Following up on Markus' [Confessions of a Registry Janitor](https://blog.g-vo.org/registry-a-janitor-speaks-out.html), I propose some regular checks of the metadata.  We already have checks of the validity of services, for instance, in the Operations group weather reports.  This would be compolementary."
   ]
  },
  {
   "cell_type": "markdown",
   "id": "9551317a-581d-44ef-9932-ad6ebd64bddd",
   "metadata": {
    "jp-MarkdownHeadingCollapsed": true
   },
   "source": [
    "## Check 1:  spot check numbers between different registries\n",
    "\n",
    "What's the best way to get the current registries?  Testing one of them seems circular.  But the [RofR](https://rofr.ivoa.net) is still pointing to the old NAVO RegTAP.  OTOH, there's a bug in the new one.  "
   ]
  },
  {
   "cell_type": "code",
   "execution_count": 3,
   "id": "59561216-a04a-45c2-85a0-f055910d369b",
   "metadata": {
    "scrolled": true
   },
   "outputs": [
    {
     "name": "stdout",
     "output_type": "stream",
     "text": [
      "            ivoid              ...\n",
      "------------------------------ ...\n",
      "        ivo://aip.gavo.org/tap ...\n",
      "ivo://archive.stsci.edu/regtap ...\n",
      "      ivo://esavo/registry/tap ...\n",
      "         ivo://org.gavo.dc/tap ...\n",
      "                ivo://purx/tap ...\n"
     ]
    }
   ],
   "source": [
    "result = registry.search(datamodel=\"regtap\").to_table()\n",
    "print(result['ivoid','access_urls'])"
   ]
  },
  {
   "cell_type": "code",
   "execution_count": 4,
   "id": "1bfaa767-48d0-4db9-a333-eb4f342b5258",
   "metadata": {},
   "outputs": [],
   "source": [
    "def compare( query ):\n",
    "    # Currently \n",
    "    #navo_regtap = vo.dal.TAPService('https://vao.stsci.edu/RegTAP/TapService.aspx')\n",
    "    #navo_new_regtap = vo.dal.TAPService('https://mast.stsci.edu/vo-tap/api/v0.1/registry')\n",
    "    navo_regtap = vo.dal.TAPService('https://mast.stsci.edu/vo-tap/api/v0.1/registry')\n",
    "    gavo_regtap = vo.dal.TAPService('https://dc.zah.uni-heidelberg.de/__system__/tap/run')\n",
    "    euvo_regtap = vo.dal.TAPService('https://registry.euro-vo.org/regtap/tap')\n",
    "\n",
    "    for name,regtap in [('NAVO',navo_regtap),('GAVO',gavo_regtap),(\"EUVO\",euvo_regtap)]:\n",
    "        try:\n",
    "            sias = regtap.search(query)\n",
    "            print(f\"{name} RegTAP finds {len(sias)}\")\n",
    "            strings=sias.to_table()['ivoid'] + ' \"'+ sias.to_table()['cap_description']+'\"'\n",
    "        except Exception as e:\n",
    "            print(f\"{name} RegTAP gives error: {e}\")       \n"
   ]
  },
  {
   "cell_type": "markdown",
   "id": "7635b543-3eec-4cd5-bf1d-de00906d45b4",
   "metadata": {},
   "source": [
    "So hardcode them for now"
   ]
  },
  {
   "cell_type": "code",
   "execution_count": 5,
   "id": "6f02a728-cf8b-4106-8a37-c7742a2301a8",
   "metadata": {},
   "outputs": [
    {
     "name": "stdout",
     "output_type": "stream",
     "text": [
      "NAVO RegTAP finds 477\n",
      "GAVO RegTAP finds 477\n",
      "EUVO RegTAP finds 474\n"
     ]
    }
   ],
   "source": [
    "#  This syntax isn't processed correctly by NAVO's.  Use Markus' preferred.  \n",
    "#compare(\"select count(*) as cnt from rr.capability where standard_id like '%sia%'\")\n",
    "compare(\"select * from rr.capability where standard_id like 'ivo://ivoa.net/std/sia%'\")"
   ]
  },
  {
   "cell_type": "code",
   "execution_count": 6,
   "id": "739467c7-c156-45be-bdb6-1bb91e62f1d0",
   "metadata": {},
   "outputs": [
    {
     "name": "stdout",
     "output_type": "stream",
     "text": [
      "NAVO RegTAP finds 26\n",
      "GAVO RegTAP finds 576\n",
      "EUVO RegTAP finds 575\n"
     ]
    }
   ],
   "source": [
    "compare(\"select * from rr.capability where standard_id like '%hips%'\")"
   ]
  },
  {
   "cell_type": "code",
   "execution_count": 7,
   "id": "2b731364-b586-4184-b85f-2d8c1b1cdd53",
   "metadata": {},
   "outputs": [
    {
     "name": "stdout",
     "output_type": "stream",
     "text": [
      "NAVO RegTAP finds 1987\n",
      "GAVO RegTAP finds 1957\n",
      "EUVO RegTAP finds 1990\n"
     ]
    }
   ],
   "source": [
    "compare(\"select * from rr.capability where standard_id like '%cone%' and ivoid not like '%vizier%'\")"
   ]
  },
  {
   "cell_type": "code",
   "execution_count": 8,
   "id": "a8965000-a7b5-44da-bd14-f2f78381bf63",
   "metadata": {},
   "outputs": [
    {
     "name": "stdout",
     "output_type": "stream",
     "text": [
      "NAVO RegTAP finds 24426\n"
     ]
    },
    {
     "name": "stderr",
     "output_type": "stream",
     "text": [
      "/Users/tjaffe/miniforge3/envs/navo-env/lib/python3.11/site-packages/pyvo/dal/query.py:341: DALOverflowWarning: Partial result set. Potential causes MAXREC, async storage space, etc.\n",
      "  warn(\"Partial result set. Potential causes MAXREC, async storage space, etc.\",\n"
     ]
    },
    {
     "name": "stdout",
     "output_type": "stream",
     "text": [
      "GAVO RegTAP finds 20000\n",
      "EUVO RegTAP finds 29909\n"
     ]
    }
   ],
   "source": [
    "compare(\"select * from rr.capability where standard_id like '%cone%'  and ivoid like '%vizier%'\")"
   ]
  },
  {
   "cell_type": "markdown",
   "id": "223ddb80-14e8-4d5b-aebe-43ab79ed3d9d",
   "metadata": {},
   "source": [
    "### Check 1.1 look at the differences"
   ]
  },
  {
   "cell_type": "code",
   "execution_count": 9,
   "id": "3a538fc6-8ed8-47be-a6c3-98b6416bd0d6",
   "metadata": {},
   "outputs": [],
   "source": [
    "query = \"select * from rr.capability where standard_id like 'ivo://ivoa.net/std/sia%'\"\n",
    "def diffs(A, B, C, query):\n",
    "    #  A is a tuple of ('name',service)\n",
    "    resultsA = A[1].search(query).to_table()\n",
    "    resultsB = B[1].search(query).to_table()\n",
    "    resultsC = C[1].search(query).to_table()\n",
    "\n",
    "    idsA=[r['ivoid']+'---'+r['cap_description'] for r in resultsA ]\n",
    "    idsB=[r['ivoid']+'---'+r['cap_description'] for r in resultsB ]\n",
    "    idsC=[r['ivoid']+'---'+r['cap_description'] for r in resultsC ]\n",
    "\n",
    "    diffs1 = list( set(idsA) - set(idsB) )\n",
    "    print(f\"Found {len(diffs1)} in {A[0]} not in {B[0]}\")\n",
    "    diffs2 = list( set(idsA) - set(idsC) )\n",
    "    print(f\"Found {len(diffs2)} in {A[0]} not in {C[0]}\")\n",
    "    diffs3 = list( set(idsB) - set(idsC) )\n",
    "    print(f\"Found {len(diffs3)} in {B[0]} not in {C[0]}\")\n",
    "\n",
    "    diffs4 = list( set(idsB) - set(idsA) )\n",
    "    print(f\"Found {len(diffs4)} in {B[0]} not in {A[0]}\")\n",
    "    diffs5 = list( set(idsC) - set(idsA) )\n",
    "    print(f\"Found {len(diffs5)} in {C[0]} not in {A[0]}\")\n",
    "    diffs6 = list( set(idsC) - set(idsB) )\n",
    "    print(f\"Found {len(diffs6)} in {C[0]} not in {B[0]}\")\n",
    "\n",
    "    return [diffs1,diffs2,diffs3,diffs4,diffs5,diffs6]\n"
   ]
  },
  {
   "cell_type": "code",
   "execution_count": 10,
   "id": "4779595a-f59d-4468-b9b5-63c2186b6885",
   "metadata": {},
   "outputs": [
    {
     "name": "stdout",
     "output_type": "stream",
     "text": [
      "Found 7 in NAVO not in GAVO\n",
      "Found 12 in NAVO not in EUVO\n",
      "Found 7 in GAVO not in EUVO\n",
      "Found 7 in GAVO not in NAVO\n",
      "Found 9 in EUVO not in NAVO\n",
      "Found 4 in EUVO not in GAVO\n"
     ]
    }
   ],
   "source": [
    "difflists = diffs( ('NAVO',navo_old_regtap), ('GAVO',gavo_regtap), ('EUVO',euvo_regtap), \n",
    "      \"select * from rr.capability where standard_id like 'ivo://ivoa.net/std/sia%'\" )"
   ]
  },
  {
   "cell_type": "code",
   "execution_count": 11,
   "id": "9a9a5e4f-d815-4779-8798-1b2e5f443846",
   "metadata": {
    "scrolled": true
   },
   "outputs": [
    {
     "name": "stdout",
     "output_type": "stream",
     "text": [
      "Services in GAVO not in EUVO\n",
      "ivo://jvo/isas/darts/bsgc---SIA interface for this resource\n",
      "ivo://jvo/isas/darts/halca/halca_vsop_survey_program_data---SIAv2 service for HALCA AGN survey\n",
      "ivo://vopdc.obspm/gepi/vopsat---\n",
      "ivo://vopdc.obspm/gepi/vopsat/esor---\n",
      "ivo://jvo/subaru/sxds/v1.0---\n",
      "ivo://vopdc.obspm/gepi/vopsat/srcj---\n",
      "ivo://jvo/nobeyama---NRO Legacy project : FUGIN, COMING, Star-Formation\n",
      "Services in EUVO not in GAVO\n",
      "ivo://uk.ac.cam.ast/int-wfs/images/siap-atlas---\n",
      "ivo://jacobsuni/__system__/siap2/sitewide---\n",
      "ivo://irsa.ipac/herschel/images/z0mgs_dust---\n",
      "ivo://uk.ac.cam.ast/iphas/images/siap---\n"
     ]
    }
   ],
   "source": [
    "print(\"Services in GAVO not in EUVO\")\n",
    "print(\"\\n\".join(difflists[2]))\n",
    "print(\"Services in EUVO not in GAVO\")\n",
    "print(\"\\n\".join(difflists[5]))"
   ]
  },
  {
   "cell_type": "markdown",
   "id": "a69e1109-f3c1-4272-b0ed-19be0ad2d251",
   "metadata": {},
   "source": [
    "The hard part is then looking at those and understanding why.  What other information would we want to look at?"
   ]
  },
  {
   "cell_type": "markdown",
   "id": "03188b37-e4e2-494e-b7a4-90c2d7eb2271",
   "metadata": {},
   "source": [
    "## Check 2:  UCDs "
   ]
  },
  {
   "cell_type": "markdown",
   "id": "7e5b4f02-894b-4850-93d3-b9dc20254252",
   "metadata": {},
   "source": [
    "- Check 2a:  are the UCDs valid according to astropy.io.votable.ucd.check_ucd"
   ]
  },
  {
   "cell_type": "code",
   "execution_count": 278,
   "id": "34ba1cf7-8519-41e3-9a97-488b09222e5b",
   "metadata": {
    "scrolled": true
   },
   "outputs": [
    {
     "name": "stdout",
     "output_type": "stream",
     "text": [
      "Found 79 invalid UCDs\n",
      "  The top 10 bad UCD values by number of instances are\n",
      "                         : 256616\n",
      "??                       : 30342\n",
      "vox:image_filesize       : 138\n",
      "????                     : 70\n",
      "vox:image_mjdateobs      : 59\n",
      "image?                   : 49\n",
      "vox:bandpass_id          : 47\n",
      "vox:bandpass_hilimit     : 39\n",
      "vox:bandpass_lolimit     : 39\n",
      "vox:bandpass_refvalue    : 39\n"
     ]
    }
   ],
   "source": [
    "from astropy.io.votable.ucd import check_ucd\n",
    "query=\"\"\"\n",
    "  select distinct ucd, count(*) as cnt\n",
    "  from rr.table_column \n",
    "  group by ucd \n",
    "  order by cnt desc\n",
    "  \"\"\"\n",
    "result = gavo_regtap.search(query)\n",
    "\n",
    "all_ucds = result.to_table()\n",
    "invalid_ucds = []\n",
    "for i,u in enumerate(all_ucds['ucd'].data):\n",
    "    if not check_ucd(u):\n",
    "        invalid_ucds.append((u,all_ucds['cnt'][i]))\n",
    "print(f\"Found {len(invalid_ucds)} invalid UCDs\")\n",
    "print(f\"  The top 10 bad UCD values by number of instances are\")\n",
    "x=[print(f\"{c[0]:25}: {c[1]}\") for c in invalid_ucds[0:10] ]"
   ]
  },
  {
   "cell_type": "code",
   "execution_count": 295,
   "id": "a52ef20c-d398-4cf9-bafa-635301c1675f",
   "metadata": {},
   "outputs": [
    {
     "name": "stdout",
     "output_type": "stream",
     "text": [
      "found meta.id:meta.main\n",
      "found meta.id,meta.main\n",
      "found meta.id;\n",
      "found meta.id;meta.main;\n"
     ]
    }
   ],
   "source": [
    "for u in invalid_ucds:\n",
    "    if 'meta.id' in u[0]:\n",
    "        print(f\"found {u[0]}\")"
   ]
  },
  {
   "cell_type": "code",
   "execution_count": 294,
   "id": "1a494043-9031-4b65-8224-929c4c5a9544",
   "metadata": {},
   "outputs": [
    {
     "data": {
      "text/plain": [
       "tuple"
      ]
     },
     "execution_count": 294,
     "metadata": {},
     "output_type": "execute_result"
    }
   ],
   "source": [
    "type(u)"
   ]
  },
  {
   "cell_type": "code",
   "execution_count": 269,
   "id": "f662c0df-e1c3-4f06-851b-a27051dec2ce",
   "metadata": {
    "scrolled": true
   },
   "outputs": [
    {
     "name": "stdout",
     "output_type": "stream",
     "text": [
      "Found 932 that are not valid under UCD1+ controlled vocabulary\n",
      "  The top 10 bad UCD values by number of instances are\n",
      "                         : 256616\n",
      "??                       : 30342\n",
      "error                    : 13825\n",
      "code_misc                : 8538\n",
      "phot_mag                 : 6291\n",
      "fit_param                : 4505\n",
      "obs.field                : 4331\n",
      "number                   : 3090\n",
      "id_number                : 2694\n",
      "phot_intensity_adu       : 2512\n"
     ]
    },
    {
     "data": {
      "text/plain": [
       "[None, None, None, None, None, None, None, None, None, None]"
      ]
     },
     "execution_count": 269,
     "metadata": {},
     "output_type": "execute_result"
    }
   ],
   "source": [
    "invalid_ucds_cv = []\n",
    "for i,u in enumerate(all_ucds['ucd'].data):\n",
    "    if not check_ucd(u,check_controlled_vocabulary=True):\n",
    "        invalid_ucds_cv.append((u,all_ucds['cnt'][i]))\n",
    "print(f\"Found {len(invalid_ucds_cv)} that are not valid under UCD1+ controlled vocabulary\")\n",
    "print(f\"  The top 10 bad UCD values by number of instances are\")\n",
    "[print(f\"{c[0]:25}: {c[1]}\") for c in invalid_ucds_cv[0:10] ]"
   ]
  },
  {
   "cell_type": "markdown",
   "id": "1df1cd72-5b41-485b-b718-1ab3d3957775",
   "metadata": {},
   "source": [
    "## Messing around with UCDs at different publishers"
   ]
  },
  {
   "cell_type": "markdown",
   "id": "6c0f74d2-579e-410a-bb91-cd43a5519c67",
   "metadata": {},
   "source": [
    "Getting the publishers with the most resources in the Registry.  Let's check those.  "
   ]
  },
  {
   "cell_type": "code",
   "execution_count": 265,
   "id": "6d603705-38a6-4fcd-b9dc-5accc893ad20",
   "metadata": {
    "scrolled": true
   },
   "outputs": [
    {
     "data": {
      "text/html": [
       "<div><i>Table length=10</i>\n",
       "<table id=\"table13783179600\" class=\"table-striped table-bordered table-condensed\">\n",
       "<thead><tr><th>role_ivoid</th><th>cnt</th><th>role_name</th></tr></thead>\n",
       "<thead><tr><th>object</th><th>int32</th><th>object</th></tr></thead>\n",
       "<tr><td>ivo://cds</td><td>26923</td><td>CDS</td></tr>\n",
       "<tr><td>ivo://nasa.heasarc/asd</td><td>1091</td><td>NASA/GSFC HEASARC</td></tr>\n",
       "<tr><td>ivo://irsa.ipac/irsa</td><td>563</td><td>NASA/IPAC Infrared Science Archive</td></tr>\n",
       "<tr><td></td><td>244</td><td>The GAVO DC team</td></tr>\n",
       "<tr><td></td><td>217</td><td>Planetary Data System</td></tr>\n",
       "<tr><td>ivo://wfau.roe.ac.uk</td><td>124</td><td>WFAU, Institute for Astronomy, University of Edinburgh</td></tr>\n",
       "<tr><td>ivo://archive.stsci.edu/stsci-arc</td><td>96</td><td>Space Telescope Science Institute Archive</td></tr>\n",
       "<tr><td>ivo://svo.cab</td><td>71</td><td>SVO CAB</td></tr>\n",
       "<tr><td>ivo://noirlab.edu</td><td>65</td><td>NSF NOIRLab Astro Data Lab Team</td></tr>\n",
       "<tr><td></td><td>57</td><td>Paris Astronomical Data Centre</td></tr>\n",
       "</table></div>"
      ],
      "text/plain": [
       "<Table length=10>\n",
       "            role_ivoid            ...\n",
       "              object              ...\n",
       "--------------------------------- ...\n",
       "                        ivo://cds ...\n",
       "           ivo://nasa.heasarc/asd ...\n",
       "             ivo://irsa.ipac/irsa ...\n",
       "                                  ...\n",
       "                                  ...\n",
       "             ivo://wfau.roe.ac.uk ...\n",
       "ivo://archive.stsci.edu/stsci-arc ...\n",
       "                    ivo://svo.cab ...\n",
       "                ivo://noirlab.edu ...\n",
       "                                  ..."
      ]
     },
     "execution_count": 265,
     "metadata": {},
     "output_type": "execute_result"
    }
   ],
   "source": [
    "publishers = gavo_regtap.search(\"\"\"\n",
    "    select distinct role_ivoid, count(*) as cnt , role_name\n",
    "    from rr.res_role \n",
    "    where base_role = 'publisher' \n",
    "    group by role_ivoid, role_name\n",
    "    order by cnt desc\n",
    "    \"\"\").to_table()[0:10]\n",
    "publishers"
   ]
  },
  {
   "cell_type": "markdown",
   "id": "0ee86ea2-77b4-47e7-af34-bee603ed06d1",
   "metadata": {},
   "source": [
    "GAVO doesn't have an IVOID for the publisher like the above?  Makes it harder.  Hm."
   ]
  },
  {
   "cell_type": "code",
   "execution_count": 290,
   "id": "de3ed76a-45af-4a36-bf3b-a1dba2319783",
   "metadata": {
    "scrolled": true
   },
   "outputs": [
    {
     "name": "stdout",
     "output_type": "stream",
     "text": [
      "\n",
      "looking at publisher CDS\n",
      "    publisher CDS publishes 6868 distinct UCDs\n",
      "    UCD '' used 59470 times\n",
      "\n",
      "looking at publisher NASA/GSFC HEASARC\n",
      "    publisher NASA/GSFC HEASARC publishes 2451 distinct UCDs\n",
      "    UCD '' used 8596 times\n",
      "\n",
      "looking at publisher NASA/IPAC Infrared Science Archive\n",
      "    publisher NASA/IPAC Infrared Science Archive publishes no column metadata (?)\n",
      "\n",
      "looking at publisher The GAVO DC team\n",
      "    publisher The GAVO DC team publishes 830 distinct UCDs\n",
      "    UCD '' used 1373 times\n",
      "    UCD 'vox:image_filesize' used 44 times\n",
      "    UCD 'vox:image_mjdateobs' used 2 times\n",
      "\n",
      "looking at publisher Planetary Data System\n",
      "    publisher Planetary Data System publishes 41 distinct UCDs\n",
      "    UCD '' used 2604 times\n",
      "\n",
      "looking at publisher WFAU, Institute for Astronomy, University of Edinburgh\n",
      "    publisher WFAU, Institute for Astronomy, University of Edinburgh publishes 855 distinct UCDs\n",
      "    UCD '' used 302314 times\n",
      "    UCD '??' used 60549 times\n",
      "    UCD '????' used 60549 times\n",
      "    UCD 'image?' used 60549 times\n",
      "    UCD '???' used 60549 times\n",
      "    UCD 'pos_eq_cart_x?' used 60549 times\n",
      "    UCD 'pos_eq_cart_y?' used 60549 times\n",
      "    UCD 'pos_eq_cart_z?' used 60549 times\n",
      "    UCD 'class_star/galaxy' used 30 times\n",
      "    UCD 'error_???' used 60549 times\n",
      "    UCD 'meta.id,meta.main' used 10 times\n",
      "    UCD 'stat_%reject' used 8 times\n",
      "    UCD 'meta_id_--n/_-99999999' used 4 times\n",
      "    UCD 'stat.param;colourucd;' used 4 times\n",
      "\n",
      "looking at publisher Space Telescope Science Institute Archive\n",
      "    publisher Space Telescope Science Institute Archive publishes no column metadata (?)\n",
      "\n",
      "looking at publisher SVO CAB\n",
      "    publisher SVO CAB publishes no column metadata (?)\n",
      "\n",
      "looking at publisher NSF NOIRLab Astro Data Lab Team\n",
      "    publisher NSF NOIRLab Astro Data Lab Team publishes no column metadata (?)\n",
      "\n",
      "looking at publisher Paris Astronomical Data Centre\n",
      "    publisher Paris Astronomical Data Centre publishes 400 distinct UCDs\n",
      "    UCD '' used 966 times\n",
      "    UCD 'vox:image_filesize' used 16 times\n",
      "    UCD 'stat.error;stat.min;time.epoch;' used 16 times\n",
      "    UCD 'stat.error;stat.min;phys.mass;' used 8 times\n",
      "    UCD 'stat.error;stat.min;phys.albedo;' used 4 times\n",
      "    UCD 'stat.error;stat.min;phys.size.radius;' used 4 times\n",
      "    UCD 'stat.error;stat.min;pos.distance;' used 4 times\n",
      "    UCD 'stat.error;stat.min;pos.posang;' used 4 times\n",
      "    UCD 'stat.error;stat.min;spect.dopplerveloc;' used 4 times\n",
      "    UCD 'stat.error;stat.min;src.impactparam;' used 4 times\n",
      "    UCD 'stat.error;stat.min;src.orbital.eccentricity;' used 4 times\n",
      "    UCD 'stat.error;stat.min;src.orbital.inclination;' used 4 times\n",
      "    UCD 'stat.error;stat.min;src.orbital.periastron;' used 4 times\n",
      "    UCD 'stat.error;stat.min;src.orbital;time.period;' used 4 times\n",
      "    UCD 'stat.error;stat.min;time.epoch;src.orbital.periastron;' used 4 times\n",
      "    UCD 'stat.error;stat.min;phys.size.smajaxis;' used 2 times\n"
     ]
    }
   ],
   "source": [
    "import pandas as pd\n",
    "warnings.filterwarnings(\"ignore\", message=\".*This pattern is interpreted as a regular expression.*\")\n",
    "for i,p in enumerate(publishers['role_name'].data):\n",
    "    #  Look at all the metadata from this publisher\n",
    "    print(f\"\\nlooking at publisher {p}\")\n",
    "\n",
    "    query = f\"\"\"\n",
    "    select ucd, count(*) as cnt from ( rr.res_role natural join rr.table_column )\n",
    "    where role_name = '{p}'\n",
    "    group by ucd \n",
    "    \"\"\"\n",
    "    ucd_cnt_all = gavo_regtap.search(query)\n",
    "    if len(ucd_cnt_all) != 0:  \n",
    "        print(f\"    publisher {p} publishes {len(ucd_cnt_all)} distinct UCDs\")\n",
    "    else: \n",
    "        print(f\"    publisher {p} publishes no column metadata (?)\")\n",
    "        continue #  ?\n",
    "    df = pd.DataFrame(data={\"ucd\":ucd_cnt_all.to_table()['ucd'].data.data,\"cnt\":ucd_cnt_all.to_table()['cnt'].data.data})\n",
    "    for c in invalid_ucds:  #  invalid_ucds or invalid_ucds_cv (this is huge)\n",
    "        #  c is a tuple of the string and the count\n",
    "        if c[0]=='':  \n",
    "            matches = df['ucd'].astype(str).str.len() == 0\n",
    "        elif '?' in c[0]:\n",
    "            matches = df['ucd'].str.contains(\"?\",regex=False)\n",
    "        else:\n",
    "            matches = df['ucd'] == c[0]\n",
    "        ucd_cnt = df[matches]['cnt'].sum() # should only be one \n",
    "        if ucd_cnt == 0:  \n",
    "            continue\n",
    "        print(f\"    UCD '{c[0]}' used {ucd_cnt} times\")\n",
    "        "
   ]
  },
  {
   "cell_type": "code",
   "execution_count": null,
   "id": "8ebcb0ce-0c13-4027-be61-e1bff05ddcdb",
   "metadata": {},
   "outputs": [],
   "source": []
  },
  {
   "cell_type": "code",
   "execution_count": null,
   "id": "006cd1c0-fb89-41ab-8ba7-64fc461810ab",
   "metadata": {},
   "outputs": [],
   "source": [
    "query=\"\"\"\n",
    "  select distinct ucd, count(*) as cnt\n",
    "  from rr.table_column \n",
    "  group by ucd \n",
    "  order by cnt desc\n",
    "  \"\"\"\n",
    "result = gavo_regtap.search(query)\n",
    "\n",
    "all_ucds = result.to_table()\n"
   ]
  },
  {
   "cell_type": "code",
   "execution_count": 163,
   "id": "c35606b7-6581-4543-8682-ec571db468d4",
   "metadata": {
    "scrolled": true
   },
   "outputs": [
    {
     "name": "stdout",
     "output_type": "stream",
     "text": [
      "Found 29 invalid UCDs with a ':' character \n",
      "vox:image_filesize       : 138\n",
      "vox:image_mjdateobs      : 59\n",
      "vox:bandpass_id          : 47\n",
      "vox:bandpass_hilimit     : 39\n",
      "vox:bandpass_lolimit     : 39\n",
      "vox:bandpass_refvalue    : 39\n",
      "vox:bandpass_unit        : 39\n",
      "vox:image_naxes          : 39\n",
      "vox:image_naxis          : 39\n",
      "vox:image_pixflags       : 39\n",
      "vox:image_scale          : 39\n",
      "vox:stc_coordequinox     : 39\n",
      "vox:stc_coordrefframe    : 39\n",
      "vox:wcs_cdmatrix         : 39\n",
      "vox:wcs_coordprojection  : 39\n",
      "vox:wcs_coordrefpixel    : 39\n",
      "vox:wcs_coordrefvalue    : 39\n",
      "vox:image_title          : 38\n",
      "meta.id:meta.main        : 12\n",
      "phys.magabs:em.opt.b     : 1\n",
      "sia:dataid.collection    : 1\n",
      "vox:image_accessreference: 1\n",
      "vox:image_format         : 1\n",
      "vox:obs_end_time         : 1\n",
      "vox:obs_start_time       : 1\n",
      "vox:spectrum_axes        : 1\n",
      "vox:spectrum_dimeq       : 1\n",
      "vox:spectrum_scaleq      : 1\n",
      "vox:spectrum_units       : 1\n"
     ]
    }
   ],
   "source": [
    "colons = []\n",
    "for i,u in enumerate(all_ucds['ucd'].data):\n",
    "    if \":\" in u:\n",
    "        colons.append((u,all_ucds['cnt'][i]))\n",
    "print(f\"Found {len(colons)} invalid UCDs with a ':' character \")\n",
    "#[ print(f\"{c[0]:25}: {c[1]}\") for c in colons]\n",
    "print(\"\\n\".join([f\"{c[0]:25}: {c[1]}\" for c in colons]))"
   ]
  },
  {
   "cell_type": "code",
   "execution_count": 164,
   "id": "68c22cc5-ca1a-4365-87f1-868737d2665d",
   "metadata": {},
   "outputs": [
    {
     "name": "stdout",
     "output_type": "stream",
     "text": [
      "Found 932 that are not valid under UCD1+ controlled vocabulary\n",
      "  The top 10 bad UCD values by number of instances are\n",
      "                         : 256616\n",
      "??                       : 30342\n",
      "error                    : 13825\n",
      "code_misc                : 8538\n",
      "phot_mag                 : 6291\n",
      "fit_param                : 4505\n",
      "obs.field                : 4328\n",
      "number                   : 3090\n",
      "id_number                : 2694\n",
      "phot_intensity_adu       : 2512\n"
     ]
    },
    {
     "data": {
      "text/plain": [
       "[None, None, None, None, None, None, None, None, None, None]"
      ]
     },
     "execution_count": 164,
     "metadata": {},
     "output_type": "execute_result"
    }
   ],
   "source": [
    "culprits = []\n",
    "for i,u in enumerate(all_ucds['ucd'].data):\n",
    "    if not check_ucd(u,check_controlled_vocabulary=True):\n",
    "        culprits.append((u,all_ucds['cnt'][i]))\n",
    "print(f\"Found {len(culprits)} that are not valid under UCD1+ controlled vocabulary\")\n",
    "print(f\"  The top 10 bad UCD values by number of instances are\")\n",
    "[print(f\"{c[0]:25}: {c[1]}\") for c in culprits[0:10] ]"
   ]
  },
  {
   "cell_type": "code",
   "execution_count": 122,
   "id": "ea8c3683-92ce-4fe9-a542-91b9dd20cfa2",
   "metadata": {},
   "outputs": [
    {
     "data": {
      "text/plain": [
       "True"
      ]
     },
     "execution_count": 122,
     "metadata": {},
     "output_type": "execute_result"
    }
   ],
   "source": []
  },
  {
   "cell_type": "markdown",
   "id": "34eb4d24-33be-493e-925f-470e23120b97",
   "metadata": {},
   "source": [
    "### Check 3:  authors"
   ]
  },
  {
   "cell_type": "markdown",
   "id": "e07b9a38-1faa-4f26-ac89-2f10771bbc85",
   "metadata": {},
   "source": [
    "Have\n",
    "* Last F.\n",
    "* Last F., Last2 F.\n",
    "* Last, F.\n",
    "* F. Last, Last2. F.\n",
    "\n",
    "At least where there are commas they are used to separate two authors, rather than \"Last, F\" or something."
   ]
  },
  {
   "cell_type": "code",
   "execution_count": null,
   "id": "9c78f8ac-77e1-4b79-86cf-b93f6f9be85e",
   "metadata": {
    "scrolled": true
   },
   "outputs": [],
   "source": [
    "names = gavo_regtap.search(\"select distinct role_name, count(*) as cnt from rr.res_role where base_role = 'creator' group by role_name\").to_table()\n",
    "names"
   ]
  },
  {
   "cell_type": "code",
   "execution_count": null,
   "id": "adbe5443-68a6-44a6-bd42-aafe06490ee7",
   "metadata": {},
   "outputs": [],
   "source": []
  },
  {
   "cell_type": "markdown",
   "id": "2ba7bf75-5390-4642-b819-2e9bdff2ce95",
   "metadata": {},
   "source": [
    "### Check 4:  subjects and the UAT"
   ]
  },
  {
   "cell_type": "code",
   "execution_count": 173,
   "id": "31a2eef9-48a9-450e-836c-201c6593d5ad",
   "metadata": {
    "scrolled": true
   },
   "outputs": [
    {
     "data": {
      "text/html": [
       "<div><i>Table length=1254</i>\n",
       "<table id=\"table13890261584\" class=\"table-striped table-bordered table-condensed\">\n",
       "<thead><tr><th>res_subject</th><th>cnt</th></tr></thead>\n",
       "<thead><tr><th>object</th><th>int32</th></tr></thead>\n",
       "<tr><td>visible-astronomy</td><td>7256</td></tr>\n",
       "<tr><td>galaxies</td><td>4353</td></tr>\n",
       "<tr><td>infrared-photometry</td><td>4328</td></tr>\n",
       "<tr><td>spectroscopy</td><td>4289</td></tr>\n",
       "<tr><td>photometry</td><td>3833</td></tr>\n",
       "<tr><td>radial-velocity</td><td>2854</td></tr>\n",
       "<tr><td>surveys</td><td>2758</td></tr>\n",
       "<tr><td>redshifted</td><td>2664</td></tr>\n",
       "<tr><td>variable-stars</td><td>2033</td></tr>\n",
       "<tr><td>...</td><td>...</td></tr>\n",
       "<tr><td>individual (M31) - galaxies: star clusters - globular clusters:\\ngeneral - star clusters: general</td><td>1</td></tr>\n",
       "<tr><td>solar-system-terrestrial-planets</td><td>1</td></tr>\n",
       "<tr><td>DISTANCE</td><td>1</td></tr>\n",
       "<tr><td>cosmic-microwave-background-radiation</td><td>1</td></tr>\n",
       "<tr><td>CoRoT N2 Public Archive - Stars with rotation periods from de Medeiros et al</td><td>1</td></tr>\n",
       "<tr><td>Optical Images Archive</td><td>1</td></tr>\n",
       "<tr><td>Hubble Space Telescope Observations</td><td>1</td></tr>\n",
       "<tr><td>NOIRLab Source Catalog DR2</td><td>1</td></tr>\n",
       "<tr><td>Spectropolarimetry</td><td>1</td></tr>\n",
       "<tr><td>solar disc</td><td>1</td></tr>\n",
       "</table></div>"
      ],
      "text/plain": [
       "<Table length=1254>\n",
       "                                           res_subject                                            ...\n",
       "                                              object                                              ...\n",
       "------------------------------------------------------------------------------------------------- ...\n",
       "                                                                                visible-astronomy ...\n",
       "                                                                                         galaxies ...\n",
       "                                                                              infrared-photometry ...\n",
       "                                                                                     spectroscopy ...\n",
       "                                                                                       photometry ...\n",
       "                                                                                  radial-velocity ...\n",
       "                                                                                          surveys ...\n",
       "                                                                                       redshifted ...\n",
       "                                                                                   variable-stars ...\n",
       "                                                                                              ... ...\n",
       "individual (M31) - galaxies: star clusters - globular clusters:\\ngeneral - star clusters: general ...\n",
       "                                                                 solar-system-terrestrial-planets ...\n",
       "                                                                                         DISTANCE ...\n",
       "                                                            cosmic-microwave-background-radiation ...\n",
       "                     CoRoT N2 Public Archive - Stars with rotation periods from de Medeiros et al ...\n",
       "                                                                           Optical Images Archive ...\n",
       "                                                              Hubble Space Telescope Observations ...\n",
       "                                                                       NOIRLab Source Catalog DR2 ...\n",
       "                                                                               Spectropolarimetry ...\n",
       "                                                                                       solar disc ..."
      ]
     },
     "execution_count": 173,
     "metadata": {},
     "output_type": "execute_result"
    }
   ],
   "source": [
    "subjects = gavo_regtap.search(\"select res_subject, count(*) as cnt from rr.res_subject group by res_subject order by cnt desc\").to_table()\n",
    "subjects"
   ]
  },
  {
   "cell_type": "code",
   "execution_count": 174,
   "id": "15f469d9-3a58-445a-969f-42d12ce48ea6",
   "metadata": {},
   "outputs": [],
   "source": [
    "import urllib.request, json \n",
    "with urllib.request.urlopen(\"https://raw.githubusercontent.com/astrothesaurus/UAT/master/UAT.json\") as url:\n",
    "    uat = json.load(url)"
   ]
  },
  {
   "cell_type": "code",
   "execution_count": 175,
   "id": "2278ae55-018c-495d-976c-0b5b7dcaec7f",
   "metadata": {
    "jupyter": {
     "source_hidden": true
    }
   },
   "outputs": [],
   "source": [
    "#  Generator that goes through the nested JSON and looks for a key anywhere down in it\n",
    "def item_generator(json_input, lookup_key):\n",
    "    if isinstance(json_input, dict):\n",
    "        for k, v in json_input.items():\n",
    "            if k == lookup_key:\n",
    "                yield v\n",
    "            else:\n",
    "                yield from item_generator(v, lookup_key)\n",
    "    elif isinstance(json_input, list):\n",
    "        for item in json_input:\n",
    "            yield from item_generator(item, lookup_key)"
   ]
  },
  {
   "cell_type": "code",
   "execution_count": 176,
   "id": "f632d001-1703-4751-91bc-9b7b972d82b1",
   "metadata": {
    "scrolled": true
   },
   "outputs": [
    {
     "name": "stdout",
     "output_type": "stream",
     "text": [
      "Found 4335 names in the UAT\n",
      "['astrophysical processes', 'astrophysical magnetism', 'cosmic magnetic fields theory', 'emerging flux tubes', 'magnetic fields', 'geomagnetic fields', 'magnetic anomalies', 'primordial magnetic fields', 'gravitation', 'relativity']\n"
     ]
    }
   ],
   "source": [
    "uat_name_list = [x.lower() for x in item_generator(uat,'name')]\n",
    "print(f\"Found {len(uat_name_list)} names in the UAT\")\n",
    "print(uat_name_list[0:10])"
   ]
  },
  {
   "cell_type": "code",
   "execution_count": 182,
   "id": "9ffcb3fe-dd23-44d5-9f04-90b09633f296",
   "metadata": {},
   "outputs": [
    {
     "name": "stdout",
     "output_type": "stream",
     "text": [
      "Found 1014 Registry res_subject entries that are not in the UAT and 240 that are.\n",
      "  The top 10 bad subject values by number of instances are\n",
      "visible-astronomy: 7256\n",
      "infrared-photometry: 4328\n",
      "radial-velocity: 2854\n",
      "variable-stars: 2033\n",
      "Wide-band photometry: 1937\n",
      "multiple-stars: 1868\n",
      "x-ray-sources: 1720\n",
      "open-star-clusters: 1677\n",
      "chemical-abundances: 1611\n",
      "infrared-sources: 1432\n"
     ]
    }
   ],
   "source": [
    "invalid_subjects = []\n",
    "correct_subjects = []\n",
    "for i,s in enumerate(subjects['res_subject'].data):\n",
    "    if s.lower() in uat_name_list:\n",
    "        correct_subjects.append((s,subjects['cnt'][i]))\n",
    "    else:\n",
    "        invalid_subjects.append((s,subjects['cnt'][i]))\n",
    "print(f\"Found {len(invalid_subjects)} Registry res_subject entries \\\n",
    "that are not in the UAT and {len(correct_subjects)} that are.\")\n",
    "print(f\"  The top 10 bad subject values by number of instances are\")\n",
    "x=[print(f\"{c[0]}: {c[1]}\") for c in invalid_subjects[0:10] ]"
   ]
  },
  {
   "cell_type": "code",
   "execution_count": 184,
   "id": "142c325c-64a0-43b5-b8e9-0f6bea8c3853",
   "metadata": {},
   "outputs": [
    {
     "name": "stdout",
     "output_type": "stream",
     "text": [
      "Found 17 matches to 'star' such as\n",
      "['star-planet interactions', 'starburst galaxies', 'starburst galaxies', 'starburst galaxies', 'star atlases', 'star counts', 'star counts', 'star lore', 'starspots', 'starspots']\n"
     ]
    }
   ],
   "source": [
    "import re\n",
    "result = [u for u in uat_name_list if re.search(\"^star.*\",u)]\n",
    "print(f\"Found {len(result)} matches to 'star' such as\")\n",
    "print(result[0:10])"
   ]
  },
  {
   "cell_type": "code",
   "execution_count": 189,
   "id": "b7c9360a-9cfb-4828-a0df-463d469caf96",
   "metadata": {},
   "outputs": [
    {
     "data": {
      "text/plain": [
       "0       False\n",
       "1       False\n",
       "2       False\n",
       "3       False\n",
       "4       False\n",
       "        ...  \n",
       "1249    False\n",
       "1250    False\n",
       "1251    False\n",
       "1252    False\n",
       "1253     True\n",
       "Name: res_subject, Length: 1254, dtype: bool"
      ]
     },
     "execution_count": 189,
     "metadata": {},
     "output_type": "execute_result"
    }
   ],
   "source": [
    "matches"
   ]
  },
  {
   "cell_type": "code",
   "execution_count": 199,
   "id": "9b11df20-66f9-4df4-8bca-307079670e65",
   "metadata": {},
   "outputs": [
    {
     "data": {
      "text/plain": [
       "masked_array(data=['ivo://cds', '', 'ivo://nasa.heasarc/asd',\n",
       "                   'ivo://irsa.ipac/irsa', 'ivo://wfau.roe.ac.uk',\n",
       "                   'ivo://archive.stsci.edu/stsci-arc', 'ivo://svo.cab',\n",
       "                   'ivo://noirlab.edu', 'ivo://cadc.nrc.ca/org',\n",
       "                   'ivo://china-vo'],\n",
       "             mask=[False, False, False, False, False, False, False, False,\n",
       "                   False, False],\n",
       "       fill_value='?',\n",
       "            dtype=object)"
      ]
     },
     "execution_count": 199,
     "metadata": {},
     "output_type": "execute_result"
    }
   ],
   "source": [
    "publishers['publisher'].data"
   ]
  },
  {
   "cell_type": "code",
   "execution_count": 200,
   "id": "50271523-2520-4a3e-8570-8f2f5a167bf5",
   "metadata": {
    "collapsed": true,
    "jupyter": {
     "outputs_hidden": true
    },
    "scrolled": true
   },
   "outputs": [
    {
     "name": "stdout",
     "output_type": "stream",
     "text": [
      "\n",
      "looking at publisher ivo://nasa.heasarc/asd\n",
      "    publisher ivo://nasa.heasarc/asd publishes 1254 distinct subjects\n",
      "    Subject 'visible-astronomy' used 7256 times\n",
      "    Subject 'infrared-photometry' used 4328 times\n",
      "    Subject 'radial-velocity' used 2854 times\n",
      "    Subject 'variable-stars' used 2369 times\n",
      "    Subject 'Wide-band photometry' used 1937 times\n",
      "    Subject 'multiple-stars' used 1868 times\n",
      "    Subject 'x-ray-sources' used 1720 times\n",
      "    Subject 'open-star-clusters' used 1677 times\n",
      "    Subject 'chemical-abundances' used 1611 times\n",
      "    Subject 'infrared-sources' used 1432 times\n",
      "    Subject 'galaxy-clusters' used 1414 times\n",
      "    Subject 'active-galactic-nuclei' used 1396 times\n",
      "    Subject 'radio-sources' used 1349 times\n",
      "    Subject 'interstellar-medium' used 1141 times\n",
      "    Subject 'globular-star-clusters' used 1138 times\n",
      "    Subject 'line-intensities' used 1126 times\n",
      "    Subject 'proper-motions' used 1085 times\n",
      "    Subject 'milky-way-galaxy' used 988 times\n",
      "    Subject 'infrared-astronomy' used 957 times\n",
      "    Subject 'effective-temperature' used 948 times\n",
      "    Subject 'galaxy-classification-systems' used 890 times\n",
      "    Subject 'stellar-masses' used 888 times\n",
      "    Subject 'eclipsing-binary-stars' used 837 times\n",
      "    Subject 'giant-stars' used 1020 times\n",
      "    Subject 'sloan-photometry' used 832 times\n",
      "    Subject 'solar-system-planets' used 831 times\n",
      "    Subject 'atomic-physics' used 803 times\n",
      "    Subject 'radio-astronomy' used 791 times\n",
      "    Subject 'molecular-clouds' used 802 times\n",
      "    Subject 'magellanic-clouds' used 752 times\n",
      "    Subject 'ccd-photometry' used 731 times\n",
      "    Subject 'astronomical-models' used 699 times\n",
      "    Subject 'ultraviolet-astronomy' used 693 times\n",
      "    Subject 'young-stellar-objects' used 686 times\n",
      "    Subject 'pre-main-sequence-stars' used 686 times\n",
      "    Subject 'submillimeter-astronomy' used 664 times\n",
      "    Subject 'millimeter-astronomy' used 1328 times\n",
      "    Subject 'stellar-distance' used 656 times\n",
      "    Subject 'Survey Source' used 655 times\n",
      "    Subject 'h-ii-regions' used 649 times\n",
      "    Subject 'late-type-stars' used 618 times\n",
      "    Subject 'stellar-spectral-types' used 607 times\n",
      "    Subject 'radio-galaxies' used 589 times\n",
      "    Subject 'gamma-ray-astronomy' used 564 times\n",
      "    Subject 'stellar-associations' used 536 times\n",
      "    Subject 'dwarf-stars' used 919 times\n",
      "    Subject 'Sky survey' used 584 times\n",
      "    Subject 'astronomical-object-identification' used 491 times\n",
      "    Subject 'trigonometric-parallax' used 486 times\n",
      "    Subject 'radio-continuum-emission' used 458 times\n",
      "    Subject 'hst-photometry' used 430 times\n",
      "    Subject 'broad-band-photometry' used 413 times\n",
      "    Subject 'stellar-ages' used 409 times\n",
      "    Subject 'm-stars' used 430 times\n",
      "    Subject 'stellar-radii' used 388 times\n",
      "    Subject 'spectroscopic-binary-stars' used 385 times\n",
      "    Subject 'galaxy-kinematics' used 373 times\n",
      "    Subject 'apparent-magnitude' used 371 times\n",
      "    Subject 'ultraviolet-photometry' used 369 times\n",
      "    Subject 'bl-lacertae-objects' used 346 times\n",
      "    Subject 'chemically-peculiar-stars' used 333 times\n",
      "    Subject 'h-i-line-emission' used 325 times\n",
      "    Subject 'planetary-nebulae' used 319 times\n",
      "    Subject 'early-type-stars' used 313 times\n",
      "    Subject 'gravitational-lensing' used 319 times\n",
      "    Subject 'star-forming-regions' used 291 times\n",
      "    Subject 'white-dwarf-stars' used 287 times\n",
      "    Subject 'solar-system' used 1152 times\n",
      "    Subject 'medium-band-photometry' used 257 times\n",
      "    Subject 'astrophysical-masers' used 257 times\n",
      "    Subject 'magnetic-fields' used 255 times\n",
      "    Subject 'co-line-emission' used 247 times\n",
      "    Subject 'seyfert-galaxies' used 235 times\n",
      "    Subject 'x-ray-binary-stars' used 231 times\n",
      "    Subject 'stellar-atmospheres' used 220 times\n",
      "    Subject 'the-sun' used 216 times\n",
      "    Subject 'asteroid-dynamics' used 207 times\n",
      "    Subject 'stellar-evolutionary-models' used 198 times\n",
      "    Subject 'peculiar-variable-stars' used 196 times\n",
      "    Subject 'g-stars' used 192 times\n",
      "    Subject '' used 187 times\n",
      "    Subject 'supergiant-stars' used 185 times\n",
      "    Subject 'h-alpha-photometry' used 184 times\n",
      "    Subject 'absolute-magnitude' used 184 times\n",
      "    Subject 'carbon-stars' used 181 times\n",
      "    Subject 'galaxy-planes' used 180 times\n",
      "    Subject 'two-color-diagrams' used 176 times\n",
      "    Subject 'radio-spectroscopy' used 176 times\n",
      "    Subject 'be-stars' used 163 times\n",
      "    Subject 'virtual-observatories' used 160 times\n",
      "    Subject 'narrow-band-photometry' used 148 times\n",
      "    Subject 'ob-stars' used 146 times\n",
      "    Subject 'cataclysmic-variable-stars' used 139 times\n",
      "    Subject 'optical-observation' used 134 times\n",
      "    Subject 'morgan-keenan-classification' used 133 times\n",
      "    Subject 'supernova-remnants' used 133 times\n",
      "    Subject 'emission-line-stars' used 127 times\n",
      "    Subject 'spectral-energy-distribution' used 126 times\n",
      "    Subject 'interstellar-reddening' used 123 times\n",
      "    Subject 'stellar-flares' used 116 times\n",
      "    Subject 'population-ii-stars' used 115 times\n",
      "    Subject 'standard-stars' used 121 times\n",
      "    Subject 'subdwarf-stars' used 111 times\n",
      "    Subject 'black-holes' used 110 times\n",
      "    Subject 'f-stars' used 1028 times\n",
      "    Subject 'stellar-populations' used 108 times\n",
      "    Subject 'kron-cousins-photometry' used 103 times\n",
      "    Subject 'brown-dwarfs' used 102 times\n",
      "    Subject 'extragalactic survey' used 101 times\n",
      "    Subject 'very-long-baseline-interferometry' used 101 times\n",
      "    Subject 'b-stars' used 246 times\n",
      "    Subject 'horizontal-branch-stars' used 100 times\n",
      "    Subject 'star-atlases' used 99 times\n",
      "    Subject 'k-stars' used 98 times\n",
      "    Subject 'halo-stars' used 98 times\n",
      "    Subject 'gamma-ray-bursts' used 91 times\n",
      "    Subject 'o-stars' used 184 times\n",
      "    Subject 'Observation' used 425 times\n",
      "    Subject 'a-stars' used 84 times\n",
      "    Subject 'molecular-physics' used 83 times\n",
      "    Subject 'Star' used 15601 times\n",
      "    Subject 'Stars' used 12226 times\n",
      "    Subject 'photographic-photometry' used 78 times\n",
      "    Subject 'stellar-mass-loss' used 73 times\n",
      "    Subject 'wolf-rayet-stars' used 71 times\n",
      "    Subject 'galaxy-rotation' used 71 times\n",
      "    Subject 'astronomical-reference-materials' used 70 times\n",
      "    Subject 'surface-photometry' used 65 times\n",
      "    Subject 'Image Search' used 64 times\n",
      "    Subject 'SIA' used 86 times\n",
      "    Subject 'observational-astronomy' used 60 times\n",
      "    Subject 'Authority' used 63 times\n",
      "    Subject 'galactic-center' used 59 times\n",
      "    Subject 'intergalactic-medium' used 58 times\n",
      "    Subject 'all sky survey' used 58 times\n",
      "    Subject 'stars' used 12226 times\n",
      "    Subject 'planetary-science' used 50 times\n",
      "    Subject 'vilnius-photometry' used 49 times\n",
      "    Subject 'software-tutorials' used 48 times\n",
      "    Subject 'star' used 15601 times\n",
      "    Subject 'hertzsprung-russell-diagram' used 45 times\n",
      "    Subject 'ap-stars' used 44 times\n",
      "    Subject 'Virtual Observatory' used 113 times\n",
      "    Subject 'dwarf-galaxies' used 42 times\n",
      "    Subject 'solar-system-astronomy' used 41 times\n",
      "    Subject 'Galaxy' used 4198 times\n",
      "    Subject 'high-velocity-stars' used 39 times\n",
      "    Subject 'galaxy-radii' used 38 times\n",
      "    Subject 'photographic-magnitude' used 36 times\n",
      "    Subject 'neutron-stars' used 35 times\n",
      "    Subject 'ADQL' used 34 times\n",
      "    Subject 'virtual observatory' used 113 times\n",
      "    Subject 'Virtual observatory' used 113 times\n",
      "    Subject 'meridian-circles' used 31 times\n",
      "    Subject 'GRB' used 31 times\n",
      "    Subject 'north-galactic-pole' used 28 times\n",
      "    Subject 'ultraviolet-sources' used 28 times\n",
      "    Subject 'earth-planet' used 26 times\n",
      "    Subject 'h-beta-photometry' used 26 times\n",
      "    Subject 'gravitational-waves' used 25 times\n",
      "    Subject 'transient-sources' used 25 times\n",
      "    Subject 'AGN' used 912 times\n",
      "    Subject 'diffuse-molecular-clouds' used 24 times\n",
      "    Subject 'Infrared, survey, galaxy, point source' used 24 times\n",
      "    Subject 'Registry' used 35 times\n",
      "    Subject 'atomic-spectroscopy' used 20 times\n",
      "    Subject 's-stars' used 19 times\n",
      "    Subject 'survey' used 4360 times\n",
      "    Subject 'barium-stars' used 19 times\n",
      "    Subject 'space-observatories' used 19 times\n",
      "    Subject 'markarian-galaxies' used 18 times\n",
      "    Subject 'interstellar-clouds' used 18 times\n",
      "    Subject 'interstellar-masers' used 17 times\n",
      "    Subject 'Images' used 113 times\n",
      "    Subject 'south-galactic-pole' used 17 times\n",
      "    Subject 'high redshift galaxies' used 17 times\n",
      "    Subject 'l-dwarfs' used 16 times\n",
      "    Subject 'sky survey' used 584 times\n",
      "    Subject 'am-stars' used 15 times\n",
      "    Subject 'Cluster of Galaxies' used 15 times\n",
      "    Subject 'astrographic-catalogs' used 14 times\n",
      "    Subject 'stellar-atmospheric-opacity' used 14 times\n",
      "    Subject 'registry' used 35 times\n",
      "    Subject 'solar-physics' used 13 times\n",
      "    Subject 'galaxy-groups' used 13 times\n",
      "    Subject 'theoretical-models' used 13 times\n",
      "    Subject 'Planets' used 1794 times\n",
      "    Subject 'stellar-evolutionary-tracks' used 13 times\n",
      "    Subject 'history-of-astronomy' used 15 times\n",
      "    Subject 'sky-surveys' used 13 times\n",
      "    Subject 'ring-galaxies' used 12 times\n",
      "    Subject 'redshift-surveys' used 12 times\n",
      "    Subject 'planetary-atmospheres' used 11 times\n",
      "    Subject 'Optical Counterpart' used 11 times\n",
      "    Subject 'stellar-activity' used 11 times\n",
      "    Subject 'galaxy-photometry' used 11 times\n",
      "    Subject 'high redshift surveys' used 11 times\n",
      "    Subject 'ddo-photometry' used 11 times\n",
      "    Subject 'planetary-magnetosphere' used 11 times\n",
      "    Subject 'galaxy-formation' used 11 times\n",
      "    Subject 'radio' used 3538 times\n",
      "    Subject 'variability' used 18 times\n",
      "    Subject 'X-ray' used 1989 times\n",
      "    Subject 'source catalog' used 13 times\n",
      "    Subject 'local-group' used 11 times\n",
      "    Subject 'XRB' used 11 times\n",
      "    Subject 'galaxy-masses' used 11 times\n",
      "    Subject 'ionosphere' used 12 times\n",
      "    Subject 'interacting-galaxies' used 11 times\n",
      "    Subject 'Stars,Survey,Galaxy' used 20 times\n",
      "    Subject 'Survey' used 4360 times\n",
      "    Subject 'Spectrum' used 10 times\n",
      "    Subject 'photometric-standard-stars' used 10 times\n",
      "    Subject 'Stars,Survey,Galaxy, low mass stars, dark energy' used 10 times\n",
      "    Subject 'interstellar-line-emission' used 10 times\n",
      "    Subject 'Compilation Source' used 9 times\n",
      "    Subject 'observational-cosmology' used 9 times\n",
      "    Subject 'software standard' used 9 times\n",
      "    Subject 'neutrino-astronomy' used 9 times\n",
      "    Subject 'INFRARED' used 7068 times\n",
      "    Subject 'magnetospheric-radio-emissions' used 9 times\n",
      "    Subject 't-dwarfs' used 9 times\n",
      "    Subject 'nearby galaxies' used 9 times\n",
      "    Subject 'DK154' used 9 times\n",
      "    Subject 'astronomical-simulations' used 9 times\n",
      "    Subject 'Star Cluster' used 11 times\n",
      "    Subject 'ASTRONOMY' used 12605 times\n",
      "    Subject 'Organization' used 8 times\n",
      "    Subject 'galaxy-ages' used 8 times\n",
      "    Subject 'Pulsar' used 191 times\n",
      "    Subject 'Magnetosphere' used 19 times\n",
      "    Subject 'catalog' used 1160 times\n",
      "    Subject 'Data Center' used 12 times\n",
      "    Subject 'Optical  Astronomy' used 8 times\n",
      "    Subject 'UV Astronomy' used 8 times\n",
      "    Subject 'Observational cosmology, galaxy, cluster, evolution, infrared' used 8 times\n",
      "    Subject 'photometric-systems' used 8 times\n",
      "    Subject 'HI line' used 8 times\n",
      "    Subject 'Nebula' used 441 times\n",
      "    Subject 'Lightcurve' used 8 times\n",
      "    Subject 'time-domain-astronomy' used 8 times\n",
      "    Subject 'EXTRAGALACTIC OBJECTS' used 12 times\n",
      "    Subject 'ASTROPHYSICS' used 25 times\n",
      "    Subject 'planet' used 2271 times\n",
      "    Subject 'Infrared, survey, galaxy, Marellanic Cloud' used 8 times\n",
      "    Subject 'Planetary Systems' used 7 times\n",
      "    Subject 'survey, galaxy, point source' used 31 times\n",
      "    Subject 'Infrared, survey, Milky Way, bulge' used 7 times\n",
      "    Subject 'atmospheric-composition' used 8 times\n",
      "    Subject 'strong-gravitational-lensing' used 7 times\n",
      "    Subject 'HELIO, ILS, instrument location' used 6 times\n",
      "    Subject 'particle-astrophysics' used 6 times\n",
      "    Subject 'astronomy-databases' used 6 times\n",
      "    Subject 'CATALOGUES' used 10 times\n",
      "    Subject 'solar cea' used 6 times\n",
      "    Subject 'bok-globules' used 6 times\n",
      "    Subject 'astronomy-web-services' used 6 times\n",
      "    Subject 'Quasar' used 1321 times\n",
      "    Subject 'cosmological-neutrinos' used 5 times\n",
      "    Subject 'deep field survey' used 5 times\n",
      "    Subject 'Image' used 197 times\n",
      "    Subject 'data access layer' used 5 times\n",
      "    Subject 'Transient' used 30 times\n",
      "    Subject 'spectral-line-identification' used 5 times\n",
      "    Subject 'Hot stars' used 5 times\n",
      "    Subject 'DAL' used 5 times\n",
      "    Subject 'Galaxy: evolution' used 5 times\n",
      "    Subject 'Proposed Target' used 5 times\n",
      "    Subject 'infrared' used 7068 times\n",
      "    Subject 'photographic images' used 5 times\n",
      "    Subject 'solar-atmosphere' used 5 times\n",
      "    Subject 'excitation-rates' used 5 times\n",
      "    Subject 'galaxy-structure' used 5 times\n",
      "    Subject 'SPECTRA' used 767 times\n",
      "    Subject 'Optical spectroscopy' used 6 times\n",
      "    Subject 'authority' used 63 times\n",
      "    Subject 'Magnetic' used 262 times\n",
      "    Subject 'NOT PROVIDED' used 4 times\n",
      "    Subject 'solar-neighborhood' used 4 times\n",
      "    Subject 'outer galaxy' used 4 times\n",
      "    Subject 'astronomical databases ? surveys ? catalogs ? radio' used 8 times\n",
      "    Subject 'ATNF ASKAP Observations' used 4 times\n",
      "    Subject 'objective prism' used 4 times\n",
      "    Subject 'Deep Learning' used 4 times\n",
      "    Subject 'faint-blue-stars' used 4 times\n",
      "    Subject 'Stars, Galaxies' used 4 times\n",
      "    Subject 'astronomical-coordinate-systems' used 4 times\n",
      "    Subject 'Redshift' used 2720 times\n",
      "    Subject 'atmospheric-science' used 4 times\n",
      "    Subject 'UV' used 15 times\n",
      "    Subject 'mercury-planet' used 4 times\n",
      "    Subject 'fast-radio-bursts' used 4 times\n",
      "    Subject 'HELIO, ICS, instrument capabilities' used 4 times\n",
      "    Subject 'high redshift survey' used 15 times\n",
      "    Subject 'bp-stars' used 4 times\n",
      "    Subject 'Galaxies groups' used 4 times\n",
      "    Subject 'White dwarfs' used 6 times\n",
      "    Subject 'White Dwarf' used 10 times\n",
      "    Subject 'Spectroscopic' used 394 times\n",
      "    Subject 'planetary' used 418 times\n",
      "    Subject 'Fields' used 261 times\n",
      "    Subject '???' used 8 times\n",
      "    Subject 'planetary-climates' used 4 times\n",
      "    Subject 'galaxy classification' used 4 times\n",
      "    Subject 'y-dwarfs' used 4 times\n",
      "    Subject 'atmospheric-variability' used 4 times\n",
      "    Subject 'Organisation' used 4 times\n",
      "    Subject 'high-energy-astrophysics' used 4 times\n",
      "    Subject 'cone search' used 4 times\n",
      "    Subject 'astrometric catalogue' used 5 times\n",
      "    Subject 'EPO' used 5 times\n",
      "    Subject 'galaxy-distances' used 3 times\n",
      "    Subject 'space-weather' used 3 times\n",
      "    Subject 'Neutral Hydrogen' used 4 times\n",
      "    Subject 'virtual astronomy' used 3 times\n",
      "    Subject 'comet' used 88 times\n",
      "    Subject 'Proposal' used 3 times\n",
      "    Subject 'Extrasolar Planets' used 4 times\n",
      "    Subject 'wide-field-telescopes' used 3 times\n",
      "    Subject 'astronomy-software' used 3 times\n",
      "    Subject 'Education' used 4 times\n",
      "    Subject 'galaxy-luminosities' used 3 times\n",
      "    Subject 'Abundances' used 1617 times\n",
      "    Subject 'Earth' used 36 times\n",
      "    Subject 'tap' used 6 times\n",
      "    Subject 'Astrometric data' used 4 times\n",
      "    Subject 'CDS image/cube HiPS service' used 3 times\n",
      "    Subject 'asymptotic-giant-branch-stars' used 6 times\n",
      "    Subject '6dF survey galaxy galaxies redshift redshifts 2MASS' used 3 times\n",
      "    Subject 'galaxies: evolution' used 3 times\n",
      "    Subject 'web service' used 3 times\n",
      "    Subject 'astrometric-microlensing-effect' used 3 times\n",
      "    Subject 'service, CEA, virtual observatory' used 3 times\n",
      "    Subject 'Spire Sources' used 3 times\n",
      "    Subject 'Millimiter/submillimiter Astronomy' used 3 times\n",
      "    Subject 'radio continuum: general, techniques: image processing' used 3 times\n",
      "    Subject 'Optical' used 386 times\n",
      "    Subject 'Survey, Catalogue, Quasar' used 3 times\n",
      "    Subject 'infrared survey' used 3 times\n",
      "    Subject 'satellite' used 30 times\n",
      "    Subject 'OpenSkyNode' used 3 times\n",
      "    Subject 'Planet' used 2271 times\n",
      "    Subject 'disk-galaxies' used 3 times\n",
      "    Subject 'Stars:evolution' used 3 times\n",
      "    Subject 'Infrared, survey, galaxy, point source, KIDS' used 3 times\n",
      "    Subject 'finding-lists' used 3 times\n",
      "    Subject 'Spacecraft Pointing' used 3 times\n",
      "    Subject 'VHE sources' used 3 times\n",
      "    Subject 'HST Archive' used 3 times\n",
      "    Subject 'stellar-properties' used 3 times\n",
      "    Subject 'galatic evolution' used 3 times\n",
      "    Subject 'galactic plane survey' used 3 times\n",
      "    Subject 'post-asymptotic-giant-branch-stars' used 3 times\n",
      "    Subject 'surface brightness galaxies catalog' used 3 times\n",
      "    Subject 'WiggleZ Project Data' used 3 times\n",
      "    Subject 'luminosity-function' used 3 times\n",
      "    Subject 'stellar-kinematics' used 3 times\n",
      "    Subject 'solar-magnetic-fields' used 3 times\n",
      "    Subject 'K-12' used 3 times\n",
      "    Subject 'early-type-galaxies' used 3 times\n",
      "    Subject 'Extragalactic Objects' used 12 times\n",
      "    Subject 'Semantics' used 3 times\n",
      "    Subject 'Hubble' used 75 times\n",
      "    Subject 'interstellar-extinction' used 3 times\n",
      "    Subject 'Sun' used 225 times\n",
      "    Subject 'Digitised photographic optical all-sky photometric astrometric survey' used 3 times\n",
      "    Subject 'spectroscopic observations' used 3 times\n",
      "    Subject 'discrete-radio-sources' used 2 times\n",
      "    Subject 'CV' used 2 times\n",
      "    Subject 'active-galaxies' used 2 times\n",
      "    Subject 'Extragalactic Source' used 2 times\n",
      "    Subject 'galactic-archaeology' used 2 times\n",
      "    Subject 'ATNF Pulsar Observations Parkes' used 2 times\n",
      "    Subject 'HerSchel IdOc Database' used 2 times\n",
      "    Subject 'Engineering' used 2 times\n",
      "    Subject 'Digitised photographic Schmidt field test photometry astrometry' used 2 times\n",
      "    Subject 'Infrared all-sky survey' used 2 times\n",
      "    Subject 'stellar-mass-functions' used 2 times\n",
      "    Subject 'statistics' used 6 times\n",
      "    Subject 'Gamma-ray emission' used 2 times\n",
      "    Subject 'x-ray-astronomy' used 2 times\n",
      "    Subject 'CATALOG' used 1160 times\n",
      "    Subject 'IR' used 332 times\n",
      "    Subject 'near-infrared photometric galaxies catalog' used 2 times\n",
      "    Subject 'hec r3 service details' used 2 times\n",
      "    Subject 'andromeda-galaxy' used 2 times\n",
      "    Subject 'Solar data on events' used 2 times\n",
      "    Subject 'Spitzer Taurus' used 2 times\n",
      "    Subject 'exoplanet-astronomy' used 2 times\n",
      "    Subject 'biology' used 8 times\n",
      "    Subject 'SkyMapper Project Data' used 2 times\n",
      "    Subject 'SPACE ASTRONOMY' used 2 times\n",
      "    Subject 'period' used 4 times\n",
      "    Subject 'RADIO SPECTROMETERS' used 2 times\n",
      "    Subject 'mass' used 995 times\n",
      "    Subject 'solar-active-regions' used 2 times\n",
      "    Subject 'Star Detector' used 2 times\n",
      "    Subject 'Image Processing' used 5 times\n",
      "    Subject 'Synthetic Stellar Spectra' used 2 times\n",
      "    Subject 'binary:visual' used 2 times\n",
      "    Subject 'data model' used 3 times\n",
      "    Subject 'stellar-astronomy' used 2 times\n",
      "    Subject 'galaxy' used 4198 times\n",
      "    Subject 'RADIO SPECTRA' used 2 times\n",
      "    Subject 'MGC B-band Galaxy Survey' used 2 times\n",
      "    Subject 'TELESCOPE ARRAYS' used 2 times\n",
      "    Subject 'imaging' used 5 times\n",
      "    Subject 'Digital Images' used 2 times\n",
      "    Subject 'NEAR EARTH ASTEROIDS' used 2 times\n",
      "    Subject 'history-of-astronomy>' used 2 times\n",
      "    Subject 'distributed-computing' used 2 times\n",
      "    Subject 'radius' used 2 times\n",
      "    Subject 'Arecibo' used 2 times\n",
      "    Subject 'TAP' used 6 times\n",
      "    Subject 'Herschel Space Observatory' used 2 times\n",
      "    Subject 'field-of-view' used 2 times\n",
      "    Subject 'RADIO ABSORPTION' used 2 times\n",
      "    Subject 'CORRELATION' used 2 times\n",
      "    Subject 'Galactic Legacy Infrared Mid-Plane Survey GLIMPSE' used 2 times\n",
      "    Subject 'Galaxy:stellar content' used 2 times\n",
      "    Subject 'Infrared, survey, galaxy, KIDS' used 2 times\n",
      "    Subject 'molecular cloud' used 2 times\n",
      "    Subject 'astronomical databases' used 6 times\n",
      "    Subject 'Data retrieval' used 2 times\n",
      "    Subject 'small-magellanic-cloud' used 2 times\n",
      "    Subject 'small-solar-system-bodies' used 2 times\n",
      "    Subject 'Catalog of echelle spectra' used 2 times\n",
      "    Subject 'Timing' used 2 times\n",
      "    Subject 'X-Ray Satellite Astronomy' used 2 times\n",
      "    Subject 'PDR' used 2 times\n",
      "    Subject 'satellites' used 22 times\n",
      "    Subject 'Chianti Atomic Data' used 2 times\n",
      "    Subject 'planets' used 1794 times\n",
      "    Subject 'Sloan Digital Sky Survey' used 2 times\n",
      "    Subject 'Infrared point-source survey' used 2 times\n",
      "    Subject 'Arches Data' used 2 times\n",
      "    Subject 'gaseous-nebulae' used 2 times\n",
      "    Subject 'ISON Survey' used 2 times\n",
      "    Subject 'stars:formation' used 2 times\n",
      "    Subject 'Astronomical literature' used 2 times\n",
      "    Subject 'vla' used 2 times\n",
      "    Subject 'astrometric-binary-stars' used 2 times\n",
      "    Subject 'agn' used 912 times\n",
      "    Subject 'solar-radio-emission' used 2 times\n",
      "    Subject 'SNR' used 2 times\n",
      "    Subject 'galaxies: groups: general, galaxies: interactions,galaxies: statistics' used 2 times\n",
      "    Subject 'infrared, galaxies, stars, survey' used 2 times\n",
      "    Subject 'Optical Astronomical Images' used 2 times\n",
      "    Subject 'astronomy-data-analysis' used 2 times\n",
      "    Subject 'ROSAT xray x-ray sources faint bright' used 2 times\n",
      "    Subject 'astronomy' used 12605 times\n",
      "    Subject 'RADIO ANTENNAS' used 2 times\n",
      "    Subject 'interstellar-dust' used 2 times\n",
      "    Subject 'Radio Counterpart' used 2 times\n",
      "    Subject 'mass spectra' used 2 times\n",
      "    Subject 'Galaxy Cluster' used 10 times\n",
      "    Subject 'plasma-physics' used 2 times\n",
      "    Subject 'Infrared Satellite Astronomy' used 2 times\n",
      "    Subject 'Infrared Counterpart' used 2 times\n",
      "    Subject 'binary:general' used 2 times\n",
      "    Subject 'heliophysics' used 2 times\n",
      "    Subject 'Abell 1763' used 2 times\n",
      "    Subject 'Astronomical Data Archives' used 2 times\n",
      "    Subject 'astrostatistics-techniques' used 2 times\n",
      "    Subject 'Species' used 2 times\n",
      "    Subject 'Infrared, FITS, research, WISE, All-Sky' used 2 times\n",
      "    Subject 'carbon-dioxide' used 2 times\n",
      "    Subject 'Cool stars' used 2 times\n",
      "    Subject 'Solar Image' used 2 times\n",
      "    Subject 'CNN' used 2 times\n",
      "    Subject 'Solar data SOHO EIT CDS Yohkoh' used 2 times\n",
      "    Subject 'x-ray xray XMM' used 2 times\n",
      "    Subject 'virgo-cluster' used 2 times\n",
      "    Subject 'circumstellar-disks' used 2 times\n",
      "    Subject 'survey, Twomass, galaxy, redshift' used 2 times\n",
      "    Subject 'esdc_leads@cosmos.esa.int' used 2 times\n",
      "    Subject 'White Dwarfs' used 6 times\n",
      "    Subject 'SETI' used 2 times\n",
      "    Subject 'Galaxy Group' used 2 times\n",
      "    Subject 'WiggleZ final data release' used 2 times\n",
      "    Subject 'Object' used 1544 times\n",
      "    Subject 'solar astronomy' used 2 times\n",
      "    Subject 'WISE all-sky infrared' used 2 times\n",
      "    Subject 'vlbi' used 2 times\n",
      "    Subject 'spectral' used 741 times\n",
      "    Subject 'RADIO SPECTROGRAPHS' used 2 times\n",
      "    Subject 'hinode solar dsa' used 2 times\n",
      "    Subject 'galaxy-stellar-content' used 2 times\n",
      "    Subject 'galaxies: formation' used 2 times\n",
      "    Subject 'Calibrated images in Stripe82' used 2 times\n",
      "    Subject 'gamma-ray-sources' used 2 times\n",
      "    Subject 'astrometric catalogues' used 2 times\n",
      "    Subject 'Publication' used 2 times\n",
      "    Subject 'Space Observatory' used 4 times\n",
      "    Subject 'Image Restoration' used 2 times\n",
      "    Subject 'Spectra' used 767 times\n",
      "    Subject 'SZCLUSTER-DB' used 2 times\n",
      "    Subject 'Simbad Database' used 2 times\n",
      "    Subject 'Solar Flare' used 2 times\n",
      "    Subject 'Faint Images of the Radio Sky at Twenty-cm FIRST' used 2 times\n",
      "    Subject 'Source Event' used 2 times\n",
      "    Subject 'KUG' used 1 times\n",
      "    Subject 'ISM:general' used 1 times\n",
      "    Subject 'X RAY OBSERVATORIES' used 1 times\n",
      "    Subject 'Gaia, DR3, ESA, Archive, ESAC' used 1 times\n",
      "    Subject 'CoRoT N2 Public Archive - Confirmed Planet' used 1 times\n",
      "    Subject 'comet-surfaces' used 1 times\n",
      "    Subject 'Solar sytem' used 1 times\n",
      "    Subject 'Data Centers' used 1 times\n",
      "    Subject 'HELIO, CXS, on-the-fly plotting' used 1 times\n",
      "    Subject 'Extragalactic objects' used 12 times\n",
      "    Subject 'VHS DR1, SIAP, Images' used 1 times\n",
      "    Subject 'DECaLS DR9 coadd images' used 1 times\n",
      "    Subject 'DES DR1 coadd images' used 1 times\n",
      "    Subject 'Xmatched Arches Catalogue' used 1 times\n",
      "    Subject 'Time Series' used 1 times\n",
      "    Subject 'nsc_dr1 Primary object table' used 1 times\n",
      "    Subject 'spectra' used 767 times\n",
      "    Subject 'perseus-cluster' used 1 times\n",
      "    Subject 'stars: evolution' used 2 times\n",
      "    Subject 'near-earth-objects' used 1 times\n",
      "    Subject 'UHE neutrinos' used 1 times\n",
      "    Subject 'INES' used 2 times\n",
      "    Subject 'XMM SUSS' used 1 times\n",
      "    Subject 'simulation' used 14 times\n",
      "    Subject 'archives' used 4 times\n",
      "    Subject 'emittance' used 1 times\n",
      "    Subject 'stucture' used 1 times\n",
      "    Subject 'CEA Applications' used 1 times\n",
      "    Subject 'UKIDSS DR6, SIAP, Images' used 1 times\n",
      "    Subject 'HELIO, HPS, processing capability access' used 1 times\n",
      "    Subject 'NSA Raw images' used 1 times\n",
      "    Subject 'Atlases' used 100 times\n",
      "    Subject 'Calar Alto Observatory, SIAP, Images' used 1 times\n",
      "    Subject 'the-moon' used 1 times\n",
      "    Subject 'raw data archive' used 1 times\n",
      "    Subject 'XMM Catalogue' used 2 times\n",
      "    Subject 'velocity moments' used 1 times\n",
      "    Subject 'Filter' used 1 times\n",
      "    Subject 'DES Year-3 images' used 2 times\n",
      "    Subject 'Lyman Alpha' used 1 times\n",
      "    Subject 'solar-neutrons' used 1 times\n",
      "    Subject 'forbush-effect' used 1 times\n",
      "    Subject 'Binary and Multiple Stars' used 2 times\n",
      "    Subject 'Publisher of astronomy and virtual observatory services and data archives hosted or maintained at NCI.' used 1 times\n",
      "    Subject 'solar-coronal-radio-emission' used 1 times\n",
      "    Subject 'ELFLock' used 1 times\n",
      "    Subject 'earth' used 36 times\n",
      "    Subject 'Hubble Space Telescope Images' used 1 times\n",
      "    Subject 'BL Lacertae' used 1 times\n",
      "    Subject 'space-plasmas' used 1 times\n",
      "    Subject 'Stars, fundamental' used 1 times\n",
      "    Subject 'DES Year-4 calibrated images' used 1 times\n",
      "    Subject 'UKIDSS DR9, SIAP, Images' used 1 times\n",
      "    Subject 'VOSpace' used 2 times\n",
      "    Subject 'SuperCOSMOS Sky Surveys SSS, SIAP, scans of UKST Bj, R, I, H-alpha, short-red, field 287, POSSI-e, POSSII Bj, R and I' used 1 times\n",
      "    Subject 'DES Year-4 images' used 2 times\n",
      "    Subject 'CoRoT N2 Public Archive - Red Giants' used 1 times\n",
      "    Subject 'n-body-simulations' used 1 times\n",
      "    Subject 'obcp' used 1 times\n",
      "    Subject 'extragalactic' used 141 times\n",
      "    Subject 'S-PLUS DR1 images in Stripe82' used 1 times\n",
      "    Subject 'Background' used 38 times\n",
      "    Subject 'Coronographs' used 1 times\n",
      "    Subject 'Galaxy:general' used 1 times\n",
      "    Subject 'GOGREEN DR1 images' used 1 times\n",
      "    Subject 'night-sky-brightness' used 1 times\n",
      "    Subject 'space-probes' used 1 times\n",
      "    Subject 'eROSITA DR1 Hierarchical Progressive Surveys' used 1 times\n",
      "    Subject 'TRUE POSITIONS' used 1 times\n",
      "    Subject 'Zeus' used 1 times\n",
      "    Subject 'standard language identifiers' used 1 times\n",
      "    Subject 'dark-matter' used 1 times\n",
      "    Subject 'GOODS Image Cutout Service' used 1 times\n",
      "    Subject 'SMASH DR2 calibrated images' used 1 times\n",
      "    Subject 'ISO Infrared Astronomical Spectroscopic Database (IASD) Slap Service' used 0 times\n",
      "    Subject 'testing' used 1 times\n",
      "    Subject 'HELIO, CTS, coordinate transformation' used 1 times\n",
      "    Subject 'cepheid-variable-stars' used 1 times\n",
      "    Subject 'wide area survey' used 1 times\n",
      "    Subject 'surface-variability' used 2 times\n",
      "    Subject 'main-sequence' used 687 times\n",
      "    Subject 'ambient measurements' used 1 times\n",
      "    Subject 'time-series data, AMDA' used 1 times\n",
      "    Subject 'Herbig AeBe' used 1 times\n",
      "    Subject 'astronomy-data-modeling' used 1 times\n",
      "    Subject 'Metadata modeling' used 1 times\n",
      "    Subject 'Armenian Virtual Observatory services' used 1 times\n",
      "    Subject 'gravitational-microlensing' used 1 times\n",
      "    Subject 'Catalogue, Dwarf Galaxies, Interstellar Medium, 21cm HI emission' used 1 times\n",
      "    Subject 'SOURCES' used 4572 times\n",
      "    Subject 'Metadata query service at Swedish SRC' used 1 times\n",
      "    Subject 'high energy' used 4 times\n",
      "    Subject 'surveys, spectroscopy' used 1 times\n",
      "    Subject 'Redshifts' used 4 times\n",
      "    Subject 'HEAVENS light curves (ISDC - Data Centre for Astrophysics)' used 0 times\n",
      "    Subject 'SATELLITE BORNE INSTRUMENTS' used 1 times\n",
      "    Subject 'DES Year-3 images in Stripe82' used 1 times\n",
      "    Subject 'reduced data archive' used 1 times\n",
      "    Subject 'Raw images in Stripe82' used 1 times\n",
      "    Subject 'ESA, PSA, Archive, ESAC' used 1 times\n",
      "    Subject 'fluxes' used 1 times\n",
      "    Subject 'HELIO, ILS, observatory location, instrument location' used 1 times\n",
      "    Subject 'ALHAMBRA F814W SIAP' used 1 times\n",
      "    Subject 'Hubble, Variable, HST, eHST, ESA, Archive, ESDC, ESAC' used 1 times\n",
      "    Subject 'Infrared Sky Survey' used 1 times\n",
      "    Subject 'Aurora' used 3 times\n",
      "    Subject 'All coadded images' used 1 times\n",
      "    Subject 'dwarf-elliptical-galaxies' used 1 times\n",
      "    Subject 'OCA Data Center' used 1 times\n",
      "    Subject 'CCD photometry, sky survey, CCD observation' used 1 times\n",
      "    Subject 'DES SVA images in Stripe82' used 1 times\n",
      "    Subject 'Optical Spectroscopy' used 6 times\n",
      "    Subject 'UKIDSS DR2, SIAP, Images' used 1 times\n",
      "    Subject 'Gaia DR1' used 1 times\n",
      "    Subject 'time-series data, flare locations, Parker model' used 1 times\n",
      "    Subject 'vospace myspace' used 1 times\n",
      "    Subject 'Infrared:galaxies' used 1 times\n",
      "    Subject 'CoRoT N2 Public Archive - Bright stars' used 1 times\n",
      "    Subject 'DECaPS DR1 coadd images' used 1 times\n",
      "    Subject 'NOIRLab Science Archive images in Stripe82' used 1 times\n",
      "    Subject 'Gas Exchange' used 2 times\n",
      "    Subject 'UKIDSS, SIAP, Images' used 1 times\n",
      "    Subject 'SMASH DR1 images' used 2 times\n",
      "    Subject 'AKARI' used 1 times\n",
      "    Subject 'Experiment' used 3 times\n",
      "    Subject 'S-Plus DR1 calibrated images' used 1 times\n",
      "    Subject 'Gaia, FPR, ESA, Archive, ESAC' used 1 times\n",
      "    Subject 'ESA, EuroVO Registry, ESAC' used 1 times\n",
      "    Subject 'Cross-calibration of past FUV experiments' used 1 times\n",
      "    Subject 'S-PLUS DR1 images' used 2 times\n",
      "    Subject 'COLOR' used 178 times\n",
      "    Subject 'observation-log' used 1 times\n",
      "    Subject 'Flare Time' used 1 times\n",
      "    Subject 'active region, coronal hole, filament, prominence, sunspot, Type III, Coronal radio emission' used 1 times\n",
      "    Subject 'Gaia EDR3' used 1 times\n",
      "    Subject 'Extragalactic Variable Star' used 1 times\n",
      "    Subject 'stellar catalog' used 1 times\n",
      "    Subject 'UKIDSS DR5, SIAP, Images' used 1 times\n",
      "    Subject 'NSA calibrated images' used 1 times\n",
      "    Subject 'GROUND BASED ASTRONOMY' used 2 times\n",
      "    Subject 'DECaLS DR9 images in Stripe82' used 1 times\n",
      "    Subject 'esdc_leads@cosmos.esac.esa.int' used 1 times\n",
      "    Subject 'Radio emission' used 2 times\n",
      "    Subject 'neutral hydrogen' used 4 times\n",
      "    Subject 'VISTA, SIAP, Images, VHS, VMC, VVV, VIDEO, VIKING' used 1 times\n",
      "    Subject 'OPTICAL OBSERVATIONS' used 2 times\n",
      "    Subject 'Access to a catalog of blank regions' used 1 times\n",
      "    Subject 'radio-transient-sources' used 1 times\n",
      "    Subject 'StarDB: variability analysis of the Northern Sky Variability Survey' used 1 times\n",
      "    Subject 'neutron-monitors' used 1 times\n",
      "    Subject 'exoplanet-surface-characteristics' used 1 times\n",
      "    Subject 'DECaLS DR8 images' used 2 times\n",
      "    Subject 'SMASH DR1 raw images' used 1 times\n",
      "    Subject 'cosmic-ray-detectors' used 1 times\n",
      "    Subject 'data repositories' used 1 times\n",
      "    Subject 'Gaia, DR1, TGAS, ESA, Archive, ESAC' used 1 times\n",
      "    Subject 'Gaia, EDR3, ESA, Archive, ESAC' used 1 times\n",
      "    Subject 'NOIRLab Source Catalog DR2 images in Stripe82' used 1 times\n",
      "    Subject 'DES DR1 images' used 2 times\n",
      "    Subject 'DES Year-2 images' used 2 times\n",
      "    Subject 'OV-GSO IVOA-compliant Services' used 1 times\n",
      "    Subject 'DES Year-4 images in Stripe82' used 1 times\n",
      "    Subject 'NSA coadd images' used 1 times\n",
      "    Subject 'Plasmas' used 4 times\n",
      "    Subject 'far-ultraviolet spectra' used 1 times\n",
      "    Subject 'kapteyn-selected-areas' used 1 times\n",
      "    Subject 'Service' used 34 times\n",
      "    Subject 'Stellar Spectroscopy' used 1 times\n",
      "    Subject 'Taverna Server' used 1 times\n",
      "    Subject 'kolmogorov-smirnov-test' used 1 times\n",
      "    Subject 'Hierarchical Progressive Surveys' used 4 times\n",
      "    Subject 'planetary-structure' used 1 times\n",
      "    Subject 'FUV' used 2 times\n",
      "    Subject 'GTC, OSIRIS, Images, SIAP' used 1 times\n",
      "    Subject 'exoplanets-astronomy' used 1 times\n",
      "    Subject 'SDSS DR9 sky-subtracted images' used 1 times\n",
      "    Subject 'ions' used 2731 times\n",
      "    Subject 'magnetodisc' used 1 times\n",
      "    Subject 'classifier' used 1 times\n",
      "    Subject 'DECaLS DR8 images in Stripe82' used 1 times\n",
      "    Subject 'SDSS DR9 images in Stripe82' used 1 times\n",
      "    Subject 'ESA, JWST, James Webb, Archive, ESAC' used 1 times\n",
      "    Subject 'SEEING MONITORS' used 1 times\n",
      "    Subject 'photovisual-magnitude' used 1 times\n",
      "    Subject 'File Service' used 1 times\n",
      "    Subject 'optical lines equivalent width catalog' used 1 times\n",
      "    Subject 'celestial-sphere' used 1 times\n",
      "    Subject 'SCS' used 1 times\n",
      "    Subject 'optical-telescopes' used 1 times\n",
      "    Subject 'ATLAS DR1, SIAP, Images' used 1 times\n",
      "    Subject 'galaxy-evolution' used 1 times\n",
      "    Subject 'DES Year-1 images' used 2 times\n",
      "    Subject 'JVO HiPS service' used 1 times\n",
      "    Subject 'Galaxy Evolution and Structure' used 1 times\n",
      "    Subject 'ESA, Herschel, Archive, ESAC' used 1 times\n",
      "    Subject 'CRTS DR3 Image Service' used 1 times\n",
      "    Subject 'Derived' used 1 times\n",
      "    Subject 'SMASH DR1 calibrated images' used 1 times\n",
      "    Subject 'Stars: Proper Motions' used 1 times\n",
      "    Subject 'Planetary Nebula' used 6 times\n",
      "    Subject 'Bandlist' used 1 times\n",
      "    Subject '1P Halley' used 1 times\n",
      "    Subject 'imaging survey optical' used 1 times\n",
      "    Subject 'solar-particle-emission' used 1 times\n",
      "    Subject 'globular clusters' used 2 times\n",
      "    Subject 'NIR small telescope imaging' used 1 times\n",
      "    Subject 'optical observations' used 2 times\n",
      "    Subject 'SSDC VO resources' used 1 times\n",
      "    Subject 'red giants, spectroscopy' used 1 times\n",
      "    Subject 'XMM-Newton, X-rays, ESA, ESAC' used 1 times\n",
      "    Subject 'astronomical-instrumentation' used 1 times\n",
      "    Subject 'Armenian Virtual Observatory SIAP API service' used 1 times\n",
      "    Subject 'DES Year-1 calibrated images' used 1 times\n",
      "    Subject 'SSA, spectra, sed, time-series' used 1 times\n",
      "    Subject 'CME, flare, proton, GLE, solar wind' used 1 times\n",
      "    Subject 'Merging Galaxies' used 1 times\n",
      "    Subject 'SMASH DR1 coadd images' used 1 times\n",
      "    Subject 'ROTATION' used 74 times\n",
      "    Subject 'DeMCELS DR1 images' used 1 times\n",
      "    Subject 'extragalactic astrophysics' used 1 times\n",
      "    Subject 'stellar-occultation' used 1 times\n",
      "    Subject 'astrophysics' used 25 times\n",
      "    Subject 'Pyrolytic' used 2 times\n",
      "    Subject 'CARMENES_Reiners2018' used 1 times\n",
      "    Subject 'Infrared, FITS, research, Spitzer' used 1 times\n",
      "    Subject 'Stars: Abundances' used 1 times\n",
      "    Subject 'Semantic Mapping Service SMS' used 1 times\n",
      "    Subject 'ALMA' used 1 times\n",
      "    Subject 'UKIDSS DR3, SIAP, Images' used 1 times\n",
      "    Subject 'SimDM' used 1 times\n",
      "    Subject 'Reference systems' used 1 times\n",
      "    Subject 'Intra-day Variablility' used 1 times\n",
      "    Subject 'solar-wind' used 1 times\n",
      "    Subject 'Ultraviolet-excess galaxies' used 1 times\n",
      "    Subject 'SMASH DR1 images in Stripe82' used 1 times\n",
      "    Subject 'Hubble, Source, Catalog, HSC, HST, eHST, ESA, Archive, ESDC, ESAC' used 1 times\n",
      "    Subject 'MACHO' used 1 times\n",
      "    Subject 'LMC and SMC' used 1 times\n",
      "    Subject 'nrao' used 1 times\n",
      "    Subject 'DES DR2 images' used 2 times\n",
      "    Subject 'GALACTIC PLANE' used 5 times\n",
      "    Subject 'ALFA' used 2 times\n",
      "    Subject 'G BAND' used 1 times\n",
      "    Subject '6dF Data Release 3 Spectra' used 1 times\n",
      "    Subject 'Ionosphere' used 12 times\n",
      "    Subject 'galaxies: high-redshift' used 1 times\n",
      "    Subject 'Gaia DR2' used 1 times\n",
      "    Subject 'ESDC ESASky HiPS service' used 1 times\n",
      "    Subject 'DES DR2 single-epoch images' used 1 times\n",
      "    Subject 'HESIOD' used 1 times\n",
      "    Subject 'galaxy-colors' used 1 times\n",
      "    Subject 'Extra-galactic stars' used 1 times\n",
      "    Subject 'Hubble Space Telescope 1-D Spectra' used 1 times\n",
      "    Subject 'All Raw images' used 1 times\n",
      "    Subject 'mercury' used 6 times\n",
      "    Subject 'DES Year-2 calibrated images' used 1 times\n",
      "    Subject 'instrument' used 17 times\n",
      "    Subject 'Photometry: wide-band' used 1 times\n",
      "    Subject 'DES DR2 images in Stripe82' used 1 times\n",
      "    Subject 'hyperspectral' used 1 times\n",
      "    Subject '3XMM Enhanced Catalogue' used 1 times\n",
      "    Subject 'Positional data' used 2 times\n",
      "    Subject 'interstellar-abundances' used 1 times\n",
      "    Subject 'infrared spectra' used 1 times\n",
      "    Subject 'submillimeter survey' used 1 times\n",
      "    Subject 'Nova' used 895 times\n",
      "    Subject 'sun' used 225 times\n",
      "    Subject 'SMASH DR2 coadd images' used 1 times\n",
      "    Subject 'galaxies SFR metallicity extinction mass catalog' used 1 times\n",
      "    Subject 'Cosmology and Astrophysics Simulations' used 1 times\n",
      "    Subject 'High-Energy Astrophysics' used 1 times\n",
      "    Subject 'SMASH DR2 images in Stripe82' used 1 times\n",
      "    Subject 'S-PLUS EDR images' used 2 times\n",
      "    Subject 'exoplanet-surfaces' used 1 times\n",
      "    Subject 'deep archive' used 1 times\n",
      "    Subject 'Northern Galactic Planetary Nebulae images' used 1 times\n",
      "    Subject 'imaging spectroscopy' used 1 times\n",
      "    Subject 'DES Year-1 images in Stripe82' used 1 times\n",
      "    Subject 'Standards' used 3 times\n",
      "    Subject 'esdc_leads@sciops.esac.esa.int' used 1 times\n",
      "    Subject 'large-magellanic-cloud' used 1 times\n",
      "    Subject 'pyrolytic' used 2 times\n",
      "    Subject 'planetary-geology' used 1 times\n",
      "    Subject 'Survey, Catalogue, Galaxies' used 1 times\n",
      "    Subject 'gas giants planet' used 1 times\n",
      "    Subject 'CADC image/cube HiPS service' used 1 times\n",
      "    Subject 'ESA, Euclid, Archive, ESAC' used 1 times\n",
      "    Subject 'non-thermal radiation' used 1 times\n",
      "    Subject 'Gaia, DR2, ESA, Archive, ESAC' used 1 times\n",
      "    Subject 'exoplanet-atmospheric-composition' used 1 times\n",
      "    Subject 'simg.de Hierarchical Progressive Surveys' used 1 times\n",
      "    Subject 'DECaLS DR8 coadd images' used 1 times\n",
      "    Subject 'mass function' used 1 times\n",
      "    Subject 'coordinate system' used 1 times\n",
      "    Subject 'OMC' used 1 times\n",
      "    Subject 'Reflection Nebula' used 1 times\n",
      "    Subject 'SMASH DR2 images' used 2 times\n",
      "    Subject 'virtual observtory' used 1 times\n",
      "    Subject 'educational galaxies stars planets' used 1 times\n",
      "    Subject 'CEA' used 11 times\n",
      "    Subject 'RadialVelocity' used 1 times\n",
      "    Subject 'ESA, Hubble, Archive, ESAC' used 1 times\n",
      "    Subject 'Catalog' used 1160 times\n",
      "    Subject 'solar, heliospheric, planetary, geoscience, in-situ, remote' used 1 times\n",
      "    Subject 'HELIO, HSS, storage capability access' used 1 times\n",
      "    Subject 'computational-astronomy' used 1 times\n",
      "    Subject 'ion composition' used 1 times\n",
      "    Subject '['Astrometric data']' used 104593 times\n",
      "    Subject 'UHS, SIAP, Images' used 1 times\n",
      "    Subject 'Data center' used 12 times\n",
      "    Subject 'ATNF Observations' used 1 times\n",
      "    Subject 'STAR-FORMING REGIONS' used 1 times\n",
      "    Subject 'UKIDSS DR10, SIAP, Images' used 1 times\n",
      "    Subject 'observations' used 15 times\n",
      "    Subject 'Skylab' used 1 times\n",
      "    Subject 'Catalogues' used 10 times\n",
      "    Subject 'PARALLAXES' used 1 times\n",
      "    Subject 'archive' used 38 times\n",
      "    Subject 'DOI' used 1 times\n",
      "    Subject 'reflectance' used 1 times\n",
      "    Subject 'abell-clusters' used 1 times\n",
      "    Subject 'gbt' used 1 times\n",
      "    Subject 'IAC Virtual Observatory' used 1 times\n",
      "    Subject 'weak-gravitational-lensing' used 1 times\n",
      "    Subject 'abundance-ratios' used 1 times\n",
      "    Subject 'radio-interferometry' used 1 times\n",
      "    Subject 'DECaLS DR9 images' used 2 times\n",
      "    Subject 'Standards and Technology' used 1 times\n",
      "    Subject 'SIA, images' used 1 times\n",
      "    Subject 'bright stars' used 2 times\n",
      "    Subject 'TEMPERATURE' used 949 times\n",
      "    Subject 'Moon' used 9 times\n",
      "    Subject 'Community WFAU' used 1 times\n",
      "    Subject 'ultraviolet stellar spectra' used 1 times\n",
      "    Subject 'Labeled Release' used 2 times\n",
      "    Subject 'high energy and microwave astronomy' used 1 times\n",
      "    Subject 'galaxy survey' used 3 times\n",
      "    Subject 'UKIDSS DR4, SIAP, Images' used 1 times\n",
      "    Subject 'galaxies: stellar content' used 1 times\n",
      "    Subject 'Gaia, DR1, ESA, Archive, ESAC' used 1 times\n",
      "    Subject 'cosmic-rays' used 1 times\n",
      "    Subject 'OAI-PMH' used 1 times\n",
      "    Subject 'S-PLUS DR1 coadd images' used 1 times\n",
      "    Subject 'SkyMapper' used 3 times\n",
      "    Subject 'Ultra High Energy' used 1 times\n",
      "    Subject 'permanent archive' used 1 times\n",
      "    Subject 'Emission Nebula' used 1 times\n",
      "    Subject 'Open Star Cluster' used 1 times\n",
      "    Subject '67P' used 1 times\n",
      "    Subject 'TGAS' used 2 times\n",
      "    Subject 'metal poor stars' used 1 times\n",
      "    Subject 'astronomical-site-protection' used 1 times\n",
      "    Subject 'water maser' used 1 times\n",
      "    Subject 'Simulations' used 12 times\n",
      "    Subject 'Astrophysical Jets' used 1 times\n",
      "    Subject 'Simulation' used 14 times\n",
      "    Subject 'Reference frames' used 1 times\n",
      "    Subject 'luminous-arcs' used 1 times\n",
      "    Subject 'moon' used 9 times\n",
      "    Subject 'stellar-abundances' used 2 times\n",
      "    Subject 'SMASH DR2 raw images' used 1 times\n",
      "    Subject 'Research' used 4 times\n",
      "    Subject 'space physics' used 1 times\n",
      "    Subject 'HELIO, DES, event detection, on-the-fly plotting' used 1 times\n",
      "    Subject 'GTC, SIAP, Images' used 1 times\n",
      "    Subject 'Blazar' used 6 times\n",
      "    Subject 'Dwarf Nova' used 1 times\n",
      "    Subject 'S-PLUS EDR images in Stripe82' used 1 times\n",
      "    Subject 'and Infrared Astronomy' used 1 times\n",
      "    Subject 'automated-telescopes' used 1 times\n",
      "    Subject 'orbit-determination' used 1 times\n",
      "    Subject 'Positional Data, Proper motions, Photometry:wide-band' used 1 times\n",
      "    Subject 'catalogue' used 24 times\n",
      "    Subject 'HEASARC/SkyView Hierarchical Progressive Surveys' used 1 times\n",
      "    Subject 'University' used 1 times\n",
      "    Subject 'kinematic-parallax' used 1 times\n",
      "    Subject 'light-curves' used 1 times\n",
      "    Subject 'Community Web Application' used 1 times\n",
      "    Subject 'X RAY ASTRONOMY' used 1 times\n",
      "    Subject 'space plasma' used 3 times\n",
      "    Subject 'line-positions' used 1 times\n",
      "    Subject 'solar-activity' used 1 times\n",
      "    Subject 'Photographic catalog' used 1 times\n",
      "    Subject 'TURBULENCE' used 1 times\n",
      "    Subject 'DES Year-2 images in Stripe82' used 1 times\n",
      "    Subject 'Cone Search' used 4 times\n",
      "    Subject 'HELIO, DPAS, data provider access' used 1 times\n",
      "    Subject 'MAST' used 1 times\n",
      "    Subject 'GAUDI SSAP' used 1 times\n",
      "    Subject 'planetary astronomy' used 1 times\n",
      "    Subject 'Metadata Service' used 1 times\n",
      "    Subject 'ESA, Gaia, Archive, ESAC' used 1 times\n",
      "    Subject 'ESA, ESASky, Legacy, Archive, ESAC' used 1 times\n",
      "    Subject 'All Instrument calibrated images' used 1 times\n",
      "    Subject 'Enzo' used 1 times\n",
      "    Subject 'Ground Based Astronomy' used 2 times\n",
      "    Subject 'HIPASS Project Data' used 1 times\n",
      "    Subject 'multibeam' used 1 times\n",
      "    Subject 'DES SVA coadd images' used 1 times\n",
      "    Subject 'super-earths' used 1 times\n",
      "    Subject '1M-WideField' used 1 times\n",
      "    Subject 'energy spectra' used 1 times\n",
      "    Subject 'galaxy cluster' used 10 times\n",
      "    Subject 'Supernova' used 748 times\n",
      "    Subject 'ALFALFA' used 1 times\n",
      "    Subject 'HELIO, UOC, Observing catalogues' used 1 times\n",
      "    Subject 'galaxies: luminosity function' used 1 times\n",
      "    Subject 'planetary-surfaces' used 1 times\n",
      "    Subject 'URI' used 1 times\n",
      "    Subject 'optical photometric galaxies catalog' used 1 times\n",
      "    Subject 'DECaPS DR2 images' used 1 times\n",
      "    Subject 'natural-satellites' used 1 times\n",
      "    Subject 'Automatic Unsupervised Classification of all SDSS/DR7 Galaxy Spectra' used 1 times\n",
      "    Subject 'Globular Cluster' used 3 times\n",
      "    Subject 'General' used 11 times\n",
      "    Subject 'Exoplanet data and data services.' used 1 times\n",
      "    Subject 'Astro Services at Swinburne' used 1 times\n",
      "    Subject 'UKIDSS DR8, SIAP, Images' used 1 times\n",
      "    Subject 'trans-neptunian-objects' used 1 times\n",
      "    Subject 'gas exchange' used 2 times\n",
      "    Subject 'UKIDSS DR11, SIAP, Images' used 1 times\n",
      "    Subject 'data' used 83 times\n",
      "    Subject 'uv-ceti-stars' used 1 times\n",
      "    Subject 'heliospheric' used 2 times\n",
      "    Subject 'flare-stars' used 1 times\n",
      "    Subject 'Green Bank' used 2 times\n",
      "    Subject 'NIST's Atomic Spectroscopy DB' used 1 times\n",
      "    Subject 'galaxies morphology catalog' used 1 times\n",
      "    Subject 'large-scale structure of universe' used 1 times\n",
      "    Subject 'Photometry Survey data' used 1 times\n",
      "    Subject 'green bank' used 2 times\n",
      "    Subject 'magnetic field' used 3 times\n",
      "    Subject 'CoRoT N2 Public Archive - Stars with rotation periods from Affer and al.' used 1 times\n",
      "    Subject 'instruments' used 3 times\n",
      "    Subject 'DECaPS DR1 images' used 2 times\n",
      "    Subject 'standards' used 3 times\n",
      "    Subject 'exoplanet-surface-variability' used 1 times\n",
      "    Subject 'CoRoT' used 7 times\n",
      "    Subject 'GINCO' used 1 times\n",
      "    Subject 'stellar-parallax' used 1 times\n",
      "    Subject 'Local star-forming galaxies catalog' used 1 times\n",
      "    Subject 'labeled release' used 2 times\n",
      "    Subject 'Ultraviolet Images' used 1 times\n",
      "    Subject 'ESA, HREDA, Archive, ESAC' used 1 times\n",
      "    Subject 'ESA, ESASky, Archive, ESAC' used 1 times\n",
      "    Subject 'measurement-error-model' used 1 times\n",
      "    Subject 'NOIRLab Science Archive' used 2 times\n",
      "    Subject 'Survey with Schmidt telescope' used 1 times\n",
      "    Subject 'binary-stars' used 1456 times\n",
      "    Subject 'DES DR1 images in Stripe82' used 1 times\n",
      "    Subject 'HELIO, HEC, Event lists' used 1 times\n",
      "    Subject 'METAL ABUNDANCE' used 1 times\n",
      "    Subject 'galaxies local density catalog' used 1 times\n",
      "    Subject 'ARCHES SEDs' used 1 times\n",
      "    Subject 'stellar spectra' used 4 times\n",
      "    Subject 'Planets+Asteroids' used 0 times\n",
      "    Subject 'UKIDSS DR7, SIAP, Images' used 1 times\n",
      "    Subject 'Data Collection' used 1 times\n",
      "    Subject 'infrared: galaxies' used 1 times\n",
      "    Subject 'magnetophysics' used 1 times\n",
      "    Subject 'STARS' used 12226 times\n",
      "    Subject 'Positions' used 3 times\n",
      "    Subject 'Compilation of 1D spectra' used 1 times\n",
      "    Subject 'ESA, ISO, Archive, ESAC' used 1 times\n",
      "    Subject 'The Galaxy, Galaxy: structure, Galaxy: disk, Galaxy: bulge, Galaxy: halo, Galaxy: stellar content, Galaxy: kinematics and dynamics' used 1 times\n",
      "    Subject 'DES SVA1 images' used 1 times\n",
      "    Subject 'DES Year-3 calibrated images' used 1 times\n",
      "    Subject 'subject' used 1 times\n",
      "    Subject 'Gaia DR3' used 1 times\n",
      "    Subject 'Open skyNode' used 1 times\n",
      "    Subject 'jupiter-trojans' used 1 times\n",
      "    Subject 'stellar astrophysics' used 1 times\n",
      "    Subject 'IUE' used 1 times\n",
      "    Subject 'trojan-asteroids' used 1 times\n",
      "    Subject 'planetary observations, pointed solar instruments, H-alpha Network' used 1 times\n",
      "    Subject 'Gonggong' used 1 times\n",
      "    Subject 'minerals' used 1 times\n",
      "    Subject 'HiPS' used 7 times\n",
      "    Subject 'radiative-transfer' used 1 times\n",
      "    Subject 'DESAlert' used 1 times\n",
      "    Subject 'galactic evolution' used 1 times\n",
      "    Subject 'EXTRASOLAR PLANETS' used 4 times\n",
      "    Subject 'survey catalogue galaxies quasar' used 1 times\n",
      "    Subject 'World Data Center for Astronomy' used 1 times\n",
      "    Subject 'MyExperiment Search' used 1 times\n",
      "    Subject 'Integral obsloctap' used 1 times\n",
      "    Subject 'HELIO, HFC, Feature lists' used 1 times\n",
      "    Subject 'Stars: Magnetic fields' used 1 times\n",
      "    Subject 'helio' used 26 times\n",
      "    Subject 'magnetospheric physics' used 1 times\n",
      "    Subject 'COROT N2' used 6 times\n",
      "    Subject 'AMR' used 1 times\n",
      "    Subject 'Radio' used 3538 times\n",
      "    Subject 'optical' used 386 times\n",
      "    Subject 'INTEGRAL' used 2 times\n",
      "    Subject '4XMM Catalogue' used 1 times\n",
      "    Subject 'Binary and multiple stars' used 2 times\n",
      "    Subject 'gpu-computing' used 1 times\n",
      "    Subject 'Stars: evolution' used 2 times\n",
      "    Subject 'BL Lac' used 2 times\n",
      "    Subject 'water-vapor' used 1 times\n",
      "    Subject 'DECAPS DR1 images in Stripe82' used 1 times\n",
      "    Subject 'Molecular Line' used 1 times\n",
      "    Subject 'galaxies redshift catalog' used 1 times\n",
      "    Subject 'individual (M31) - galaxies: star clusters - globular clusters:\n",
      "general - star clusters: general' used 0 times\n",
      "    Subject 'solar-system-terrestrial-planets' used 1 times\n",
      "    Subject 'DISTANCE' used 660 times\n",
      "    Subject 'cosmic-microwave-background-radiation' used 1 times\n",
      "    Subject 'CoRoT N2 Public Archive - Stars with rotation periods from de Medeiros et al' used 1 times\n",
      "    Subject 'Optical Images Archive' used 1 times\n",
      "    Subject 'Hubble Space Telescope Observations' used 1 times\n",
      "    Subject 'NOIRLab Source Catalog DR2' used 2 times\n",
      "    Subject 'solar disc' used 1 times\n"
     ]
    }
   ],
   "source": [
    "\n",
    "##  Too many in CDS Vizier.  \n",
    "for i,p in enumerate(publishers['publisher'].data):\n",
    "    if 'cds' in p or p=='':  \n",
    "        continue\n",
    "    #  Look at all the metadata from this publisher\n",
    "    print(f\"\\nlooking at publisher {p}\")\n",
    "    query = \"\"\"\n",
    "    select res_subject, count(*) as cnt from rr.res_subject \n",
    "    group by res_subject order by cnt desc\n",
    "    \"\"\"\n",
    "    cnt_all = gavo_regtap.search(query)\n",
    "    if len(cnt_all) != 0:  \n",
    "        print(f\"    publisher {p} publishes {len(cnt_all)} distinct subjects\")\n",
    "    else: \n",
    "        print(f\"    publisher {p} publishes no subject metadata (?)\")\n",
    "        continue #  ?\n",
    "    df = pd.DataFrame(cnt_all)\n",
    "    for c,r in invalid_subjects:  \n",
    "        if c=='':  \n",
    "            matches = df['res_subject'].astype(str).str.len() == 0\n",
    "        elif '?' in c:\n",
    "            matches = df['res_subject'].str.contains(rf'[{r\"?\"}]', regex=True)\n",
    "        else:\n",
    "            matches = df['res_subject'].str.contains(c, case=False, na=False)\n",
    "        foo = df[matches]['cnt'].sum() # should only be one \n",
    "        if cnt == 0:  continue\n",
    "        print(f\"    Subject '{c}' used {cnt} times\")\n",
    "    break"
   ]
  },
  {
   "cell_type": "markdown",
   "id": "c17d4fd1-bb85-4667-8204-633a5ca66850",
   "metadata": {},
   "source": [
    "### Check 5:  concepts"
   ]
  },
  {
   "cell_type": "code",
   "execution_count": null,
   "id": "64bbacde-0b31-444f-a821-dbf94157bab3",
   "metadata": {},
   "outputs": [],
   "source": [
    "reg_uat_concept_list = gavo_regtap.search(\"select distinct uat_concept from rr.subject_uat\").to_table()[\"uat_concept\"].data\n",
    "print(f\"There are {len(reg_uat_concept_list)} distinct uat_concept values in the registry's subject_uat table\")"
   ]
  },
  {
   "cell_type": "code",
   "execution_count": null,
   "id": "2d2c67af-1c33-4088-ae78-db756b569e17",
   "metadata": {
    "scrolled": true
   },
   "outputs": [],
   "source": [
    "bad=[]\n",
    "for c in reg_uat_concept_list:\n",
    "    # lower case and replace - with space\n",
    "    if c.lower().replace(\"-\",\" \") not in uat_name_list:\n",
    "        bad.append(c)\n",
    "print(f\"There are {len(bad)} concepts not found in the UAT such as:\")\n",
    "print(bad[0:10])"
   ]
  },
  {
   "cell_type": "markdown",
   "id": "a0a2c8f3-4a80-4821-89a8-ba50ea99869c",
   "metadata": {},
   "source": [
    "## Testing subjects at HEASARC"
   ]
  },
  {
   "cell_type": "code",
   "execution_count": null,
   "id": "d2aade4c-415c-479e-9798-f70768dc6482",
   "metadata": {},
   "outputs": [],
   "source": [
    "hea_subjects = gavo_regtap.search(\"select top 10 res_subject, count(*) as cnt from rr.res_subject where ivoid ilike '%nasa.heasarc%' group by res_subject order by cnt desc\").to_table()\n",
    "hea_subjects"
   ]
  },
  {
   "cell_type": "code",
   "execution_count": null,
   "id": "525e4926-5fc4-459d-b94d-44617f8cb278",
   "metadata": {},
   "outputs": [],
   "source": [
    "hea_subjects = gavo_regtap.search(\"select top 10 res_subject, count(*) as cnt from rr.res_subject where ivoid ilike '%nasa.heasarc%' group by res_subject order by cnt desc\").to_table()\n",
    "culprits = []\n",
    "correct = []\n",
    "for i,s in enumerate(hea_subjects['res_subject'].data):\n",
    "    if s.lower() in uat_name_list:\n",
    "        correct.append((s,hea_subjects['cnt'][i]))\n",
    "    else:\n",
    "        culprits.append((s,subjects['cnt'][i]))\n",
    "print(f\"For HEASARC:  Found {len(culprits)} Registry res_subject entries that are not in the UAT and {len(correct)} that are.\")\n",
    "print(f\"  The top 10 bad subject values by number of instances are\")\n",
    "[print(f\"{c[0]}: {c[1]}\") for c in culprits[0:10] ]"
   ]
  },
  {
   "cell_type": "code",
   "execution_count": null,
   "id": "3dfb28e4-2839-43f3-b050-7fa8ee0c279c",
   "metadata": {
    "scrolled": true
   },
   "outputs": [],
   "source": []
  },
  {
   "cell_type": "code",
   "execution_count": null,
   "id": "e16c8604-98f5-442b-a200-d4a5ffe92847",
   "metadata": {},
   "outputs": [],
   "source": []
  },
  {
   "cell_type": "code",
   "execution_count": null,
   "id": "e157484e-6504-41ea-881e-1c3f5827d7df",
   "metadata": {},
   "outputs": [],
   "source": []
  },
  {
   "cell_type": "code",
   "execution_count": null,
   "id": "5d0f0b7a-a5ac-49d4-b138-36d0c4387a23",
   "metadata": {},
   "outputs": [],
   "source": []
  },
  {
   "cell_type": "markdown",
   "id": "3cf36ccc-431e-49b1-81c6-75858ecbd37f",
   "metadata": {},
   "source": [
    "## Checks from Markus' article:\n",
    "\n",
    "GAVO apparently puts \"0/0-11\" if there is no coverage information.  Hard to count how many therefore did not have any info or genuinely cover the full sky."
   ]
  },
  {
   "cell_type": "code",
   "execution_count": null,
   "id": "c2c699b7-afd6-48c5-9982-d5ed3cfeecc6",
   "metadata": {},
   "outputs": [],
   "source": [
    "compare(\"select count(*) as cnt from rr.stc_spatial where cast(coverage as VARCHAR) ilike '0/0-11'\")"
   ]
  },
  {
   "cell_type": "code",
   "execution_count": null,
   "id": "8adc6d04-b68e-4eb1-b50b-4f2db770396d",
   "metadata": {},
   "outputs": [],
   "source": [
    "gavo_regtap.search(\"select top 5 * from rr.res_role\")"
   ]
  },
  {
   "cell_type": "code",
   "execution_count": null,
   "id": "1b3904fc-5307-40d4-943e-43de809bb234",
   "metadata": {},
   "outputs": [],
   "source": [
    "publishers = gavo_regtap.search(\"\"\"\n",
    "select distinct role_ivoid as publisher, count(*) as cnt \n",
    "from rr.res_role \n",
    "where base_role = 'publisher' \n",
    "group by role_ivoid\n",
    "order by cnt desc\n",
    "\"\"\").to_table()[0:10]\n",
    "publishers"
   ]
  },
  {
   "cell_type": "code",
   "execution_count": null,
   "id": "3da365a1-90ba-43b9-8d51-525efa9e1119",
   "metadata": {},
   "outputs": [],
   "source": [
    "culprits = []\n",
    "for i,u in enumerate(all_ucds['ucd'].data):\n",
    "    if not check_ucd(u):\n",
    "        culprits.append((u,all_ucds['cnt'][i]))\n",
    "print(f\"Found {len(culprits)} invalid UCDs\")\n",
    "print(f\"  The top 10 bad UCD values by number of instances are\")\n",
    "x=[print(f\"{c[0]:25}: {c[1]}\") for c in culprits[0:10] ]"
   ]
  },
  {
   "cell_type": "code",
   "execution_count": null,
   "id": "532ed038-9827-485a-b8cc-0f46658f56df",
   "metadata": {},
   "outputs": [],
   "source": [
    "def count_bad_ucds( publisher ):\n",
    "    for i,u in enumerate(all_ucds['ucd'].data):\n",
    "        if not check_ucd(u):\n",
    "            culprits.append((u,all_ucds['cnt'][i]))\n",
    "print(f\"Found {len(culprits)} invalid UCDs\")\n",
    "print(f\"  The top 10 bad UCD values by number of instances are\")\n",
    "x=[print(f\"{c[0]:25}: {c[1]}\") for c in culprits[0:10] ]"
   ]
  },
  {
   "cell_type": "markdown",
   "id": "48180652-6476-4102-9a71-7d30dc9f2d1d",
   "metadata": {
    "jp-MarkdownHeadingCollapsed": true
   },
   "source": [
    "## To be expanded.  Now what to do with this?  \n",
    "\n",
    "* Report cross-checks between registries to their admins.  \n",
    "* Compile a report of issues as above and advertise at IVOA Interop's Registry (or Ops?) session.  \n",
    "* Compile a report of issues found for each publisher and email them yearly to request updates.  \n"
   ]
  },
  {
   "cell_type": "code",
   "execution_count": null,
   "id": "2880c300-afd3-435d-9b19-38facba07c6a",
   "metadata": {},
   "outputs": [],
   "source": []
  },
  {
   "cell_type": "code",
   "execution_count": null,
   "id": "d0b8a44a-6bf5-4cd8-857e-28c9c709a4c0",
   "metadata": {},
   "outputs": [],
   "source": []
  },
  {
   "cell_type": "markdown",
   "id": "9be35010-472d-4a0b-92c5-96edd9d19973",
   "metadata": {},
   "source": [
    "## Scratch "
   ]
  },
  {
   "cell_type": "code",
   "execution_count": null,
   "id": "884495cc-8b67-4761-8df9-1993e4222e9c",
   "metadata": {
    "scrolled": true
   },
   "outputs": [],
   "source": [
    "from astropy.io.votable.ucd import check_ucd\n",
    "query=\"\"\"\n",
    "  select distinct ucd, count(*) as cnt\n",
    "  from rr.table_column \n",
    "  group by ucd \n",
    "  order by cnt desc\n",
    "  \"\"\"\n",
    "result = gavo_regtap.search(query)\n",
    "all_ucds = result.to_table()\n",
    "pubs_with_bad_ucds = {}\n",
    "for i,u in enumerate(culprits['ucd'].data):\n",
    "    #  For each of the bad UCDs, increment a count for each publisher"
   ]
  },
  {
   "cell_type": "code",
   "execution_count": null,
   "id": "e3f56d18-c47f-482e-b09c-9a4f5f44dffb",
   "metadata": {},
   "outputs": [],
   "source": []
  },
  {
   "cell_type": "code",
   "execution_count": null,
   "id": "aa07409d-e608-4ab3-a693-ea9f74dec836",
   "metadata": {},
   "outputs": [],
   "source": []
  },
  {
   "cell_type": "code",
   "execution_count": null,
   "id": "53c3f101-eb6a-4064-a3c9-4b59cff7111c",
   "metadata": {},
   "outputs": [],
   "source": [
    "result = gavo_regtap.search(\"select count distinct(role_ivoid) from rr.res_role\")\n",
    "for r in result['role_"
   ]
  },
  {
   "cell_type": "code",
   "execution_count": null,
   "id": "5686fe15-9fcd-47f7-8ae9-36d251746051",
   "metadata": {},
   "outputs": [],
   "source": []
  },
  {
   "cell_type": "code",
   "execution_count": null,
   "id": "456859f5-6839-46ce-a209-6d2f0e11a0c9",
   "metadata": {},
   "outputs": [],
   "source": []
  },
  {
   "cell_type": "code",
   "execution_count": null,
   "id": "469a8d33-4f7c-4f8f-a5c6-8b61aad7943b",
   "metadata": {},
   "outputs": [],
   "source": []
  },
  {
   "cell_type": "code",
   "execution_count": null,
   "id": "fe717063-c31a-4ae9-992a-1c0a09a2dc09",
   "metadata": {},
   "outputs": [],
   "source": [
    "sias = gavo_regtap.search(\"select top 5 * from rr.capability where standard_id like '%sia%'\")\n",
    "sias.to_table()"
   ]
  },
  {
   "cell_type": "code",
   "execution_count": null,
   "id": "7c381cca-8f7f-42db-b0e2-9699fbb27873",
   "metadata": {},
   "outputs": [],
   "source": []
  },
  {
   "cell_type": "code",
   "execution_count": null,
   "id": "8c7514a5-6b0d-4c48-9bb3-610e02548668",
   "metadata": {},
   "outputs": [],
   "source": [
    "galex_sia = navo_old_regtap.search(\"select * from rr.capability where ivoid = 'ivo://archive.stsci.edu/sia/galex' \")\n",
    "galex_sia.to_table()"
   ]
  },
  {
   "cell_type": "code",
   "execution_count": null,
   "id": "7cf02045-3bbf-4a57-adf1-89dff2b1d7be",
   "metadata": {},
   "outputs": [],
   "source": [
    "querystart = \"\"\"\n",
    "    select * from rr.capability \n",
    "    where ivoid = 'ivo://archive.stsci.edu/sia/galex' \n",
    "    and standard_id ilike \n",
    "    \"\"\"\n",
    "## Works\n",
    "#galex_sia = gavo_regtap.search(f\"{querystart} '%/std/sia'\")\n",
    "## Does not work\n",
    "galex_sia = gavo_regtap.search(f\"{querystart} '%std/sia'\")\n",
    "galex_sia.to_table()"
   ]
  },
  {
   "cell_type": "markdown",
   "id": "f033e1c9-fe6e-4f70-a902-84ab4d3232f0",
   "metadata": {},
   "source": [
    "So the NAVO RegTAP ilike doesn't appreciate slashes?  "
   ]
  },
  {
   "cell_type": "code",
   "execution_count": null,
   "id": "53bf1eee-94f5-41d0-a387-7224741ee6ed",
   "metadata": {},
   "outputs": [],
   "source": [
    "compare(\"select count(*) as cnt from rr.capability where standard_id like '%sia'\")"
   ]
  },
  {
   "cell_type": "code",
   "execution_count": null,
   "id": "214c3f3f-40ee-4825-a85f-7ad9cc65c8b9",
   "metadata": {},
   "outputs": [],
   "source": []
  },
  {
   "cell_type": "code",
   "execution_count": 106,
   "id": "439ff7dd-5f89-46f1-81b7-14beb8f60cc1",
   "metadata": {},
   "outputs": [
    {
     "name": "stdout",
     "output_type": "stream",
     "text": [
      "send: b'POST /tap/sync HTTP/1.1\\r\\nHost: reg.g-vo.org\\r\\nUser-Agent: pyVO/1.6.2 Python/3.11.12 (Darwin)\\r\\nAccept-Encoding: gzip, deflate, br, zstd\\r\\nAccept: */*\\r\\nConnection: keep-alive\\r\\nContent-Length: 1606\\r\\nContent-Type: application/x-www-form-urlencoded\\r\\n\\r\\n'\n",
      "send: b'REQUEST=doQuery&LANG=ADQL&QUERY=SELECT%0Aivoid%2C+res_type%2C+short_name%2C+res_title%2C+content_level%2C+res_description%2C+reference_url%2C+creator_seq%2C+created%2C+updated%2C+rights%2C+content_type%2C+source_format%2C+source_value%2C+region_of_regard%2C+waveband%2C+%0A++ivo_string_agg%28COALESCE%28access_url%2C+%27%27%29%2C+%27%3A%3A%3Apy+VO+sep%3A%3A%3A%27%29+AS+access_urls%2C+%0A++ivo_string_agg%28COALESCE%28standard_id%2C+%27%27%29%2C+%27%3A%3A%3Apy+VO+sep%3A%3A%3A%27%29+AS+standard_ids%2C+%0A++ivo_string_agg%28COALESCE%28intf_type%2C+%27%27%29%2C+%27%3A%3A%3Apy+VO+sep%3A%3A%3A%27%29+AS+intf_types%2C+%0A++ivo_string_agg%28COALESCE%28intf_role%2C+%27%27%29%2C+%27%3A%3A%3Apy+VO+sep%3A%3A%3A%27%29+AS+intf_roles%2C+%0A++ivo_string_agg%28COALESCE%28cap_description%2C+%27%27%29%2C+%27%3A%3A%3Apy+VO+sep%3A%3A%3A%27%29+AS+cap_descriptions%0AFROM%0Arr.resource%0ANATURAL+LEFT+OUTER+JOIN+rr.capability%0ANATURAL+LEFT+OUTER+JOIN+rr.interface%0AWHERE%0A%28ivoid+IN+%28SELECT+DISTINCT+ivoid+FROM+rr.resource+WHERE+1%3Divo_hasword%28res_description%2C+%27heasarc%27%29+UNION+ALL+SELECT+DISTINCT+ivoid+FROM+rr.resource+WHERE+1%3Divo_hasword%28res_title%2C+%27heasarc%27%29+UNION+ALL+SELECT+DISTINCT+ivoid+FROM+rr.res_subject+WHERE+rr.res_subject.res_subject+ILIKE+%27%25heasarc%25%27%29%29%0A++AND+%28standard_id+IN+%28%27ivo%3A%2F%2Fivoa.net%2Fstd%2Ftap%27%29%29%0AGROUP+BY%0Aivoid%2C+res_type%2C+short_name%2C+res_title%2C+content_level%2C+res_description%2C+reference_url%2C+creator_seq%2C+created%2C+updated%2C+rights%2C+content_type%2C+source_format%2C+source_value%2C+region_of_regard%2C+waveband'\n",
      "reply: 'HTTP/1.1 200 OK\\r\\n'\n",
      "header: Transfer-Encoding: chunked\n",
      "header: Server: DaCHS/2.10 twistedWeb/22.4.0\n",
      "header: Date: Thu, 15 May 2025 20:14:32 GMT\n",
      "header: Content-Encoding: gzip\n",
      "header: Content-Type: application/x-votable+xml\n"
     ]
    }
   ],
   "source": [
    "results = vo.regsearch(keywords=['heasarc'],servicetype='tap')\n",
    "heatap = results[0]"
   ]
  },
  {
   "cell_type": "code",
   "execution_count": 107,
   "id": "5bca43fd-0803-4bae-8a51-4e2fe51e12c3",
   "metadata": {},
   "outputs": [
    {
     "name": "stdout",
     "output_type": "stream",
     "text": [
      "send: b'GET /xamin/vo/tap/capabilities HTTP/1.1\\r\\nHost: heasarc.gsfc.nasa.gov\\r\\nUser-Agent: pyVO/1.6.2 Python/3.11.12 (Darwin)\\r\\nAccept-Encoding: gzip, deflate, br, zstd\\r\\nAccept: */*\\r\\nConnection: keep-alive\\r\\n\\r\\n'\n",
      "reply: 'HTTP/1.1 200 OK\\r\\n'\n",
      "header: Date: Thu, 15 May 2025 20:14:37 GMT\n",
      "header: Server: WebServer/1.0\n",
      "header: X-Frame-Options: sameorigin\n",
      "header: Content-Type: text/xml;charset=UTF-8\n",
      "header: Content-Length: 2879\n",
      "header: Content-Security-Policy: frame-ancestors 'self' cms.nasa.gov www.nasa.gov beta.science.nasa.gov smd-cms.nasa.gov spaceplace.nasa.gov science.nasa.gov;\n",
      "header: Keep-Alive: timeout=15, max=100\n",
      "header: Connection: Keep-Alive\n",
      "header: Strict-Transport-Security: max-age=31536000; includeSubDomains\n",
      "header: Content-Security-Policy: upgrade-insecure-requests\n"
     ]
    },
    {
     "data": {
      "text/plain": [
       "<Capability standardID=ivo://ivoa.net/std/TAP>... 0 validationLevels, 1 interfaces ...</Capability>"
      ]
     },
     "execution_count": 107,
     "metadata": {},
     "output_type": "execute_result"
    }
   ],
   "source": [
    "heatap.service.get_tap_capability()"
   ]
  },
  {
   "cell_type": "code",
   "execution_count": 116,
   "id": "d048c82c-be11-47b3-a7c2-d11cbd90b085",
   "metadata": {},
   "outputs": [
    {
     "data": {
      "text/plain": [
       "['_baseurl',\n",
       " '_capability_description',\n",
       " '_session',\n",
       " '_description',\n",
       " '__module__',\n",
       " '__doc__',\n",
       " '__init__',\n",
       " '_get_metadata',\n",
       " 'description',\n",
       " 'params',\n",
       " 'columns',\n",
       " 'search',\n",
       " 'create_query',\n",
       " 'describe',\n",
       " 'baseurl',\n",
       " 'capability_description',\n",
       " '__repr__',\n",
       " '__dict__',\n",
       " '__weakref__',\n",
       " '__new__',\n",
       " '__hash__',\n",
       " '__str__',\n",
       " '__getattribute__',\n",
       " '__setattr__',\n",
       " '__delattr__',\n",
       " '__lt__',\n",
       " '__le__',\n",
       " '__eq__',\n",
       " '__ne__',\n",
       " '__gt__',\n",
       " '__ge__',\n",
       " '__reduce_ex__',\n",
       " '__reduce__',\n",
       " '__getstate__',\n",
       " '__subclasshook__',\n",
       " '__init_subclass__',\n",
       " '__format__',\n",
       " '__sizeof__',\n",
       " '__dir__',\n",
       " '__class__']"
      ]
     },
     "execution_count": 116,
     "metadata": {},
     "output_type": "execute_result"
    }
   ],
   "source": [
    "#results = vo.regsearch(keywords=['heasarc'],servicetype='image')\n",
    "xrissia = results[-1]\n",
    "xrissia.service.__dir__()"
   ]
  },
  {
   "cell_type": "code",
   "execution_count": null,
   "id": "48925409-43f0-47bf-8f01-62cd6bc8ab70",
   "metadata": {},
   "outputs": [],
   "source": []
  }
 ],
 "metadata": {
  "kernelspec": {
   "display_name": "Python (navo-env)",
   "language": "python",
   "name": "navo-env"
  },
  "language_info": {
   "codemirror_mode": {
    "name": "ipython",
    "version": 3
   },
   "file_extension": ".py",
   "mimetype": "text/x-python",
   "name": "python",
   "nbconvert_exporter": "python",
   "pygments_lexer": "ipython3",
   "version": "3.11.12"
  }
 },
 "nbformat": 4,
 "nbformat_minor": 5
}
